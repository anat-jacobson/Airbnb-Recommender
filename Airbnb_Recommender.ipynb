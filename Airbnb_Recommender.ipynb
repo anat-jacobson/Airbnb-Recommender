{
 "cells": [
  {
   "cell_type": "markdown",
   "metadata": {},
   "source": [
    "Import Relevant Data to Look into\n",
    "http://insideairbnb.com/get-the-data"
   ]
  },
  {
   "cell_type": "markdown",
   "metadata": {},
   "source": [
    "# Contents\n",
    "<l></l>\n",
    "\n",
    "<span style=\"font-size:1.2em;\">\n",
    "\n",
    "- <a href=\"#Overview\">Overview</a>\n",
    "\n",
    "- <a href=\"#Introduction and Business Case\">Introduction and Business Case</a>  \n",
    "\n",
    "- <a href=\"#Business Understandings\">Business Understandings</a>      \n",
    "\n",
    "- <a href=\"#Collaborative Filtering\">Collaborative Filtering</a>\n",
    "    \n",
    "    - <a href=\"#Imports\">Imports</a>\n",
    "    \n",
    "    - <a href=\"#Surprise Data & Split\">Surprise Data & Split</a>\n",
    "    \n",
    "    - <a href=\"#Baselines\">Baselines</a>\n",
    "    \n",
    "    - <a href=\"#SVD & Grid Searches\">SVD & Grid Searches</a>\n",
    "    \n",
    "    - <a href=\"#NMF & Grid Searches\">NMF & Grid Searches</a>\n",
    "    \n",
    "    - <a href=\"#SVD++ & Grid Searches\">SVD++ & Grid Searches</a>\n",
    "    \n",
    "    - <a href=\"#Model Evaluation\">Model Evaluation</a>\n",
    "    \n",
    "- <a href=\"#Recommendation Function\">Recommendation Function</a>\n",
    "    \n",
    "    - <a href=\"#Building\">Building</a>\n",
    "    \n",
    "    - <a href=\"#Function\">Function</a>\n",
    "    \n",
    "    - <a href=\"#Evaulation\">Evaulation</a>\n",
    "       \n",
    "- <a href=\"#Conclusion\">Conclusion</a>"
   ]
  },
  {
   "cell_type": "markdown",
   "metadata": {},
   "source": [
    "Referencing a lot of work done by: Alex Gastone\n",
    "\n",
    "- https://github.com/alexgastone/AirbnbRecommend/blob/master/Airbnb_CollabFiltering.ipynb. (Will be changing code more as continuing to iterate)\n",
    "- https://medium.com/@alexandra.gg150/how-to-build-a-recommender-system-for-airbnb-in-python-3a92ad500fa5\n",
    "\n",
    "Pkg info and other resources looking into: \n",
    "- https://towardsdatascience.com/4-python-libraries-to-detect-english-and-non-english-language-c82ad3efd430\n",
    "- https://pypi.org/project/langdetect/\n",
    "- https://pypi.org/project/google-trans-new/\n",
    "- https://stackoverflow.com/questions/43146528/how-to-extract-all-the-emojis-from-text\n",
    "- https://pypi.org/project/emoji/\n",
    "- https://www.pauldesalvo.com/extract-emojis-from-python-strings-and-chart-frequency-using-spacy-pandas-and-plotly/\n",
    "- https://wellsr.com/python/convert-text-to-emojis-and-vice-versa-in-python/#:~:text=To%20convert%20emojis%20in%20the,token%20with%20the%20corresponding%20text.\n",
    "- https://stackoverflow.com/questions/73108683/getting-error-cannot-import-name-unicode-emoji-from-emoji-unicode-codes\n",
    "- https://wellsr.com/python/convert-text-to-emojis-and-vice-versa-in-python/#:~:text=To%20convert%20emojis%20in%20the,token%20with%20the%20corresponding%20text."
   ]
  },
  {
   "cell_type": "markdown",
   "metadata": {},
   "source": [
    "# Milan Airbnb Recommender\n",
    "Creating a recommendation system for individuals who have stayed previously at Milan Airbnb and are wishing to at a new one. \n",
    "\n",
    "By: Anat Jacobson \n",
    "\n",
    "--- \n",
    "\n",
    "### Overview \n",
    "\n",
    "This project is based on data from previous visitors and reviewers of Milan's airbnb. The data has been used to create a various recommadation models and provide valuable insight into whether an airbnb would be liked or recommended by an individual or not. This can aid individ  This be extremely helpful for both guests and hosts when looking into where to stay next so that they could have a personalized experience that they could enjoy based on past experiences. \n"
   ]
  },
  {
   "cell_type": "markdown",
   "metadata": {},
   "source": [
    "### Introduction and Business Case\n",
    "\n",
    "There are thousands of Airbnb options within Milan but each one comes with different perks and ammenities. With so many listings available on the airbnb platform, it can be overwhelming for guests to find the perfect accommodation for their needs. A recommendation system could analyze a user's previous bookings, preferences, and behaviors to suggest listings that are likely to meet their needs and exceed their expectations. By providing personalized recommendations, a recommendation system could enhance the user experience on Airbnb and increase customer satisfaction, ultimately leading to higher retention rates and revenue for the platform.\n",
    "\n",
    "The data for this notebook has been provided by Inside Airbnb:  Airbnb through <a href=\"http://insideairbnb.com/milan\" >Milans data</a>.\n",
    "\n",
    "### Business Understandings\n",
    "\n",
    "#### Applications\n",
    "- Airbnb users can make informed decisions when deciding which airbnb to rent next and have a great experience\n",
    "- Airbnb itself will also benefit from users having more personalized expereience they would likely have higher retention and revenue rates when more customers are enjoying each airbnb stay. \n",
    "\n",
    "#### Data \n",
    "AJ EDIT THIS \n",
    "The dataset that was worked with after cleaning had over 53K wells in it with data that focused on the geographical information of the well as well as information of water source, payments, quality of water and other important features. \n",
    "\n",
    "The predictive measure in this set was whether the well is functional or not, positive being functional. The measure was initially in a seperate dataframe but was merged with the rest of the data to be able to accurately create a model. This cleaning and merging process is explained below. \n",
    "\n",
    "A few key metrics taken into account from this dataset were: \n",
    "\n",
    "- 5 Different quality groups of water\n",
    "- 26 regions\n",
    "- 1.8K funders\n",
    "- 7 Source types\n",
    "\n",
    "Additionally, the predictive measure was initailly a tirtiary measure and I changed it to binary that will be explained below as well. \n",
    "\n",
    "### Methodology\n",
    "Because of the many categorical features that can influence well functionality pricing, this project investigates features and their effects through various types of models in an attempt to best predict the well condition. This is done through the use of logistic regression, decision trees and random forest. Our predictor for this model is whether the well is functioning or not, positive class being functional. Our measure for this project will be based on the highest f1 score since for the purposes of this project, we not only care whether the prediction is positive cases but also whether they are accurately positive and whether negative results are accurately negative. \n",
    "\n",
    "---"
   ]
  },
  {
   "cell_type": "markdown",
   "metadata": {},
   "source": [
    "## Data Exploration and Analysis\n",
    "Importing all packages needed and creating function for opening zip file. "
   ]
  },
  {
   "cell_type": "code",
   "execution_count": 2,
   "metadata": {},
   "outputs": [
    {
     "name": "stdout",
     "output_type": "stream",
     "text": [
      "Requirement already satisfied: langdetect in /opt/anaconda3/envs/learn-env/lib/python3.8/site-packages (1.0.9)\r\n",
      "Requirement already satisfied: six in /opt/anaconda3/envs/learn-env/lib/python3.8/site-packages (from langdetect) (1.15.0)\r\n"
     ]
    },
    {
     "name": "stderr",
     "output_type": "stream",
     "text": [
      "[nltk_data] Downloading package vader_lexicon to\n",
      "[nltk_data]     /Users/anatjacobson/nltk_data...\n",
      "[nltk_data]   Package vader_lexicon is already up-to-date!\n"
     ]
    }
   ],
   "source": [
    "#imports necessary downloads\n",
    "\n",
    "import pandas as pd\n",
    "import numpy as np\n",
    "import zipfile\n",
    "\n",
    "import matplotlib.pyplot as plt\n",
    "\n",
    "!pip install langdetect\n",
    "from langdetect import detect\n",
    "\n",
    "\n",
    "import nltk\n",
    "from nltk.sentiment import SentimentIntensityAnalyzer\n",
    "nltk.download('vader_lexicon')\n",
    "\n",
    "from sklearn.feature_extraction.text import TfidfVectorizer\n",
    "\n",
    "import re\n"
   ]
  },
  {
   "cell_type": "code",
   "execution_count": 3,
   "metadata": {
    "scrolled": false
   },
   "outputs": [
    {
     "name": "stdout",
     "output_type": "stream",
     "text": [
      "showing info https://raw.githubusercontent.com/nltk/nltk_data/gh-pages/index.xml\n"
     ]
    },
    {
     "data": {
      "text/plain": [
       "True"
      ]
     },
     "execution_count": 3,
     "metadata": {},
     "output_type": "execute_result"
    }
   ],
   "source": [
    "nltk.download()"
   ]
  },
  {
   "cell_type": "markdown",
   "metadata": {},
   "source": [
    "## Import CSVs and Clean all Data Needed\n",
    "2 Datasets imported: \n",
    "- reviews: contains all the reviews of the dataset, reviewer ID's, and listing IDs\n",
    "- listings: contains all the features of the listings and the listing IDs.\n",
    "    - For the purposes of this project, the listings data will only be used for comparisson purposes when looking at how features of recommended airbnbs for users compare to actual airbnbs a user has reviewed. For this reason, we will not be doing much cleaning on this dataset. \n",
    "\n",
    "Will be working with both of these dataframes to recommend the best user airbnbs! "
   ]
  },
  {
   "cell_type": "code",
   "execution_count": 13,
   "metadata": {
    "collapsed": true
   },
   "outputs": [
    {
     "ename": "KeyError",
     "evalue": "\"There is no item named 'Data/reviews.csv' in the archive\"",
     "output_type": "error",
     "traceback": [
      "\u001b[0;31m---------------------------------------------------------------------------\u001b[0m",
      "\u001b[0;31mKeyError\u001b[0m                                  Traceback (most recent call last)",
      "\u001b[0;32m<ipython-input-13-920d81296b6a>\u001b[0m in \u001b[0;36m<module>\u001b[0;34m\u001b[0m\n\u001b[1;32m      1\u001b[0m \u001b[0;31m#opening and saving zip file for reviews\u001b[0m\u001b[0;34m\u001b[0m\u001b[0;34m\u001b[0m\u001b[0;34m\u001b[0m\u001b[0m\n\u001b[1;32m      2\u001b[0m \u001b[0;32mwith\u001b[0m \u001b[0mzipfile\u001b[0m\u001b[0;34m.\u001b[0m\u001b[0mZipFile\u001b[0m\u001b[0;34m(\u001b[0m\u001b[0;34m\"Data/reviews.csv.zip\"\u001b[0m\u001b[0;34m)\u001b[0m \u001b[0;32mas\u001b[0m \u001b[0mz\u001b[0m\u001b[0;34m:\u001b[0m\u001b[0;34m\u001b[0m\u001b[0;34m\u001b[0m\u001b[0m\n\u001b[0;32m----> 3\u001b[0;31m    \u001b[0;32mwith\u001b[0m \u001b[0mz\u001b[0m\u001b[0;34m.\u001b[0m\u001b[0mopen\u001b[0m\u001b[0;34m(\u001b[0m\u001b[0;34m\"Data/reviews.csv\"\u001b[0m\u001b[0;34m)\u001b[0m \u001b[0;32mas\u001b[0m \u001b[0mf\u001b[0m\u001b[0;34m:\u001b[0m\u001b[0;34m\u001b[0m\u001b[0;34m\u001b[0m\u001b[0m\n\u001b[0m\u001b[1;32m      4\u001b[0m       \u001b[0mreviews\u001b[0m \u001b[0;34m=\u001b[0m \u001b[0mpd\u001b[0m\u001b[0;34m.\u001b[0m\u001b[0mread_csv\u001b[0m\u001b[0;34m(\u001b[0m\u001b[0mf\u001b[0m\u001b[0;34m)\u001b[0m\u001b[0;34m\u001b[0m\u001b[0;34m\u001b[0m\u001b[0m\n\u001b[1;32m      5\u001b[0m       \u001b[0mreviews\u001b[0m\u001b[0;34m.\u001b[0m\u001b[0mhead\u001b[0m\u001b[0;34m(\u001b[0m\u001b[0;34m)\u001b[0m\u001b[0;34m\u001b[0m\u001b[0;34m\u001b[0m\u001b[0m\n",
      "\u001b[0;32m/opt/anaconda3/envs/learn-env/lib/python3.8/zipfile.py\u001b[0m in \u001b[0;36mopen\u001b[0;34m(self, name, mode, pwd, force_zip64)\u001b[0m\n\u001b[1;32m   1512\u001b[0m         \u001b[0;32melse\u001b[0m\u001b[0;34m:\u001b[0m\u001b[0;34m\u001b[0m\u001b[0;34m\u001b[0m\u001b[0m\n\u001b[1;32m   1513\u001b[0m             \u001b[0;31m# Get info object for name\u001b[0m\u001b[0;34m\u001b[0m\u001b[0;34m\u001b[0m\u001b[0;34m\u001b[0m\u001b[0m\n\u001b[0;32m-> 1514\u001b[0;31m             \u001b[0mzinfo\u001b[0m \u001b[0;34m=\u001b[0m \u001b[0mself\u001b[0m\u001b[0;34m.\u001b[0m\u001b[0mgetinfo\u001b[0m\u001b[0;34m(\u001b[0m\u001b[0mname\u001b[0m\u001b[0;34m)\u001b[0m\u001b[0;34m\u001b[0m\u001b[0;34m\u001b[0m\u001b[0m\n\u001b[0m\u001b[1;32m   1515\u001b[0m \u001b[0;34m\u001b[0m\u001b[0m\n\u001b[1;32m   1516\u001b[0m         \u001b[0;32mif\u001b[0m \u001b[0mmode\u001b[0m \u001b[0;34m==\u001b[0m \u001b[0;34m'w'\u001b[0m\u001b[0;34m:\u001b[0m\u001b[0;34m\u001b[0m\u001b[0;34m\u001b[0m\u001b[0m\n",
      "\u001b[0;32m/opt/anaconda3/envs/learn-env/lib/python3.8/zipfile.py\u001b[0m in \u001b[0;36mgetinfo\u001b[0;34m(self, name)\u001b[0m\n\u001b[1;32m   1439\u001b[0m         \u001b[0minfo\u001b[0m \u001b[0;34m=\u001b[0m \u001b[0mself\u001b[0m\u001b[0;34m.\u001b[0m\u001b[0mNameToInfo\u001b[0m\u001b[0;34m.\u001b[0m\u001b[0mget\u001b[0m\u001b[0;34m(\u001b[0m\u001b[0mname\u001b[0m\u001b[0;34m)\u001b[0m\u001b[0;34m\u001b[0m\u001b[0;34m\u001b[0m\u001b[0m\n\u001b[1;32m   1440\u001b[0m         \u001b[0;32mif\u001b[0m \u001b[0minfo\u001b[0m \u001b[0;32mis\u001b[0m \u001b[0;32mNone\u001b[0m\u001b[0;34m:\u001b[0m\u001b[0;34m\u001b[0m\u001b[0;34m\u001b[0m\u001b[0m\n\u001b[0;32m-> 1441\u001b[0;31m             raise KeyError(\n\u001b[0m\u001b[1;32m   1442\u001b[0m                 'There is no item named %r in the archive' % name)\n\u001b[1;32m   1443\u001b[0m \u001b[0;34m\u001b[0m\u001b[0m\n",
      "\u001b[0;31mKeyError\u001b[0m: \"There is no item named 'Data/reviews.csv' in the archive\""
     ]
    }
   ],
   "source": [
    "#opening and saving zip file for reviews\n",
    "with zipfile.ZipFile(\"Data/reviews.csv.zip\") as z:\n",
    "   with z.open(\"Data/reviews.csv\") as f:              \n",
    "      reviews = pd.read_csv(f)\n",
    "      reviews.head()"
   ]
  },
  {
   "cell_type": "code",
   "execution_count": 9,
   "metadata": {
    "collapsed": true
   },
   "outputs": [
    {
     "ename": "KeyError",
     "evalue": "\"There is no item named 'Data/reviews.csv' in the archive\"",
     "output_type": "error",
     "traceback": [
      "\u001b[0;31m---------------------------------------------------------------------------\u001b[0m",
      "\u001b[0;31mKeyError\u001b[0m                                  Traceback (most recent call last)",
      "\u001b[0;32m<ipython-input-9-fee667491917>\u001b[0m in \u001b[0;36m<module>\u001b[0;34m\u001b[0m\n\u001b[1;32m      1\u001b[0m \u001b[0;32mwith\u001b[0m \u001b[0mzipfile\u001b[0m\u001b[0;34m.\u001b[0m\u001b[0mZipFile\u001b[0m\u001b[0;34m(\u001b[0m\u001b[0;34m'Data/reviews.csv.zip'\u001b[0m\u001b[0;34m)\u001b[0m \u001b[0;32mas\u001b[0m \u001b[0mmyzip\u001b[0m\u001b[0;34m:\u001b[0m\u001b[0;34m\u001b[0m\u001b[0;34m\u001b[0m\u001b[0m\n\u001b[1;32m      2\u001b[0m \u001b[0;34m\u001b[0m\u001b[0m\n\u001b[0;32m----> 3\u001b[0;31m  \u001b[0;32mwith\u001b[0m \u001b[0mmyzip\u001b[0m\u001b[0;34m.\u001b[0m\u001b[0mopen\u001b[0m\u001b[0;34m(\u001b[0m\u001b[0;34m\"Data/reviews.csv\"\u001b[0m\u001b[0;34m)\u001b[0m \u001b[0;32mas\u001b[0m \u001b[0mmyfile\u001b[0m\u001b[0;34m:\u001b[0m\u001b[0;34m\u001b[0m\u001b[0;34m\u001b[0m\u001b[0m\n\u001b[0m\u001b[1;32m      4\u001b[0m \u001b[0;34m\u001b[0m\u001b[0m\n\u001b[1;32m      5\u001b[0m       \u001b[0mprint\u001b[0m\u001b[0;34m(\u001b[0m\u001b[0mmyfile\u001b[0m\u001b[0;34m.\u001b[0m\u001b[0mreadline\u001b[0m\u001b[0;34m(\u001b[0m\u001b[0;34m)\u001b[0m\u001b[0;34m)\u001b[0m\u001b[0;34m\u001b[0m\u001b[0;34m\u001b[0m\u001b[0m\n",
      "\u001b[0;32m/opt/anaconda3/envs/learn-env/lib/python3.8/zipfile.py\u001b[0m in \u001b[0;36mopen\u001b[0;34m(self, name, mode, pwd, force_zip64)\u001b[0m\n\u001b[1;32m   1512\u001b[0m         \u001b[0;32melse\u001b[0m\u001b[0;34m:\u001b[0m\u001b[0;34m\u001b[0m\u001b[0;34m\u001b[0m\u001b[0m\n\u001b[1;32m   1513\u001b[0m             \u001b[0;31m# Get info object for name\u001b[0m\u001b[0;34m\u001b[0m\u001b[0;34m\u001b[0m\u001b[0;34m\u001b[0m\u001b[0m\n\u001b[0;32m-> 1514\u001b[0;31m             \u001b[0mzinfo\u001b[0m \u001b[0;34m=\u001b[0m \u001b[0mself\u001b[0m\u001b[0;34m.\u001b[0m\u001b[0mgetinfo\u001b[0m\u001b[0;34m(\u001b[0m\u001b[0mname\u001b[0m\u001b[0;34m)\u001b[0m\u001b[0;34m\u001b[0m\u001b[0;34m\u001b[0m\u001b[0m\n\u001b[0m\u001b[1;32m   1515\u001b[0m \u001b[0;34m\u001b[0m\u001b[0m\n\u001b[1;32m   1516\u001b[0m         \u001b[0;32mif\u001b[0m \u001b[0mmode\u001b[0m \u001b[0;34m==\u001b[0m \u001b[0;34m'w'\u001b[0m\u001b[0;34m:\u001b[0m\u001b[0;34m\u001b[0m\u001b[0;34m\u001b[0m\u001b[0m\n",
      "\u001b[0;32m/opt/anaconda3/envs/learn-env/lib/python3.8/zipfile.py\u001b[0m in \u001b[0;36mgetinfo\u001b[0;34m(self, name)\u001b[0m\n\u001b[1;32m   1439\u001b[0m         \u001b[0minfo\u001b[0m \u001b[0;34m=\u001b[0m \u001b[0mself\u001b[0m\u001b[0;34m.\u001b[0m\u001b[0mNameToInfo\u001b[0m\u001b[0;34m.\u001b[0m\u001b[0mget\u001b[0m\u001b[0;34m(\u001b[0m\u001b[0mname\u001b[0m\u001b[0;34m)\u001b[0m\u001b[0;34m\u001b[0m\u001b[0;34m\u001b[0m\u001b[0m\n\u001b[1;32m   1440\u001b[0m         \u001b[0;32mif\u001b[0m \u001b[0minfo\u001b[0m \u001b[0;32mis\u001b[0m \u001b[0;32mNone\u001b[0m\u001b[0;34m:\u001b[0m\u001b[0;34m\u001b[0m\u001b[0;34m\u001b[0m\u001b[0m\n\u001b[0;32m-> 1441\u001b[0;31m             raise KeyError(\n\u001b[0m\u001b[1;32m   1442\u001b[0m                 'There is no item named %r in the archive' % name)\n\u001b[1;32m   1443\u001b[0m \u001b[0;34m\u001b[0m\u001b[0m\n",
      "\u001b[0;31mKeyError\u001b[0m: \"There is no item named 'Data/reviews.csv' in the archive\""
     ]
    }
   ],
   "source": [
    "with zipfile.ZipFile('Data/reviews.csv.zip') as myzip:\n",
    "\n",
    " with myzip.open(\"Data/reviews.csv\") as myfile:\n",
    "\n",
    "      print(myfile.readline())"
   ]
  },
  {
   "cell_type": "code",
   "execution_count": 12,
   "metadata": {},
   "outputs": [],
   "source": [
    "reviews = pd.read_csv('Data/reviews.csv')"
   ]
  },
  {
   "cell_type": "code",
   "execution_count": 11,
   "metadata": {},
   "outputs": [],
   "source": [
    "#importing and saving listings file\n",
    "listings = pd.read_csv('Data/listings.csv')"
   ]
  },
  {
   "cell_type": "code",
   "execution_count": 14,
   "metadata": {
    "scrolled": true
   },
   "outputs": [],
   "source": [
    "#dropping all columns that will not be relevant for the purposes of this project\n",
    "listings.drop(columns = ['listing_url', 'scrape_id', 'last_scraped', 'source', 'picture_url',\n",
    "                        'host_id',  'license', 'calculated_host_listings_count_shared_rooms',\n",
    "                        'calculated_host_listings_count_entire_homes', 'reviews_per_month',\n",
    "                        'calculated_host_listings_count_private_rooms', 'calculated_host_listings_count',\n",
    "                        'first_review', 'last_review', 'host_since', 'host_url', 'minimum_nights',\n",
    "                        'minimum_minimum_nights', 'maximum_maximum_nights', 'minimum_maximum_nights',\n",
    "                         'maximum_nights_avg_ntm', 'minimum_nights_avg_ntm', 'longitude', 'latitude',\n",
    "                        'bathrooms', 'calendar_updated', 'availability_30', 'availability_60',\n",
    "                        'availability_90', 'availability_365', 'neighbourhood_group_cleansed',\n",
    "                        'neighbourhood', 'has_availability', 'bathrooms_text', 'host_about',\n",
    "                        'host_thumbnail_url', 'host_picture_url', 'maximum_minimum_nights',\n",
    "                        'maximum_nights', 'price', 'host_has_profile_pic', 'host_listings_count',\n",
    "                        'host_neighbourhood', 'host_verifications', 'host_total_listings_count',\n",
    "                        'number_of_reviews_l30d', 'number_of_reviews_ltm', 'calendar_last_scraped',\n",
    "                        'number_of_reviews'], \n",
    "              \n",
    "              \n",
    "              inplace = True)"
   ]
  },
  {
   "cell_type": "code",
   "execution_count": 15,
   "metadata": {
    "scrolled": true
   },
   "outputs": [
    {
     "name": "stdout",
     "output_type": "stream",
     "text": [
      "reviews shape:  (611804, 6)\n"
     ]
    },
    {
     "data": {
      "text/html": [
       "<div>\n",
       "<style scoped>\n",
       "    .dataframe tbody tr th:only-of-type {\n",
       "        vertical-align: middle;\n",
       "    }\n",
       "\n",
       "    .dataframe tbody tr th {\n",
       "        vertical-align: top;\n",
       "    }\n",
       "\n",
       "    .dataframe thead th {\n",
       "        text-align: right;\n",
       "    }\n",
       "</style>\n",
       "<table border=\"1\" class=\"dataframe\">\n",
       "  <thead>\n",
       "    <tr style=\"text-align: right;\">\n",
       "      <th></th>\n",
       "      <th>listing_id</th>\n",
       "      <th>id</th>\n",
       "      <th>date</th>\n",
       "      <th>reviewer_id</th>\n",
       "      <th>reviewer_name</th>\n",
       "      <th>comments</th>\n",
       "    </tr>\n",
       "  </thead>\n",
       "  <tbody>\n",
       "    <tr>\n",
       "      <th>0</th>\n",
       "      <td>6400</td>\n",
       "      <td>36772</td>\n",
       "      <td>2010-04-19</td>\n",
       "      <td>94463</td>\n",
       "      <td>Hyun</td>\n",
       "      <td>I had such a great stay at 'the studio.'  Fran...</td>\n",
       "    </tr>\n",
       "    <tr>\n",
       "      <th>1</th>\n",
       "      <td>6400</td>\n",
       "      <td>227727</td>\n",
       "      <td>2011-04-16</td>\n",
       "      <td>415910</td>\n",
       "      <td>Tej</td>\n",
       "      <td>Staying at Francesca's and Alberto's place was...</td>\n",
       "    </tr>\n",
       "    <tr>\n",
       "      <th>2</th>\n",
       "      <td>6400</td>\n",
       "      <td>1162608</td>\n",
       "      <td>2012-04-22</td>\n",
       "      <td>415910</td>\n",
       "      <td>Tej</td>\n",
       "      <td>This is my second time staying with Francesca ...</td>\n",
       "    </tr>\n",
       "    <tr>\n",
       "      <th>3</th>\n",
       "      <td>6400</td>\n",
       "      <td>11670681</td>\n",
       "      <td>2014-04-11</td>\n",
       "      <td>8464658</td>\n",
       "      <td>Isabelle</td>\n",
       "      <td>Ein wunderbares Zimmer mit privatem Bad/ WC, a...</td>\n",
       "    </tr>\n",
       "    <tr>\n",
       "      <th>4</th>\n",
       "      <td>6400</td>\n",
       "      <td>11780336</td>\n",
       "      <td>2014-04-14</td>\n",
       "      <td>5427294</td>\n",
       "      <td>Hatice</td>\n",
       "      <td>I was lucky so I have stayed with Francesca, A...</td>\n",
       "    </tr>\n",
       "  </tbody>\n",
       "</table>\n",
       "</div>"
      ],
      "text/plain": [
       "   listing_id        id        date  reviewer_id reviewer_name  \\\n",
       "0        6400     36772  2010-04-19        94463          Hyun   \n",
       "1        6400    227727  2011-04-16       415910           Tej   \n",
       "2        6400   1162608  2012-04-22       415910           Tej   \n",
       "3        6400  11670681  2014-04-11      8464658      Isabelle   \n",
       "4        6400  11780336  2014-04-14      5427294        Hatice   \n",
       "\n",
       "                                            comments  \n",
       "0  I had such a great stay at 'the studio.'  Fran...  \n",
       "1  Staying at Francesca's and Alberto's place was...  \n",
       "2  This is my second time staying with Francesca ...  \n",
       "3  Ein wunderbares Zimmer mit privatem Bad/ WC, a...  \n",
       "4  I was lucky so I have stayed with Francesca, A...  "
      ]
     },
     "metadata": {},
     "output_type": "display_data"
    }
   ],
   "source": [
    "#checking the shape of the dataframe\n",
    "print('reviews shape: ', reviews.shape)\n",
    "\n",
    "#looking at the first 5 rows of the dataframe \n",
    "display(reviews.head())\n"
   ]
  },
  {
   "cell_type": "code",
   "execution_count": 16,
   "metadata": {},
   "outputs": [
    {
     "data": {
      "text/plain": [
       "611804"
      ]
     },
     "execution_count": 16,
     "metadata": {},
     "output_type": "execute_result"
    }
   ],
   "source": [
    "#Running a count on the number of reviews\n",
    "reviews['reviewer_id'].count()"
   ]
  },
  {
   "cell_type": "code",
   "execution_count": 17,
   "metadata": {
    "scrolled": true
   },
   "outputs": [
    {
     "data": {
      "text/plain": [
       "547728"
      ]
     },
     "execution_count": 17,
     "metadata": {},
     "output_type": "execute_result"
    }
   ],
   "source": [
    "#showing a count of the number of unique reviewers\n",
    "reviews['reviewer_id'].nunique()"
   ]
  },
  {
   "cell_type": "markdown",
   "metadata": {},
   "source": [
    "Checking out how many nulls we have. We mostly care about null comments since we will need to remove those. "
   ]
  },
  {
   "cell_type": "code",
   "execution_count": 18,
   "metadata": {
    "scrolled": true
   },
   "outputs": [
    {
     "name": "stdout",
     "output_type": "stream",
     "text": [
      "<class 'pandas.core.frame.DataFrame'>\n",
      "RangeIndex: 611804 entries, 0 to 611803\n",
      "Data columns (total 6 columns):\n",
      " #   Column         Non-Null Count   Dtype \n",
      "---  ------         --------------   ----- \n",
      " 0   listing_id     611804 non-null  int64 \n",
      " 1   id             611804 non-null  int64 \n",
      " 2   date           611804 non-null  object\n",
      " 3   reviewer_id    611804 non-null  int64 \n",
      " 4   reviewer_name  611804 non-null  object\n",
      " 5   comments       611777 non-null  object\n",
      "dtypes: int64(3), object(3)\n",
      "memory usage: 28.0+ MB\n"
     ]
    }
   ],
   "source": [
    "reviews.info()"
   ]
  },
  {
   "cell_type": "markdown",
   "metadata": {},
   "source": [
    "Not bad! We are going to drop rows with null comments now since a null comment is useless for our recommendation system. "
   ]
  },
  {
   "cell_type": "code",
   "execution_count": 19,
   "metadata": {},
   "outputs": [],
   "source": [
    "reviews = reviews.dropna()"
   ]
  },
  {
   "cell_type": "markdown",
   "metadata": {},
   "source": [
    "#### Identifying our sample dataset\n",
    "Below, will be doing  a groupby below to check how many reviews a given reviewer gives. Will then be checking top 50 sorting from greatest to least. \n",
    "- The reasoning behind this preliminary analysis is to see if there is enough data to run this recommendation system on for it to be statistically significant. If for example there were only 10 people who gave more than 1 review, this would be too small of a dataset to work with. "
   ]
  },
  {
   "cell_type": "code",
   "execution_count": 21,
   "metadata": {
    "scrolled": true
   },
   "outputs": [
    {
     "data": {
      "text/html": [
       "<div>\n",
       "<style scoped>\n",
       "    .dataframe tbody tr th:only-of-type {\n",
       "        vertical-align: middle;\n",
       "    }\n",
       "\n",
       "    .dataframe tbody tr th {\n",
       "        vertical-align: top;\n",
       "    }\n",
       "\n",
       "    .dataframe thead th {\n",
       "        text-align: right;\n",
       "    }\n",
       "</style>\n",
       "<table border=\"1\" class=\"dataframe\">\n",
       "  <thead>\n",
       "    <tr style=\"text-align: right;\">\n",
       "      <th></th>\n",
       "      <th>listing_id</th>\n",
       "      <th>id</th>\n",
       "      <th>date</th>\n",
       "      <th>reviewer_name</th>\n",
       "      <th>comments</th>\n",
       "    </tr>\n",
       "    <tr>\n",
       "      <th>reviewer_id</th>\n",
       "      <th></th>\n",
       "      <th></th>\n",
       "      <th></th>\n",
       "      <th></th>\n",
       "      <th></th>\n",
       "    </tr>\n",
       "  </thead>\n",
       "  <tbody>\n",
       "    <tr>\n",
       "      <th>21546831</th>\n",
       "      <td>55</td>\n",
       "      <td>55</td>\n",
       "      <td>55</td>\n",
       "      <td>55</td>\n",
       "      <td>55</td>\n",
       "    </tr>\n",
       "    <tr>\n",
       "      <th>4458363</th>\n",
       "      <td>54</td>\n",
       "      <td>54</td>\n",
       "      <td>54</td>\n",
       "      <td>54</td>\n",
       "      <td>54</td>\n",
       "    </tr>\n",
       "    <tr>\n",
       "      <th>41371840</th>\n",
       "      <td>44</td>\n",
       "      <td>44</td>\n",
       "      <td>44</td>\n",
       "      <td>44</td>\n",
       "      <td>44</td>\n",
       "    </tr>\n",
       "    <tr>\n",
       "      <th>31058107</th>\n",
       "      <td>42</td>\n",
       "      <td>42</td>\n",
       "      <td>42</td>\n",
       "      <td>42</td>\n",
       "      <td>42</td>\n",
       "    </tr>\n",
       "    <tr>\n",
       "      <th>26149575</th>\n",
       "      <td>38</td>\n",
       "      <td>38</td>\n",
       "      <td>38</td>\n",
       "      <td>38</td>\n",
       "      <td>38</td>\n",
       "    </tr>\n",
       "    <tr>\n",
       "      <th>65479491</th>\n",
       "      <td>37</td>\n",
       "      <td>37</td>\n",
       "      <td>37</td>\n",
       "      <td>37</td>\n",
       "      <td>37</td>\n",
       "    </tr>\n",
       "    <tr>\n",
       "      <th>432993993</th>\n",
       "      <td>36</td>\n",
       "      <td>36</td>\n",
       "      <td>36</td>\n",
       "      <td>36</td>\n",
       "      <td>36</td>\n",
       "    </tr>\n",
       "    <tr>\n",
       "      <th>90675773</th>\n",
       "      <td>34</td>\n",
       "      <td>34</td>\n",
       "      <td>34</td>\n",
       "      <td>34</td>\n",
       "      <td>34</td>\n",
       "    </tr>\n",
       "    <tr>\n",
       "      <th>257621892</th>\n",
       "      <td>32</td>\n",
       "      <td>32</td>\n",
       "      <td>32</td>\n",
       "      <td>32</td>\n",
       "      <td>32</td>\n",
       "    </tr>\n",
       "    <tr>\n",
       "      <th>43288744</th>\n",
       "      <td>29</td>\n",
       "      <td>29</td>\n",
       "      <td>29</td>\n",
       "      <td>29</td>\n",
       "      <td>29</td>\n",
       "    </tr>\n",
       "    <tr>\n",
       "      <th>19606235</th>\n",
       "      <td>29</td>\n",
       "      <td>29</td>\n",
       "      <td>29</td>\n",
       "      <td>29</td>\n",
       "      <td>29</td>\n",
       "    </tr>\n",
       "    <tr>\n",
       "      <th>16081424</th>\n",
       "      <td>29</td>\n",
       "      <td>29</td>\n",
       "      <td>29</td>\n",
       "      <td>29</td>\n",
       "      <td>29</td>\n",
       "    </tr>\n",
       "    <tr>\n",
       "      <th>46684961</th>\n",
       "      <td>28</td>\n",
       "      <td>28</td>\n",
       "      <td>28</td>\n",
       "      <td>28</td>\n",
       "      <td>28</td>\n",
       "    </tr>\n",
       "    <tr>\n",
       "      <th>33142442</th>\n",
       "      <td>28</td>\n",
       "      <td>28</td>\n",
       "      <td>28</td>\n",
       "      <td>28</td>\n",
       "      <td>28</td>\n",
       "    </tr>\n",
       "    <tr>\n",
       "      <th>17698658</th>\n",
       "      <td>27</td>\n",
       "      <td>27</td>\n",
       "      <td>27</td>\n",
       "      <td>27</td>\n",
       "      <td>27</td>\n",
       "    </tr>\n",
       "    <tr>\n",
       "      <th>56699420</th>\n",
       "      <td>27</td>\n",
       "      <td>27</td>\n",
       "      <td>27</td>\n",
       "      <td>27</td>\n",
       "      <td>27</td>\n",
       "    </tr>\n",
       "    <tr>\n",
       "      <th>53562334</th>\n",
       "      <td>26</td>\n",
       "      <td>26</td>\n",
       "      <td>26</td>\n",
       "      <td>26</td>\n",
       "      <td>26</td>\n",
       "    </tr>\n",
       "    <tr>\n",
       "      <th>7305189</th>\n",
       "      <td>26</td>\n",
       "      <td>26</td>\n",
       "      <td>26</td>\n",
       "      <td>26</td>\n",
       "      <td>26</td>\n",
       "    </tr>\n",
       "    <tr>\n",
       "      <th>76372584</th>\n",
       "      <td>25</td>\n",
       "      <td>25</td>\n",
       "      <td>25</td>\n",
       "      <td>25</td>\n",
       "      <td>25</td>\n",
       "    </tr>\n",
       "    <tr>\n",
       "      <th>14150061</th>\n",
       "      <td>25</td>\n",
       "      <td>25</td>\n",
       "      <td>25</td>\n",
       "      <td>25</td>\n",
       "      <td>25</td>\n",
       "    </tr>\n",
       "    <tr>\n",
       "      <th>6697150</th>\n",
       "      <td>24</td>\n",
       "      <td>24</td>\n",
       "      <td>24</td>\n",
       "      <td>24</td>\n",
       "      <td>24</td>\n",
       "    </tr>\n",
       "    <tr>\n",
       "      <th>218885789</th>\n",
       "      <td>24</td>\n",
       "      <td>24</td>\n",
       "      <td>24</td>\n",
       "      <td>24</td>\n",
       "      <td>24</td>\n",
       "    </tr>\n",
       "    <tr>\n",
       "      <th>9089553</th>\n",
       "      <td>24</td>\n",
       "      <td>24</td>\n",
       "      <td>24</td>\n",
       "      <td>24</td>\n",
       "      <td>24</td>\n",
       "    </tr>\n",
       "    <tr>\n",
       "      <th>3479650</th>\n",
       "      <td>24</td>\n",
       "      <td>24</td>\n",
       "      <td>24</td>\n",
       "      <td>24</td>\n",
       "      <td>24</td>\n",
       "    </tr>\n",
       "    <tr>\n",
       "      <th>15956942</th>\n",
       "      <td>24</td>\n",
       "      <td>24</td>\n",
       "      <td>24</td>\n",
       "      <td>24</td>\n",
       "      <td>24</td>\n",
       "    </tr>\n",
       "    <tr>\n",
       "      <th>14376582</th>\n",
       "      <td>23</td>\n",
       "      <td>23</td>\n",
       "      <td>23</td>\n",
       "      <td>23</td>\n",
       "      <td>23</td>\n",
       "    </tr>\n",
       "    <tr>\n",
       "      <th>17627799</th>\n",
       "      <td>23</td>\n",
       "      <td>23</td>\n",
       "      <td>23</td>\n",
       "      <td>23</td>\n",
       "      <td>23</td>\n",
       "    </tr>\n",
       "    <tr>\n",
       "      <th>3344712</th>\n",
       "      <td>22</td>\n",
       "      <td>22</td>\n",
       "      <td>22</td>\n",
       "      <td>22</td>\n",
       "      <td>22</td>\n",
       "    </tr>\n",
       "    <tr>\n",
       "      <th>57981850</th>\n",
       "      <td>22</td>\n",
       "      <td>22</td>\n",
       "      <td>22</td>\n",
       "      <td>22</td>\n",
       "      <td>22</td>\n",
       "    </tr>\n",
       "    <tr>\n",
       "      <th>550607</th>\n",
       "      <td>22</td>\n",
       "      <td>22</td>\n",
       "      <td>22</td>\n",
       "      <td>22</td>\n",
       "      <td>22</td>\n",
       "    </tr>\n",
       "    <tr>\n",
       "      <th>445673146</th>\n",
       "      <td>22</td>\n",
       "      <td>22</td>\n",
       "      <td>22</td>\n",
       "      <td>22</td>\n",
       "      <td>22</td>\n",
       "    </tr>\n",
       "    <tr>\n",
       "      <th>14965709</th>\n",
       "      <td>22</td>\n",
       "      <td>22</td>\n",
       "      <td>22</td>\n",
       "      <td>22</td>\n",
       "      <td>22</td>\n",
       "    </tr>\n",
       "    <tr>\n",
       "      <th>839629</th>\n",
       "      <td>21</td>\n",
       "      <td>21</td>\n",
       "      <td>21</td>\n",
       "      <td>21</td>\n",
       "      <td>21</td>\n",
       "    </tr>\n",
       "    <tr>\n",
       "      <th>74738652</th>\n",
       "      <td>21</td>\n",
       "      <td>21</td>\n",
       "      <td>21</td>\n",
       "      <td>21</td>\n",
       "      <td>21</td>\n",
       "    </tr>\n",
       "    <tr>\n",
       "      <th>294385</th>\n",
       "      <td>21</td>\n",
       "      <td>21</td>\n",
       "      <td>21</td>\n",
       "      <td>21</td>\n",
       "      <td>21</td>\n",
       "    </tr>\n",
       "    <tr>\n",
       "      <th>71953748</th>\n",
       "      <td>21</td>\n",
       "      <td>21</td>\n",
       "      <td>21</td>\n",
       "      <td>21</td>\n",
       "      <td>21</td>\n",
       "    </tr>\n",
       "    <tr>\n",
       "      <th>46958915</th>\n",
       "      <td>20</td>\n",
       "      <td>20</td>\n",
       "      <td>20</td>\n",
       "      <td>20</td>\n",
       "      <td>20</td>\n",
       "    </tr>\n",
       "    <tr>\n",
       "      <th>4311253</th>\n",
       "      <td>20</td>\n",
       "      <td>20</td>\n",
       "      <td>20</td>\n",
       "      <td>20</td>\n",
       "      <td>20</td>\n",
       "    </tr>\n",
       "    <tr>\n",
       "      <th>342115299</th>\n",
       "      <td>20</td>\n",
       "      <td>20</td>\n",
       "      <td>20</td>\n",
       "      <td>20</td>\n",
       "      <td>20</td>\n",
       "    </tr>\n",
       "    <tr>\n",
       "      <th>60008074</th>\n",
       "      <td>20</td>\n",
       "      <td>20</td>\n",
       "      <td>20</td>\n",
       "      <td>20</td>\n",
       "      <td>20</td>\n",
       "    </tr>\n",
       "    <tr>\n",
       "      <th>12692019</th>\n",
       "      <td>20</td>\n",
       "      <td>20</td>\n",
       "      <td>20</td>\n",
       "      <td>20</td>\n",
       "      <td>20</td>\n",
       "    </tr>\n",
       "    <tr>\n",
       "      <th>1738378</th>\n",
       "      <td>20</td>\n",
       "      <td>20</td>\n",
       "      <td>20</td>\n",
       "      <td>20</td>\n",
       "      <td>20</td>\n",
       "    </tr>\n",
       "    <tr>\n",
       "      <th>143747846</th>\n",
       "      <td>20</td>\n",
       "      <td>20</td>\n",
       "      <td>20</td>\n",
       "      <td>20</td>\n",
       "      <td>20</td>\n",
       "    </tr>\n",
       "    <tr>\n",
       "      <th>45787611</th>\n",
       "      <td>20</td>\n",
       "      <td>20</td>\n",
       "      <td>20</td>\n",
       "      <td>20</td>\n",
       "      <td>20</td>\n",
       "    </tr>\n",
       "    <tr>\n",
       "      <th>25425455</th>\n",
       "      <td>19</td>\n",
       "      <td>19</td>\n",
       "      <td>19</td>\n",
       "      <td>19</td>\n",
       "      <td>19</td>\n",
       "    </tr>\n",
       "    <tr>\n",
       "      <th>77089271</th>\n",
       "      <td>19</td>\n",
       "      <td>19</td>\n",
       "      <td>19</td>\n",
       "      <td>19</td>\n",
       "      <td>19</td>\n",
       "    </tr>\n",
       "    <tr>\n",
       "      <th>176039305</th>\n",
       "      <td>19</td>\n",
       "      <td>19</td>\n",
       "      <td>19</td>\n",
       "      <td>19</td>\n",
       "      <td>19</td>\n",
       "    </tr>\n",
       "    <tr>\n",
       "      <th>13129927</th>\n",
       "      <td>19</td>\n",
       "      <td>19</td>\n",
       "      <td>19</td>\n",
       "      <td>19</td>\n",
       "      <td>19</td>\n",
       "    </tr>\n",
       "    <tr>\n",
       "      <th>2064852</th>\n",
       "      <td>19</td>\n",
       "      <td>19</td>\n",
       "      <td>19</td>\n",
       "      <td>19</td>\n",
       "      <td>19</td>\n",
       "    </tr>\n",
       "    <tr>\n",
       "      <th>183330205</th>\n",
       "      <td>18</td>\n",
       "      <td>18</td>\n",
       "      <td>18</td>\n",
       "      <td>18</td>\n",
       "      <td>18</td>\n",
       "    </tr>\n",
       "  </tbody>\n",
       "</table>\n",
       "</div>"
      ],
      "text/plain": [
       "             listing_id  id  date  reviewer_name  comments\n",
       "reviewer_id                                               \n",
       "21546831             55  55    55             55        55\n",
       "4458363              54  54    54             54        54\n",
       "41371840             44  44    44             44        44\n",
       "31058107             42  42    42             42        42\n",
       "26149575             38  38    38             38        38\n",
       "65479491             37  37    37             37        37\n",
       "432993993            36  36    36             36        36\n",
       "90675773             34  34    34             34        34\n",
       "257621892            32  32    32             32        32\n",
       "43288744             29  29    29             29        29\n",
       "19606235             29  29    29             29        29\n",
       "16081424             29  29    29             29        29\n",
       "46684961             28  28    28             28        28\n",
       "33142442             28  28    28             28        28\n",
       "17698658             27  27    27             27        27\n",
       "56699420             27  27    27             27        27\n",
       "53562334             26  26    26             26        26\n",
       "7305189              26  26    26             26        26\n",
       "76372584             25  25    25             25        25\n",
       "14150061             25  25    25             25        25\n",
       "6697150              24  24    24             24        24\n",
       "218885789            24  24    24             24        24\n",
       "9089553              24  24    24             24        24\n",
       "3479650              24  24    24             24        24\n",
       "15956942             24  24    24             24        24\n",
       "14376582             23  23    23             23        23\n",
       "17627799             23  23    23             23        23\n",
       "3344712              22  22    22             22        22\n",
       "57981850             22  22    22             22        22\n",
       "550607               22  22    22             22        22\n",
       "445673146            22  22    22             22        22\n",
       "14965709             22  22    22             22        22\n",
       "839629               21  21    21             21        21\n",
       "74738652             21  21    21             21        21\n",
       "294385               21  21    21             21        21\n",
       "71953748             21  21    21             21        21\n",
       "46958915             20  20    20             20        20\n",
       "4311253              20  20    20             20        20\n",
       "342115299            20  20    20             20        20\n",
       "60008074             20  20    20             20        20\n",
       "12692019             20  20    20             20        20\n",
       "1738378              20  20    20             20        20\n",
       "143747846            20  20    20             20        20\n",
       "45787611             20  20    20             20        20\n",
       "25425455             19  19    19             19        19\n",
       "77089271             19  19    19             19        19\n",
       "176039305            19  19    19             19        19\n",
       "13129927             19  19    19             19        19\n",
       "2064852              19  19    19             19        19\n",
       "183330205            18  18    18             18        18"
      ]
     },
     "execution_count": 21,
     "metadata": {},
     "output_type": "execute_result"
    }
   ],
   "source": [
    "#running the groupby\n",
    "reviews.groupby('reviewer_id').count().sort_values('reviewer_name', ascending = False).head(50)"
   ]
  },
  {
   "cell_type": "code",
   "execution_count": 22,
   "metadata": {},
   "outputs": [],
   "source": [
    "#saving this as its own df to continue analysis\n",
    "group_df = reviews.groupby('reviewer_id').count()"
   ]
  },
  {
   "cell_type": "code",
   "execution_count": 23,
   "metadata": {
    "scrolled": true
   },
   "outputs": [
    {
     "data": {
      "text/html": [
       "<div>\n",
       "<style scoped>\n",
       "    .dataframe tbody tr th:only-of-type {\n",
       "        vertical-align: middle;\n",
       "    }\n",
       "\n",
       "    .dataframe tbody tr th {\n",
       "        vertical-align: top;\n",
       "    }\n",
       "\n",
       "    .dataframe thead th {\n",
       "        text-align: right;\n",
       "    }\n",
       "</style>\n",
       "<table border=\"1\" class=\"dataframe\">\n",
       "  <thead>\n",
       "    <tr style=\"text-align: right;\">\n",
       "      <th></th>\n",
       "      <th>listing_id</th>\n",
       "      <th>id</th>\n",
       "      <th>date</th>\n",
       "      <th>reviewer_name</th>\n",
       "      <th>comments</th>\n",
       "    </tr>\n",
       "    <tr>\n",
       "      <th>reviewer_id</th>\n",
       "      <th></th>\n",
       "      <th></th>\n",
       "      <th></th>\n",
       "      <th></th>\n",
       "      <th></th>\n",
       "    </tr>\n",
       "  </thead>\n",
       "  <tbody>\n",
       "    <tr>\n",
       "      <th>30054</th>\n",
       "      <td>6</td>\n",
       "      <td>6</td>\n",
       "      <td>6</td>\n",
       "      <td>6</td>\n",
       "      <td>6</td>\n",
       "    </tr>\n",
       "    <tr>\n",
       "      <th>31333</th>\n",
       "      <td>5</td>\n",
       "      <td>5</td>\n",
       "      <td>5</td>\n",
       "      <td>5</td>\n",
       "      <td>5</td>\n",
       "    </tr>\n",
       "    <tr>\n",
       "      <th>51871</th>\n",
       "      <td>7</td>\n",
       "      <td>7</td>\n",
       "      <td>7</td>\n",
       "      <td>7</td>\n",
       "      <td>7</td>\n",
       "    </tr>\n",
       "    <tr>\n",
       "      <th>153875</th>\n",
       "      <td>8</td>\n",
       "      <td>8</td>\n",
       "      <td>8</td>\n",
       "      <td>8</td>\n",
       "      <td>8</td>\n",
       "    </tr>\n",
       "    <tr>\n",
       "      <th>177094</th>\n",
       "      <td>5</td>\n",
       "      <td>5</td>\n",
       "      <td>5</td>\n",
       "      <td>5</td>\n",
       "      <td>5</td>\n",
       "    </tr>\n",
       "    <tr>\n",
       "      <th>...</th>\n",
       "      <td>...</td>\n",
       "      <td>...</td>\n",
       "      <td>...</td>\n",
       "      <td>...</td>\n",
       "      <td>...</td>\n",
       "    </tr>\n",
       "    <tr>\n",
       "      <th>487561278</th>\n",
       "      <td>6</td>\n",
       "      <td>6</td>\n",
       "      <td>6</td>\n",
       "      <td>6</td>\n",
       "      <td>6</td>\n",
       "    </tr>\n",
       "    <tr>\n",
       "      <th>488007125</th>\n",
       "      <td>5</td>\n",
       "      <td>5</td>\n",
       "      <td>5</td>\n",
       "      <td>5</td>\n",
       "      <td>5</td>\n",
       "    </tr>\n",
       "    <tr>\n",
       "      <th>489595940</th>\n",
       "      <td>7</td>\n",
       "      <td>7</td>\n",
       "      <td>7</td>\n",
       "      <td>7</td>\n",
       "      <td>7</td>\n",
       "    </tr>\n",
       "    <tr>\n",
       "      <th>490025486</th>\n",
       "      <td>9</td>\n",
       "      <td>9</td>\n",
       "      <td>9</td>\n",
       "      <td>9</td>\n",
       "      <td>9</td>\n",
       "    </tr>\n",
       "    <tr>\n",
       "      <th>491636177</th>\n",
       "      <td>7</td>\n",
       "      <td>7</td>\n",
       "      <td>7</td>\n",
       "      <td>7</td>\n",
       "      <td>7</td>\n",
       "    </tr>\n",
       "  </tbody>\n",
       "</table>\n",
       "<p>2556 rows × 5 columns</p>\n",
       "</div>"
      ],
      "text/plain": [
       "             listing_id  id  date  reviewer_name  comments\n",
       "reviewer_id                                               \n",
       "30054                 6   6     6              6         6\n",
       "31333                 5   5     5              5         5\n",
       "51871                 7   7     7              7         7\n",
       "153875                8   8     8              8         8\n",
       "177094                5   5     5              5         5\n",
       "...                 ...  ..   ...            ...       ...\n",
       "487561278             6   6     6              6         6\n",
       "488007125             5   5     5              5         5\n",
       "489595940             7   7     7              7         7\n",
       "490025486             9   9     9              9         9\n",
       "491636177             7   7     7              7         7\n",
       "\n",
       "[2556 rows x 5 columns]"
      ]
     },
     "execution_count": 23,
     "metadata": {},
     "output_type": "execute_result"
    }
   ],
   "source": [
    "#checking for all individuals that have more than 4 reviews. The more users the better!\n",
    "group_df.loc[group_df['reviewer_name'] > 4] "
   ]
  },
  {
   "cell_type": "markdown",
   "metadata": {},
   "source": [
    "This is a good amount of users! Lets see how many idividuals gave more than 1 review. "
   ]
  },
  {
   "cell_type": "code",
   "execution_count": 24,
   "metadata": {
    "scrolled": true
   },
   "outputs": [
    {
     "data": {
      "text/html": [
       "<div>\n",
       "<style scoped>\n",
       "    .dataframe tbody tr th:only-of-type {\n",
       "        vertical-align: middle;\n",
       "    }\n",
       "\n",
       "    .dataframe tbody tr th {\n",
       "        vertical-align: top;\n",
       "    }\n",
       "\n",
       "    .dataframe thead th {\n",
       "        text-align: right;\n",
       "    }\n",
       "</style>\n",
       "<table border=\"1\" class=\"dataframe\">\n",
       "  <thead>\n",
       "    <tr style=\"text-align: right;\">\n",
       "      <th></th>\n",
       "      <th>listing_id</th>\n",
       "      <th>id</th>\n",
       "      <th>date</th>\n",
       "      <th>reviewer_name</th>\n",
       "      <th>comments</th>\n",
       "    </tr>\n",
       "    <tr>\n",
       "      <th>reviewer_id</th>\n",
       "      <th></th>\n",
       "      <th></th>\n",
       "      <th></th>\n",
       "      <th></th>\n",
       "      <th></th>\n",
       "    </tr>\n",
       "  </thead>\n",
       "  <tbody>\n",
       "    <tr>\n",
       "      <th>4891</th>\n",
       "      <td>2</td>\n",
       "      <td>2</td>\n",
       "      <td>2</td>\n",
       "      <td>2</td>\n",
       "      <td>2</td>\n",
       "    </tr>\n",
       "    <tr>\n",
       "      <th>5102</th>\n",
       "      <td>2</td>\n",
       "      <td>2</td>\n",
       "      <td>2</td>\n",
       "      <td>2</td>\n",
       "      <td>2</td>\n",
       "    </tr>\n",
       "    <tr>\n",
       "      <th>10918</th>\n",
       "      <td>2</td>\n",
       "      <td>2</td>\n",
       "      <td>2</td>\n",
       "      <td>2</td>\n",
       "      <td>2</td>\n",
       "    </tr>\n",
       "    <tr>\n",
       "      <th>15019</th>\n",
       "      <td>2</td>\n",
       "      <td>2</td>\n",
       "      <td>2</td>\n",
       "      <td>2</td>\n",
       "      <td>2</td>\n",
       "    </tr>\n",
       "    <tr>\n",
       "      <th>17637</th>\n",
       "      <td>2</td>\n",
       "      <td>2</td>\n",
       "      <td>2</td>\n",
       "      <td>2</td>\n",
       "      <td>2</td>\n",
       "    </tr>\n",
       "    <tr>\n",
       "      <th>...</th>\n",
       "      <td>...</td>\n",
       "      <td>...</td>\n",
       "      <td>...</td>\n",
       "      <td>...</td>\n",
       "      <td>...</td>\n",
       "    </tr>\n",
       "    <tr>\n",
       "      <th>502149046</th>\n",
       "      <td>2</td>\n",
       "      <td>2</td>\n",
       "      <td>2</td>\n",
       "      <td>2</td>\n",
       "      <td>2</td>\n",
       "    </tr>\n",
       "    <tr>\n",
       "      <th>502289079</th>\n",
       "      <td>2</td>\n",
       "      <td>2</td>\n",
       "      <td>2</td>\n",
       "      <td>2</td>\n",
       "      <td>2</td>\n",
       "    </tr>\n",
       "    <tr>\n",
       "      <th>502622705</th>\n",
       "      <td>2</td>\n",
       "      <td>2</td>\n",
       "      <td>2</td>\n",
       "      <td>2</td>\n",
       "      <td>2</td>\n",
       "    </tr>\n",
       "    <tr>\n",
       "      <th>502847402</th>\n",
       "      <td>2</td>\n",
       "      <td>2</td>\n",
       "      <td>2</td>\n",
       "      <td>2</td>\n",
       "      <td>2</td>\n",
       "    </tr>\n",
       "    <tr>\n",
       "      <th>502936478</th>\n",
       "      <td>2</td>\n",
       "      <td>2</td>\n",
       "      <td>2</td>\n",
       "      <td>2</td>\n",
       "      <td>2</td>\n",
       "    </tr>\n",
       "  </tbody>\n",
       "</table>\n",
       "<p>40407 rows × 5 columns</p>\n",
       "</div>"
      ],
      "text/plain": [
       "             listing_id  id  date  reviewer_name  comments\n",
       "reviewer_id                                               \n",
       "4891                  2   2     2              2         2\n",
       "5102                  2   2     2              2         2\n",
       "10918                 2   2     2              2         2\n",
       "15019                 2   2     2              2         2\n",
       "17637                 2   2     2              2         2\n",
       "...                 ...  ..   ...            ...       ...\n",
       "502149046             2   2     2              2         2\n",
       "502289079             2   2     2              2         2\n",
       "502622705             2   2     2              2         2\n",
       "502847402             2   2     2              2         2\n",
       "502936478             2   2     2              2         2\n",
       "\n",
       "[40407 rows x 5 columns]"
      ]
     },
     "execution_count": 24,
     "metadata": {},
     "output_type": "execute_result"
    }
   ],
   "source": [
    "#checking for more than 1 review\n",
    "group_df.loc[group_df['reviewer_name'] > 1]"
   ]
  },
  {
   "cell_type": "markdown",
   "metadata": {},
   "source": [
    "This is a lot! We are going to try subsetting by reviews greater than 1 since we will still need to filter out non english reviews. The reason we need to look at reviewers with more than one review is for the system to recognize a pattern within these reviewers."
   ]
  },
  {
   "cell_type": "code",
   "execution_count": 25,
   "metadata": {
    "scrolled": false
   },
   "outputs": [
    {
     "data": {
      "text/html": [
       "<div>\n",
       "<style scoped>\n",
       "    .dataframe tbody tr th:only-of-type {\n",
       "        vertical-align: middle;\n",
       "    }\n",
       "\n",
       "    .dataframe tbody tr th {\n",
       "        vertical-align: top;\n",
       "    }\n",
       "\n",
       "    .dataframe thead th {\n",
       "        text-align: right;\n",
       "    }\n",
       "</style>\n",
       "<table border=\"1\" class=\"dataframe\">\n",
       "  <thead>\n",
       "    <tr style=\"text-align: right;\">\n",
       "      <th></th>\n",
       "      <th>listing_id</th>\n",
       "      <th>id</th>\n",
       "      <th>date</th>\n",
       "      <th>reviewer_id</th>\n",
       "      <th>reviewer_name</th>\n",
       "      <th>comments</th>\n",
       "    </tr>\n",
       "  </thead>\n",
       "  <tbody>\n",
       "    <tr>\n",
       "      <th>0</th>\n",
       "      <td>6400</td>\n",
       "      <td>36772</td>\n",
       "      <td>2010-04-19</td>\n",
       "      <td>94463</td>\n",
       "      <td>Hyun</td>\n",
       "      <td>I had such a great stay at 'the studio.'  Fran...</td>\n",
       "    </tr>\n",
       "    <tr>\n",
       "      <th>1</th>\n",
       "      <td>6400</td>\n",
       "      <td>227727</td>\n",
       "      <td>2011-04-16</td>\n",
       "      <td>415910</td>\n",
       "      <td>Tej</td>\n",
       "      <td>Staying at Francesca's and Alberto's place was...</td>\n",
       "    </tr>\n",
       "    <tr>\n",
       "      <th>2</th>\n",
       "      <td>6400</td>\n",
       "      <td>1162608</td>\n",
       "      <td>2012-04-22</td>\n",
       "      <td>415910</td>\n",
       "      <td>Tej</td>\n",
       "      <td>This is my second time staying with Francesca ...</td>\n",
       "    </tr>\n",
       "    <tr>\n",
       "      <th>3</th>\n",
       "      <td>6400</td>\n",
       "      <td>11670681</td>\n",
       "      <td>2014-04-11</td>\n",
       "      <td>8464658</td>\n",
       "      <td>Isabelle</td>\n",
       "      <td>Ein wunderbares Zimmer mit privatem Bad/ WC, a...</td>\n",
       "    </tr>\n",
       "    <tr>\n",
       "      <th>4</th>\n",
       "      <td>6400</td>\n",
       "      <td>11780336</td>\n",
       "      <td>2014-04-14</td>\n",
       "      <td>5427294</td>\n",
       "      <td>Hatice</td>\n",
       "      <td>I was lucky so I have stayed with Francesca, A...</td>\n",
       "    </tr>\n",
       "  </tbody>\n",
       "</table>\n",
       "</div>"
      ],
      "text/plain": [
       "   listing_id        id        date  reviewer_id reviewer_name  \\\n",
       "0        6400     36772  2010-04-19        94463          Hyun   \n",
       "1        6400    227727  2011-04-16       415910           Tej   \n",
       "2        6400   1162608  2012-04-22       415910           Tej   \n",
       "3        6400  11670681  2014-04-11      8464658      Isabelle   \n",
       "4        6400  11780336  2014-04-14      5427294        Hatice   \n",
       "\n",
       "                                            comments  \n",
       "0  I had such a great stay at 'the studio.'  Fran...  \n",
       "1  Staying at Francesca's and Alberto's place was...  \n",
       "2  This is my second time staying with Francesca ...  \n",
       "3  Ein wunderbares Zimmer mit privatem Bad/ WC, a...  \n",
       "4  I was lucky so I have stayed with Francesca, A...  "
      ]
     },
     "execution_count": 25,
     "metadata": {},
     "output_type": "execute_result"
    }
   ],
   "source": [
    "reviews.head(5)"
   ]
  },
  {
   "cell_type": "markdown",
   "metadata": {},
   "source": [
    "Grouping by reviewer_id shows up more than one time to work on the right dataframe for a rec system"
   ]
  },
  {
   "cell_type": "code",
   "execution_count": 26,
   "metadata": {
    "scrolled": false
   },
   "outputs": [
    {
     "data": {
      "text/html": [
       "<div>\n",
       "<style scoped>\n",
       "    .dataframe tbody tr th:only-of-type {\n",
       "        vertical-align: middle;\n",
       "    }\n",
       "\n",
       "    .dataframe tbody tr th {\n",
       "        vertical-align: top;\n",
       "    }\n",
       "\n",
       "    .dataframe thead th {\n",
       "        text-align: right;\n",
       "    }\n",
       "</style>\n",
       "<table border=\"1\" class=\"dataframe\">\n",
       "  <thead>\n",
       "    <tr style=\"text-align: right;\">\n",
       "      <th></th>\n",
       "      <th>listing_id</th>\n",
       "      <th>id</th>\n",
       "      <th>date</th>\n",
       "      <th>reviewer_id</th>\n",
       "      <th>reviewer_name</th>\n",
       "      <th>comments</th>\n",
       "    </tr>\n",
       "  </thead>\n",
       "  <tbody>\n",
       "    <tr>\n",
       "      <th>1</th>\n",
       "      <td>6400</td>\n",
       "      <td>227727</td>\n",
       "      <td>2011-04-16</td>\n",
       "      <td>415910</td>\n",
       "      <td>Tej</td>\n",
       "      <td>Staying at Francesca's and Alberto's place was...</td>\n",
       "    </tr>\n",
       "    <tr>\n",
       "      <th>2</th>\n",
       "      <td>6400</td>\n",
       "      <td>1162608</td>\n",
       "      <td>2012-04-22</td>\n",
       "      <td>415910</td>\n",
       "      <td>Tej</td>\n",
       "      <td>This is my second time staying with Francesca ...</td>\n",
       "    </tr>\n",
       "    <tr>\n",
       "      <th>3</th>\n",
       "      <td>6400</td>\n",
       "      <td>11670681</td>\n",
       "      <td>2014-04-11</td>\n",
       "      <td>8464658</td>\n",
       "      <td>Isabelle</td>\n",
       "      <td>Ein wunderbares Zimmer mit privatem Bad/ WC, a...</td>\n",
       "    </tr>\n",
       "    <tr>\n",
       "      <th>5</th>\n",
       "      <td>6400</td>\n",
       "      <td>30074708</td>\n",
       "      <td>2015-04-17</td>\n",
       "      <td>415910</td>\n",
       "      <td>Tej</td>\n",
       "      <td>Always a pleasure staying with Francesca and f...</td>\n",
       "    </tr>\n",
       "    <tr>\n",
       "      <th>6</th>\n",
       "      <td>6400</td>\n",
       "      <td>47340535</td>\n",
       "      <td>2015-09-18</td>\n",
       "      <td>5023643</td>\n",
       "      <td>Glynn</td>\n",
       "      <td>The host canceled this reservation the day bef...</td>\n",
       "    </tr>\n",
       "    <tr>\n",
       "      <th>...</th>\n",
       "      <td>...</td>\n",
       "      <td>...</td>\n",
       "      <td>...</td>\n",
       "      <td>...</td>\n",
       "      <td>...</td>\n",
       "      <td>...</td>\n",
       "    </tr>\n",
       "    <tr>\n",
       "      <th>611776</th>\n",
       "      <td>841733870641961371</td>\n",
       "      <td>846910401901382122</td>\n",
       "      <td>2023-03-14</td>\n",
       "      <td>88108605</td>\n",
       "      <td>Diego</td>\n",
       "      <td>en general el departamento está bien. pusieron...</td>\n",
       "    </tr>\n",
       "    <tr>\n",
       "      <th>611782</th>\n",
       "      <td>843618815888733815</td>\n",
       "      <td>846290934716632307</td>\n",
       "      <td>2023-03-13</td>\n",
       "      <td>223990220</td>\n",
       "      <td>Tare</td>\n",
       "      <td>Great place.&lt;br/&gt;Host was really helpful.&lt;br/&gt;...</td>\n",
       "    </tr>\n",
       "    <tr>\n",
       "      <th>611785</th>\n",
       "      <td>846130517363365733</td>\n",
       "      <td>849082404435780093</td>\n",
       "      <td>2023-03-17</td>\n",
       "      <td>35287167</td>\n",
       "      <td>Greta</td>\n",
       "      <td>The apartment is in a very good location, just...</td>\n",
       "    </tr>\n",
       "    <tr>\n",
       "      <th>611789</th>\n",
       "      <td>845609167593520388</td>\n",
       "      <td>849860891804052515</td>\n",
       "      <td>2023-03-18</td>\n",
       "      <td>144769793</td>\n",
       "      <td>Gina</td>\n",
       "      <td>Casa pulita e in ordine come da descrizione. S...</td>\n",
       "    </tr>\n",
       "    <tr>\n",
       "      <th>611800</th>\n",
       "      <td>838188511130316229</td>\n",
       "      <td>846976029055875390</td>\n",
       "      <td>2023-03-14</td>\n",
       "      <td>205576010</td>\n",
       "      <td>Mason</td>\n",
       "      <td>this apartment is perfect!!! and angelo was an...</td>\n",
       "    </tr>\n",
       "  </tbody>\n",
       "</table>\n",
       "<p>104478 rows × 6 columns</p>\n",
       "</div>"
      ],
      "text/plain": [
       "                listing_id                  id        date  reviewer_id  \\\n",
       "1                     6400              227727  2011-04-16       415910   \n",
       "2                     6400             1162608  2012-04-22       415910   \n",
       "3                     6400            11670681  2014-04-11      8464658   \n",
       "5                     6400            30074708  2015-04-17       415910   \n",
       "6                     6400            47340535  2015-09-18      5023643   \n",
       "...                    ...                 ...         ...          ...   \n",
       "611776  841733870641961371  846910401901382122  2023-03-14     88108605   \n",
       "611782  843618815888733815  846290934716632307  2023-03-13    223990220   \n",
       "611785  846130517363365733  849082404435780093  2023-03-17     35287167   \n",
       "611789  845609167593520388  849860891804052515  2023-03-18    144769793   \n",
       "611800  838188511130316229  846976029055875390  2023-03-14    205576010   \n",
       "\n",
       "       reviewer_name                                           comments  \n",
       "1                Tej  Staying at Francesca's and Alberto's place was...  \n",
       "2                Tej  This is my second time staying with Francesca ...  \n",
       "3           Isabelle  Ein wunderbares Zimmer mit privatem Bad/ WC, a...  \n",
       "5                Tej  Always a pleasure staying with Francesca and f...  \n",
       "6              Glynn  The host canceled this reservation the day bef...  \n",
       "...              ...                                                ...  \n",
       "611776         Diego  en general el departamento está bien. pusieron...  \n",
       "611782          Tare  Great place.<br/>Host was really helpful.<br/>...  \n",
       "611785         Greta  The apartment is in a very good location, just...  \n",
       "611789          Gina  Casa pulita e in ordine come da descrizione. S...  \n",
       "611800         Mason  this apartment is perfect!!! and angelo was an...  \n",
       "\n",
       "[104478 rows x 6 columns]"
      ]
     },
     "execution_count": 26,
     "metadata": {},
     "output_type": "execute_result"
    }
   ],
   "source": [
    "#showing the reviewers and comments with those more than 1\n",
    "reviews.groupby('reviewer_id').filter(lambda x : x['reviewer_id'].shape[0] > 1)"
   ]
  },
  {
   "cell_type": "markdown",
   "metadata": {},
   "source": [
    "Below checking that this group by is working the way that it should."
   ]
  },
  {
   "cell_type": "code",
   "execution_count": 27,
   "metadata": {
    "scrolled": false
   },
   "outputs": [
    {
     "data": {
      "text/html": [
       "<div>\n",
       "<style scoped>\n",
       "    .dataframe tbody tr th:only-of-type {\n",
       "        vertical-align: middle;\n",
       "    }\n",
       "\n",
       "    .dataframe tbody tr th {\n",
       "        vertical-align: top;\n",
       "    }\n",
       "\n",
       "    .dataframe thead th {\n",
       "        text-align: right;\n",
       "    }\n",
       "</style>\n",
       "<table border=\"1\" class=\"dataframe\">\n",
       "  <thead>\n",
       "    <tr style=\"text-align: right;\">\n",
       "      <th></th>\n",
       "      <th>listing_id</th>\n",
       "      <th>id</th>\n",
       "      <th>date</th>\n",
       "      <th>reviewer_id</th>\n",
       "      <th>reviewer_name</th>\n",
       "      <th>comments</th>\n",
       "    </tr>\n",
       "  </thead>\n",
       "  <tbody>\n",
       "    <tr>\n",
       "      <th>0</th>\n",
       "      <td>6400</td>\n",
       "      <td>36772</td>\n",
       "      <td>2010-04-19</td>\n",
       "      <td>94463</td>\n",
       "      <td>Hyun</td>\n",
       "      <td>I had such a great stay at 'the studio.'  Fran...</td>\n",
       "    </tr>\n",
       "    <tr>\n",
       "      <th>4</th>\n",
       "      <td>6400</td>\n",
       "      <td>11780336</td>\n",
       "      <td>2014-04-14</td>\n",
       "      <td>5427294</td>\n",
       "      <td>Hatice</td>\n",
       "      <td>I was lucky so I have stayed with Francesca, A...</td>\n",
       "    </tr>\n",
       "    <tr>\n",
       "      <th>12</th>\n",
       "      <td>23986</td>\n",
       "      <td>1175194</td>\n",
       "      <td>2012-04-24</td>\n",
       "      <td>1695229</td>\n",
       "      <td>Leah</td>\n",
       "      <td>We came to Milan for the Salone and had a fant...</td>\n",
       "    </tr>\n",
       "    <tr>\n",
       "      <th>13</th>\n",
       "      <td>23986</td>\n",
       "      <td>47872586</td>\n",
       "      <td>2015-09-21</td>\n",
       "      <td>17316381</td>\n",
       "      <td>Paolo</td>\n",
       "      <td>La zona è molto comoda e la via è tranquilla. ...</td>\n",
       "    </tr>\n",
       "    <tr>\n",
       "      <th>14</th>\n",
       "      <td>23986</td>\n",
       "      <td>70176179</td>\n",
       "      <td>2016-04-16</td>\n",
       "      <td>41686521</td>\n",
       "      <td>Naama</td>\n",
       "      <td>Great apartment, clean and well equipped, grea...</td>\n",
       "    </tr>\n",
       "    <tr>\n",
       "      <th>...</th>\n",
       "      <td>...</td>\n",
       "      <td>...</td>\n",
       "      <td>...</td>\n",
       "      <td>...</td>\n",
       "      <td>...</td>\n",
       "      <td>...</td>\n",
       "    </tr>\n",
       "    <tr>\n",
       "      <th>611798</th>\n",
       "      <td>837619455066975304</td>\n",
       "      <td>848390146274753958</td>\n",
       "      <td>2023-03-16</td>\n",
       "      <td>416263051</td>\n",
       "      <td>Catalin</td>\n",
       "      <td>It was very good</td>\n",
       "    </tr>\n",
       "    <tr>\n",
       "      <th>611799</th>\n",
       "      <td>838184897759433339</td>\n",
       "      <td>847722747234842814</td>\n",
       "      <td>2023-03-15</td>\n",
       "      <td>46351960</td>\n",
       "      <td>Irina</td>\n",
       "      <td>Nice and quiet area not far from the metro and...</td>\n",
       "    </tr>\n",
       "    <tr>\n",
       "      <th>611801</th>\n",
       "      <td>838266422550245358</td>\n",
       "      <td>840401357243960792</td>\n",
       "      <td>2023-03-05</td>\n",
       "      <td>424155005</td>\n",
       "      <td>Riccardo</td>\n",
       "      <td>Ottimo</td>\n",
       "    </tr>\n",
       "    <tr>\n",
       "      <th>611802</th>\n",
       "      <td>838266422550245358</td>\n",
       "      <td>843313780914723751</td>\n",
       "      <td>2023-03-09</td>\n",
       "      <td>388259970</td>\n",
       "      <td>Mariana</td>\n",
       "      <td>It was really nice!</td>\n",
       "    </tr>\n",
       "    <tr>\n",
       "      <th>611803</th>\n",
       "      <td>838266422550245358</td>\n",
       "      <td>844755620276373651</td>\n",
       "      <td>2023-03-11</td>\n",
       "      <td>186023564</td>\n",
       "      <td>Albita</td>\n",
       "      <td>Buena relación calidad precio, cama cómoda, de...</td>\n",
       "    </tr>\n",
       "  </tbody>\n",
       "</table>\n",
       "<p>507299 rows × 6 columns</p>\n",
       "</div>"
      ],
      "text/plain": [
       "                listing_id                  id        date  reviewer_id  \\\n",
       "0                     6400               36772  2010-04-19        94463   \n",
       "4                     6400            11780336  2014-04-14      5427294   \n",
       "12                   23986             1175194  2012-04-24      1695229   \n",
       "13                   23986            47872586  2015-09-21     17316381   \n",
       "14                   23986            70176179  2016-04-16     41686521   \n",
       "...                    ...                 ...         ...          ...   \n",
       "611798  837619455066975304  848390146274753958  2023-03-16    416263051   \n",
       "611799  838184897759433339  847722747234842814  2023-03-15     46351960   \n",
       "611801  838266422550245358  840401357243960792  2023-03-05    424155005   \n",
       "611802  838266422550245358  843313780914723751  2023-03-09    388259970   \n",
       "611803  838266422550245358  844755620276373651  2023-03-11    186023564   \n",
       "\n",
       "       reviewer_name                                           comments  \n",
       "0               Hyun  I had such a great stay at 'the studio.'  Fran...  \n",
       "4             Hatice  I was lucky so I have stayed with Francesca, A...  \n",
       "12              Leah  We came to Milan for the Salone and had a fant...  \n",
       "13             Paolo  La zona è molto comoda e la via è tranquilla. ...  \n",
       "14             Naama  Great apartment, clean and well equipped, grea...  \n",
       "...              ...                                                ...  \n",
       "611798       Catalin                                   It was very good  \n",
       "611799         Irina  Nice and quiet area not far from the metro and...  \n",
       "611801      Riccardo                                             Ottimo  \n",
       "611802       Mariana                                It was really nice!  \n",
       "611803        Albita  Buena relación calidad precio, cama cómoda, de...  \n",
       "\n",
       "[507299 rows x 6 columns]"
      ]
     },
     "execution_count": 27,
     "metadata": {},
     "output_type": "execute_result"
    }
   ],
   "source": [
    "reviews.groupby('reviewer_id').filter(lambda x : x['reviewer_id'].shape[0]== 1)"
   ]
  },
  {
   "cell_type": "code",
   "execution_count": 28,
   "metadata": {
    "scrolled": false
   },
   "outputs": [
    {
     "data": {
      "text/plain": [
       "64071"
      ]
     },
     "execution_count": 28,
     "metadata": {},
     "output_type": "execute_result"
    }
   ],
   "source": [
    "reviews.shape[0] - reviews['reviewer_id'].value_counts().shape[0]"
   ]
  },
  {
   "cell_type": "markdown",
   "metadata": {},
   "source": [
    "These 2 shapes add up to our number of rows in the full dataset so it looks like this worked! Below saving off a new dataframe with the values of individuals with more than 1 review since these are the users we will be creating the recommendation system off of."
   ]
  },
  {
   "cell_type": "code",
   "execution_count": 29,
   "metadata": {},
   "outputs": [],
   "source": [
    "multi_review_df = reviews.groupby('reviewer_id').filter(lambda x : x['reviewer_id'].shape[0]>=2)"
   ]
  },
  {
   "cell_type": "code",
   "execution_count": 30,
   "metadata": {
    "scrolled": true
   },
   "outputs": [
    {
     "data": {
      "text/plain": [
       "(104478, 6)"
      ]
     },
     "execution_count": 30,
     "metadata": {},
     "output_type": "execute_result"
    }
   ],
   "source": [
    "multi_review_df.shape"
   ]
  },
  {
   "cell_type": "code",
   "execution_count": 35,
   "metadata": {
    "scrolled": false
   },
   "outputs": [
    {
     "name": "stdout",
     "output_type": "stream",
     "text": [
      "<class 'pandas.core.frame.DataFrame'>\n",
      "Int64Index: 104478 entries, 1 to 611800\n",
      "Data columns (total 6 columns):\n",
      " #   Column         Non-Null Count   Dtype \n",
      "---  ------         --------------   ----- \n",
      " 0   listing_id     104478 non-null  int64 \n",
      " 1   id             104478 non-null  int64 \n",
      " 2   date           104478 non-null  object\n",
      " 3   reviewer_id    104478 non-null  int64 \n",
      " 4   reviewer_name  104478 non-null  object\n",
      " 5   comments       104478 non-null  object\n",
      "dtypes: int64(3), object(3)\n",
      "memory usage: 5.6+ MB\n"
     ]
    }
   ],
   "source": [
    "multi_review_df.info()"
   ]
  },
  {
   "cell_type": "markdown",
   "metadata": {},
   "source": [
    "#### Cleaning Dataset for useful comments\n",
    "- Removing all \"unhelpful comments\" meaning those with just a \".\" or blank. \n",
    "- Removing all comments that are emojis\n",
    "- Creating a new column for language and dropping non-english reviews."
   ]
  },
  {
   "cell_type": "markdown",
   "metadata": {},
   "source": [
    "Below dropping unhelpful comments such ones that just have a \".\"  or other errors. "
   ]
  },
  {
   "cell_type": "code",
   "execution_count": 31,
   "metadata": {},
   "outputs": [],
   "source": [
    "index_dash = multi_review_df[ multi_review_df['comments'].str.match('-')].index\n",
    "multi_review_df.drop(index_dash, inplace=True)\n",
    "\n",
    "alphanumeric = lambda x: re.sub('\\w*\\d\\w*', ' ', x)\n",
    "multi_review_df['comments'] = multi_review_df['comments'].map(alphanumeric)"
   ]
  },
  {
   "cell_type": "code",
   "execution_count": 32,
   "metadata": {
    "scrolled": false
   },
   "outputs": [
    {
     "data": {
      "text/plain": [
       "(104446, 6)"
      ]
     },
     "execution_count": 32,
     "metadata": {},
     "output_type": "execute_result"
    }
   ],
   "source": [
    "#checking new shape\n",
    "multi_review_df.shape"
   ]
  },
  {
   "cell_type": "markdown",
   "metadata": {},
   "source": [
    "Below creating a list for all errors in the comments so that they can be removed before doing a sentiment analysis on this. This referencing work from Alex Gastone https://github.com/alexgastone/AirbnbRecommend/tree/master. "
   ]
  },
  {
   "cell_type": "code",
   "execution_count": 33,
   "metadata": {},
   "outputs": [
    {
     "name": "stdout",
     "output_type": "stream",
     "text": [
      "This row throws an error: . 411328576\n",
      "This row throws an error: . 150986893\n",
      "This row throws an error: . 177834202\n",
      "This row throws an error: . 108801133\n",
      "This row throws an error: 👌🏼 365065866\n",
      "This row throws an error: . 138992230\n",
      "This row throws an error: . 387506618\n",
      "This row throws an error: 👍 414052082\n",
      "This row throws an error: 👌🏽👌🏽👌🏽 180910287\n",
      "This row throws an error: . 252823048\n",
      "This row throws an error: 👏🏻🖤 107217428\n",
      "This row throws an error: . 77570749\n",
      "This row throws an error: . 45430085\n",
      "This row throws an error: . 364141470\n",
      "This row throws an error: 👍 444913428\n",
      "This row throws an error: . 271759168\n",
      "This row throws an error: . 21116219\n",
      "This row throws an error: ! 127554328\n",
      "This row throws an error: . 144289574\n",
      "This row throws an error: .......... 310193172\n",
      "This row throws an error: Per partecipare alla Milano Marathon   ho scelto di soggiornare nell'alloggio di Marco. Il suo appartamento si trovava a meno di   minuti a piedi dalla Stazione Centrale (direzione centro storico) e a circa  /  minuti dai Giardini I. Montanelli/Corso Venezia, in cui avvenivano la partenza e l'arrivo della corsa podistica. Marco si è dimostrato, sin dalle prime battute, chiaro, puntale, disponibile, sia nel modo di comunicare che di accogliermi in casa sua. L'abitazione era perfettamente ordinata, pulita e riscaldata. A disposizione, vi era inoltre una ricca dispensa con prodotti alimentari di vario tipo e persino il frigorifero era fornito di latte, yogurts, succo di frutta, e altro ancora per l'eventuale colazione. In salotto vi era la possibilità di tramutare in divano-letto un sofà, permettendo il pernottamento anche a tre persone contemporaneamente. Nel complesso, si è trattato di una esperienza molto positiva: la casa è sicuramente originale, molto personale e molto accogliente, piena di oggetti, diversi dei quali comperati dal padrone nei suoi frequenti viaggi in tutto il mondo. Punti di forza sono la vicinanza ai mezzi pubblici (vi sono ad esempio due fermate della metro - Repubblica (linea rossa) e Gioia (linea verde) - a meno di   minuti di cammino), la vicinanza al centro storico e alla stazione, il prezzo non elevato rispetto all'ubicazione, la tranquillità del quartiere e l'affidabilità di Marco. Unico punto debole: essere situato al quarto piano di un palazzo dove non v'è ascensore... <br/>Consiglio perciò vivamente questa soluzione a tutti coloro che vogliano visitare Milano. 8740685\n",
      "This row throws an error: :) 16912762\n",
      "This row throws an error: ✅ 4458363\n",
      "This row throws an error: . 307111100\n",
      "This row throws an error: 👍 424176069\n",
      "This row throws an error: ... 92084355\n",
      "This row throws an error: This elegant, comfortable home is located right near the station and was a perfect refuge for a tired traveler. Appreciated the many thoughtful touches and Victoria’s helpfulness. 5777622\n",
      "This row throws an error: . 313934\n",
      "This row throws an error: . 313934\n",
      "This row throws an error: . 83018034\n",
      "This row throws an error: . 125920633\n",
      "This row throws an error: . 178219720\n",
      "This row throws an error: . 155915182\n",
      "This row throws an error:   3557094\n",
      "This row throws an error: . 73357745\n",
      "This row throws an error: :) 41435493\n",
      "This row throws an error: 👌🏼👌🏼👌🏼👌🏼👌🏼🌞 126277222\n",
      "This row throws an error: 👍🏽👍🏽👍🏽 427025086\n",
      "This row throws an error: ❤️ 63562789\n",
      "This row throws an error: . 31272972\n",
      "This row throws an error: 👍 222362393\n",
      "This row throws an error: . 30103260\n",
      "This row throws an error: Appartamento piccolo ma funzionale in zona Isola, ideale per soggiorni brevi. Tornerò volentieri se ne avrò necessità :) 78145059\n",
      "This row throws an error: Casa bella, ben curata e pulitissima.<br/>Consigliata 307171674\n",
      "This row throws an error: . 155915182\n",
      "This row throws an error: . 45853702\n",
      "This row throws an error:  ! 91863726\n",
      "This row throws an error: ✔️🙌🏽 96820834\n",
      "This row throws an error: . 99254411\n",
      "This row throws an error: . 183482775\n",
      "This row throws an error: ! 92855292\n",
      "This row throws an error: . 29949946\n",
      "This row throws an error: . 68544207\n",
      "This row throws an error: 🔝🔝🔝🔝 115131478\n",
      "This row throws an error: . 49369658\n",
      "This row throws an error: 👍 104944325\n",
      "This row throws an error: 👍🏻 287200052\n",
      "This row throws an error: 👍🏼 53793994\n",
      "This row throws an error: 👍🏻 222319063\n",
      "This row throws an error: . 10275506\n",
      "This row throws an error: . 329097423\n",
      "This row throws an error: . 111415589\n",
      "This row throws an error: .... 312808643\n",
      "This row throws an error: . 455340473\n",
      "This row throws an error: . 30536748\n",
      "This row throws an error: . 50385293\n",
      "This row throws an error: ' 3932504\n",
      "This row throws an error: . 14256699\n",
      "This row throws an error: . 310692596\n",
      "This row throws an error: ✨ 306569204\n",
      "This row throws an error: . 247802048\n",
      "This row throws an error: 👍 414052082\n",
      "This row throws an error:  /  66643004\n",
      "This row throws an error: :) 367797331\n",
      "This row throws an error: . 46351770\n",
      "This row throws an error: 🫶🏾 446917188\n",
      "This row throws an error: . 387506618\n",
      "This row throws an error: . 76537576\n",
      "This row throws an error: . 77459824\n",
      "This row throws an error: 👍 293461369\n",
      "This row throws an error: . 230547788\n",
      "This row throws an error: . 174227338\n",
      "This row throws an error: . 89529924\n",
      "This row throws an error: . 419028446\n",
      "This row throws an error: 👍 145024659\n",
      "This row throws an error: . 258165522\n",
      "This row throws an error: . 481031684\n",
      "This row throws an error: . 481031684\n",
      "This row throws an error: 👌🏻 179163966\n",
      "This row throws an error: !!!! 190442091\n",
      "This row throws an error: / 39415704\n",
      "This row throws an error: . 153936607\n",
      "This row throws an error:   275007113\n",
      "This row throws an error: ***** 161679383\n",
      "This row throws an error: . 153563042\n",
      "This row throws an error: . 48192158\n",
      "This row throws an error: :) 174536114\n",
      "This row throws an error: 👍 288675184\n",
      "This row throws an error: 👍 288675184\n",
      "This row throws an error: . 280036321\n",
      "This row throws an error: !!! 48774081\n",
      "This row throws an error: . 344791676\n",
      "This row throws an error: ♥️👌👌 42699785\n",
      "This row throws an error: ... 235165632\n",
      "This row throws an error: . 94320220\n",
      "This row throws an error: . 175778000\n",
      "This row throws an error: . 247802048\n",
      "This row throws an error: —- 228835098\n",
      "This row throws an error: . 12601761\n",
      "This row throws an error: . 25218083\n",
      "This row throws an error: . 387366056\n",
      "This row throws an error: . 133490647\n",
      "This row throws an error: 😊👍 20142712\n",
      "This row throws an error: . 108801133\n",
      "This row throws an error: . 108801133\n",
      "This row throws an error: 👌👌👍👍 194448572\n",
      "This row throws an error: . 431241933\n",
      "This row throws an error: . 40364588\n",
      "This row throws an error: . 317938542\n",
      "This row throws an error: ✔️ 147824902\n",
      "This row throws an error: . 323584439\n",
      "This row throws an error: .. 259389226\n",
      "This row throws an error: 👌🏼👌🏼 428189209\n",
      "This row throws an error: ❤️ 187331494\n",
      "This row throws an error: 👌 71532330\n",
      "This row throws an error: . 51924171\n",
      "This row throws an error: . 76815890\n",
      "This row throws an error: 👍👍👍 20639899\n",
      "This row throws an error: 👍🏼 220559128\n",
      "This row throws an error: ❤️ 365065866\n",
      "This row throws an error: 👍👍 5431074\n",
      "This row throws an error: 👍 424176069\n",
      "This row throws an error: **** 37398268\n",
      "This row throws an error: ... 180552386\n",
      "This row throws an error: . 46537651\n",
      "This row throws an error: . 18454913\n",
      "This row throws an error: 👍 67247943\n",
      "This row throws an error: . 129729931\n",
      "This row throws an error: 👍 13753326\n",
      "This row throws an error: . 153563042\n",
      "This row throws an error: ❤️❤️❤️❤️ 182150631\n",
      "This row throws an error: . 70144058\n",
      "This row throws an error: . 104534897\n",
      "This row throws an error:  /  104714364\n",
      "This row throws an error: . 275785594\n",
      "This row throws an error: . 246763676\n",
      "This row throws an error: . 104534897\n",
      "This row throws an error: . 310848037\n",
      "This row throws an error: . 287007889\n",
      "This row throws an error: . 92084355\n",
      "This row throws an error: 🔝🔝🔝 422019839\n",
      "This row throws an error: 👍 396644919\n",
      "This row throws an error:  /  2661983\n",
      "This row throws an error: . 31816778\n",
      "This row throws an error: . 460006137\n",
      "This row throws an error: 👌 365413441\n",
      "This row throws an error:  !!! 483772742\n",
      "This row throws an error: . 408286827\n",
      "This row throws an error: 🔥 392002742\n",
      "This row throws an error: . 427247816\n",
      "This row throws an error: 👍 414052082\n"
     ]
    },
    {
     "name": "stdout",
     "output_type": "stream",
     "text": [
      "This row throws an error: . 46684961\n",
      "This row throws an error: . 276895410\n",
      "This row throws an error: ... 422019839\n",
      "This row throws an error: ! 450788903\n",
      "This row throws an error: . 93702446\n",
      "This row throws an error: . 409927389\n",
      "This row throws an error: . 122799548\n",
      "This row throws an error: . 57733125\n",
      "This row throws an error: 👏🏼 364344446\n",
      "This row throws an error: !!!! 148707174\n",
      "This row throws an error: 🌟🌟🌟🌟🌟 293096723\n",
      "This row throws an error: . 456870979\n",
      "This row throws an error: . 77570749\n",
      "This row throws an error: ⭐️⭐️⭐️⭐️⭐️ 253481012\n",
      "This row throws an error: ⭐️⭐️⭐️⭐️⭐️ 253481012\n",
      "This row throws an error: 👌 77570749\n",
      "This row throws an error: . 486990617\n",
      "This row throws an error: . 9226667\n",
      "This row throws an error: . 69071871\n",
      "This row throws an error: 👌🏻 235649252\n",
      "This row throws an error: . 51924171\n",
      "This row throws an error: . 86967866\n",
      "This row throws an error: 👌 414052082\n",
      "This row throws an error: . 187736689\n",
      "This row throws an error: . 410253984\n",
      "This row throws an error: ´ 3088854\n",
      "This row throws an error: . 486990617\n",
      "This row throws an error: . 284749062\n",
      "This row throws an error:  /  15189780\n",
      "This row throws an error: 👌🏼 218109837\n",
      "This row throws an error: 👍✌️ 157537718\n",
      "This row throws an error: . 112880437\n",
      "This row throws an error: 👍🏼👍🏼👍🏼👍🏼 220499709\n",
      "This row throws an error: . 364141470\n",
      "This row throws an error: . 421991443\n",
      "This row throws an error: . 66786669\n",
      "This row throws an error: .. 89175175\n",
      "This row throws an error: . 2752927\n",
      "This row throws an error: 👍👍👍👍👍👍👍👍 38359844\n",
      "This row throws an error: . 29696137\n",
      "This row throws an error: 👍🏼 367796948\n",
      "This row throws an error: ㄱ  ㅜ ㅅ 462886240\n",
      "This row throws an error: . 419029965\n",
      "This row throws an error: . 328911124\n",
      "This row throws an error:   106150738\n",
      "This row throws an error: ⭐️⭐️⭐️⭐️⭐️ 358886112\n",
      "This row throws an error: . 317938542\n",
      "This row throws an error: . 450592683\n",
      "This row throws an error: . 29990215\n",
      "This row throws an error: . 29990215\n",
      "This row throws an error: . 443895427\n",
      "This row throws an error: . 259341345\n",
      "This row throws an error: 👌 418028917\n",
      "This row throws an error: . 479311347\n",
      "This row throws an error: 👍 78922162\n",
      "This row throws an error: 👍 63249326\n",
      "This row throws an error: . 175981122\n",
      "This row throws an error: 👍🏼 176039305\n",
      "This row throws an error: .. 441531885\n",
      "This row throws an error: .. 441531885\n",
      "This row throws an error: . 173643266\n",
      "This row throws an error: ⭐️⭐️⭐️⭐️⭐️ 358886112\n",
      "This row throws an error: 🙏 389897131\n",
      "This row throws an error: ………. 326189650\n",
      "This row throws an error: ***** 11087090\n",
      "This row throws an error: . 85174017\n",
      "This row throws an error: . 317938542\n",
      "This row throws an error: 👍🏻 470452858\n",
      "This row throws an error: . 161613103\n",
      "This row throws an error: . 161613103\n",
      "This row throws an error: . 57520969\n",
      "This row throws an error: … 163022285\n",
      "This row throws an error: 🥰🥰 273023762\n",
      "This row throws an error: . 79210893\n",
      "This row throws an error: . 79210893\n",
      "This row throws an error: . 307890015\n",
      "This row throws an error: . 35801088\n",
      "This row throws an error: . 35801088\n",
      "This row throws an error: . 434338284\n",
      "This row throws an error: . 68614312\n",
      "This row throws an error: , 58177062\n",
      "This row throws an error: 👍🏻 428545734\n",
      "This row throws an error: ⭐️⭐️⭐️⭐️⭐️ 145522323\n",
      "This row throws an error: . 373983482\n",
      "This row throws an error: 👍🏻 370746810\n",
      "This row throws an error: 🌟🌟🌟🌟🌟 258556169\n",
      "This row throws an error: . 287007889\n",
      "This row throws an error: . 71980856\n",
      "This row throws an error: . 72212262\n",
      "This row throws an error: / 249067430\n",
      "This row throws an error: :) 310732593\n",
      "This row throws an error: . 140570321\n",
      "This row throws an error: 👏🏼👏🏼👏🏼 364344446\n",
      "This row throws an error: 👍👍👍👍👍👍 384241654\n",
      "This row throws an error: 💕 352395446\n",
      "This row throws an error: 👍 293461369\n",
      "This row throws an error: 👍👍 300731009\n",
      "This row throws an error: . 481031684\n",
      "This row throws an error: . 94320220\n",
      "This row throws an error: . 427545303\n",
      "This row throws an error: . 129729931\n",
      "This row throws an error: 🉑️ 477316440\n",
      "This row throws an error: ⭐️⭐️⭐️⭐️⭐️ 253481012\n",
      "This row throws an error: . 441561719\n",
      "This row throws an error: 👌 194448572\n",
      "This row throws an error: . 364129816\n",
      "This row throws an error: . 364129816\n",
      "This row throws an error: 🤌🏼 389897131\n",
      "This row throws an error: 💗 416455225\n",
      "This row throws an error: . 87094635\n",
      "This row throws an error: ... 5811223\n",
      "This row throws an error: ❤️ 426868843\n",
      "This row throws an error: 👍 111784696\n",
      "This row throws an error: .. 89845165\n",
      "This row throws an error: . 460006137\n",
      "This row throws an error: ‘ 13992088\n",
      "This row throws an error: . 435490947\n",
      "This row throws an error: . 443895427\n",
      "This row throws an error: . 131307654\n",
      "This row throws an error: ... 468114614\n",
      "This row throws an error: 👍🏻 463823803\n",
      "This row throws an error: . 429915232\n",
      "This row throws an error: . 279336193\n",
      "This row throws an error: . 108801133\n",
      "This row throws an error: . 481263083\n",
      "This row throws an error: ♥️ 113392599\n",
      "This row throws an error: ⭐️⭐️⭐️⭐️⭐️ top 👍🏾 46010024\n",
      "This row throws an error: . 393397180\n",
      "This row throws an error: . 69071871\n",
      "This row throws an error: 🔝 277068723\n",
      "This row throws an error: . 94320220\n",
      "This row throws an error: 👍 449333494\n",
      "This row throws an error: .... 247295858\n",
      "This row throws an error: 👍 462262220\n",
      "This row throws an error: , 455584027\n",
      "This row throws an error: . 259389226\n",
      "This row throws an error: 👌 484011777\n",
      "This row throws an error: . 455340473\n",
      "This row throws an error: ! 35691867\n",
      "This row throws an error: . 8676011\n",
      "This row throws an error: 👍🏾👍🏾👍🏾 386945359\n",
      "This row throws an error: 📺 358886112\n",
      "This row throws an error: . 76815890\n",
      "This row throws an error: . 41352619\n",
      "This row throws an error: . 398147005\n",
      "This row throws an error: . 3290891\n",
      "This row throws an error: . 94011691\n",
      "This row throws an error: / 75188277\n",
      "This row throws an error: 👌 92404762\n",
      "This row throws an error: . 66786669\n",
      "This row throws an error: . 86967866\n",
      "This row throws an error: . 466329005\n",
      "This row throws an error: — 101005073\n",
      "This row throws an error: 😥 456622738\n",
      "This row throws an error: . 449822008\n",
      "This row throws an error: 👍👍👍 300731009\n",
      "This row throws an error: ⭐️⭐️⭐️⭐️⭐️ 197104956\n",
      "This row throws an error: ❤️ 287143589\n",
      "This row throws an error: 👌 442942306\n",
      "This row throws an error: 👍🏾 386945359\n",
      "This row throws an error: 👌🏻⭐️⭐️⭐️⭐️⭐️ 266587815\n",
      "This row throws an error: 💝 96820834\n",
      "This row throws an error: 👍 194008803\n",
      "This row throws an error: . 471981074\n",
      "This row throws an error: . 10193826\n"
     ]
    }
   ],
   "source": [
    "num_errors = 0\n",
    "err = []\n",
    "\n",
    "for index, row in multi_review_df.iterrows():\n",
    "    try:\n",
    "        language = detect(row['comments']) \n",
    "    except:\n",
    "        num_errors += 1\n",
    "        err.append(index)\n",
    "        print(\"This row throws an error:\", row['comments'], row['reviewer_id'])"
   ]
  },
  {
   "cell_type": "markdown",
   "metadata": {},
   "source": [
    "Can see above a lot of commented rows are emojis! Will atempt to convert these emojis at a later stage, for now dropping all these rows. Can try to convert emojis to text but others going to remove. "
   ]
  },
  {
   "cell_type": "code",
   "execution_count": 34,
   "metadata": {},
   "outputs": [],
   "source": [
    "#Removing all non identifiable comments (the ones we got from code)\n",
    "multi_review_df.drop(err, axis=0, inplace=True)"
   ]
  },
  {
   "cell_type": "code",
   "execution_count": 37,
   "metadata": {
    "scrolled": true
   },
   "outputs": [
    {
     "name": "stdout",
     "output_type": "stream",
     "text": [
      "(104120, 6)\n"
     ]
    },
    {
     "data": {
      "text/html": [
       "<div>\n",
       "<style scoped>\n",
       "    .dataframe tbody tr th:only-of-type {\n",
       "        vertical-align: middle;\n",
       "    }\n",
       "\n",
       "    .dataframe tbody tr th {\n",
       "        vertical-align: top;\n",
       "    }\n",
       "\n",
       "    .dataframe thead th {\n",
       "        text-align: right;\n",
       "    }\n",
       "</style>\n",
       "<table border=\"1\" class=\"dataframe\">\n",
       "  <thead>\n",
       "    <tr style=\"text-align: right;\">\n",
       "      <th></th>\n",
       "      <th>listing_id</th>\n",
       "      <th>id</th>\n",
       "      <th>date</th>\n",
       "      <th>reviewer_id</th>\n",
       "      <th>reviewer_name</th>\n",
       "      <th>comments</th>\n",
       "    </tr>\n",
       "  </thead>\n",
       "  <tbody>\n",
       "    <tr>\n",
       "      <th>1</th>\n",
       "      <td>6400</td>\n",
       "      <td>227727</td>\n",
       "      <td>2011-04-16</td>\n",
       "      <td>415910</td>\n",
       "      <td>Tej</td>\n",
       "      <td>Staying at Francesca's and Alberto's place was...</td>\n",
       "    </tr>\n",
       "    <tr>\n",
       "      <th>2</th>\n",
       "      <td>6400</td>\n",
       "      <td>1162608</td>\n",
       "      <td>2012-04-22</td>\n",
       "      <td>415910</td>\n",
       "      <td>Tej</td>\n",
       "      <td>This is my second time staying with Francesca ...</td>\n",
       "    </tr>\n",
       "    <tr>\n",
       "      <th>3</th>\n",
       "      <td>6400</td>\n",
       "      <td>11670681</td>\n",
       "      <td>2014-04-11</td>\n",
       "      <td>8464658</td>\n",
       "      <td>Isabelle</td>\n",
       "      <td>Ein wunderbares Zimmer mit privatem Bad/ WC, a...</td>\n",
       "    </tr>\n",
       "    <tr>\n",
       "      <th>5</th>\n",
       "      <td>6400</td>\n",
       "      <td>30074708</td>\n",
       "      <td>2015-04-17</td>\n",
       "      <td>415910</td>\n",
       "      <td>Tej</td>\n",
       "      <td>Always a pleasure staying with Francesca and f...</td>\n",
       "    </tr>\n",
       "    <tr>\n",
       "      <th>6</th>\n",
       "      <td>6400</td>\n",
       "      <td>47340535</td>\n",
       "      <td>2015-09-18</td>\n",
       "      <td>5023643</td>\n",
       "      <td>Glynn</td>\n",
       "      <td>The host canceled this reservation the day bef...</td>\n",
       "    </tr>\n",
       "  </tbody>\n",
       "</table>\n",
       "</div>"
      ],
      "text/plain": [
       "   listing_id        id        date  reviewer_id reviewer_name  \\\n",
       "1        6400    227727  2011-04-16       415910           Tej   \n",
       "2        6400   1162608  2012-04-22       415910           Tej   \n",
       "3        6400  11670681  2014-04-11      8464658      Isabelle   \n",
       "5        6400  30074708  2015-04-17       415910           Tej   \n",
       "6        6400  47340535  2015-09-18      5023643         Glynn   \n",
       "\n",
       "                                            comments  \n",
       "1  Staying at Francesca's and Alberto's place was...  \n",
       "2  This is my second time staying with Francesca ...  \n",
       "3  Ein wunderbares Zimmer mit privatem Bad/ WC, a...  \n",
       "5  Always a pleasure staying with Francesca and f...  \n",
       "6  The host canceled this reservation the day bef...  "
      ]
     },
     "metadata": {},
     "output_type": "display_data"
    }
   ],
   "source": [
    "#checking new dataframe shape and head\n",
    "print(multi_review_df.shape)\n",
    "display(multi_review_df.head())"
   ]
  },
  {
   "cell_type": "code",
   "execution_count": 39,
   "metadata": {
    "scrolled": true
   },
   "outputs": [
    {
     "data": {
      "text/plain": [
       "326"
      ]
     },
     "execution_count": 39,
     "metadata": {},
     "output_type": "execute_result"
    }
   ],
   "source": [
    "len(err) #dropped 326 rows "
   ]
  },
  {
   "cell_type": "markdown",
   "metadata": {},
   "source": [
    "Checking individuals still have at least 2 reviews, if not will drop them."
   ]
  },
  {
   "cell_type": "code",
   "execution_count": 40,
   "metadata": {
    "scrolled": false
   },
   "outputs": [
    {
     "data": {
      "text/html": [
       "<div>\n",
       "<style scoped>\n",
       "    .dataframe tbody tr th:only-of-type {\n",
       "        vertical-align: middle;\n",
       "    }\n",
       "\n",
       "    .dataframe tbody tr th {\n",
       "        vertical-align: top;\n",
       "    }\n",
       "\n",
       "    .dataframe thead th {\n",
       "        text-align: right;\n",
       "    }\n",
       "</style>\n",
       "<table border=\"1\" class=\"dataframe\">\n",
       "  <thead>\n",
       "    <tr style=\"text-align: right;\">\n",
       "      <th></th>\n",
       "      <th>listing_id</th>\n",
       "      <th>id</th>\n",
       "      <th>date</th>\n",
       "      <th>reviewer_id</th>\n",
       "      <th>reviewer_name</th>\n",
       "      <th>comments</th>\n",
       "    </tr>\n",
       "  </thead>\n",
       "  <tbody>\n",
       "    <tr>\n",
       "      <th>11691</th>\n",
       "      <td>715392</td>\n",
       "      <td>711240566</td>\n",
       "      <td>2020-11-25</td>\n",
       "      <td>13753326</td>\n",
       "      <td>Massimo</td>\n",
       "      <td>Appartamento confortevole e accogliente, con l...</td>\n",
       "    </tr>\n",
       "    <tr>\n",
       "      <th>16955</th>\n",
       "      <td>786441</td>\n",
       "      <td>420088240427054321</td>\n",
       "      <td>2021-08-02</td>\n",
       "      <td>78145059</td>\n",
       "      <td>Nicola</td>\n",
       "      <td>Loft splendido in posizione strategica. Michel...</td>\n",
       "    </tr>\n",
       "    <tr>\n",
       "      <th>26350</th>\n",
       "      <td>1048855</td>\n",
       "      <td>102234877</td>\n",
       "      <td>2016-09-17</td>\n",
       "      <td>93702446</td>\n",
       "      <td>Ermes Fabrizio</td>\n",
       "      <td>Ottima, buon quartiere</td>\n",
       "    </tr>\n",
       "    <tr>\n",
       "      <th>40048</th>\n",
       "      <td>2035151</td>\n",
       "      <td>227540479</td>\n",
       "      <td>2018-01-15</td>\n",
       "      <td>89529924</td>\n",
       "      <td>Hagai</td>\n",
       "      <td>Great place and great value</td>\n",
       "    </tr>\n",
       "    <tr>\n",
       "      <th>46884</th>\n",
       "      <td>2221901</td>\n",
       "      <td>565327219</td>\n",
       "      <td>2019-11-17</td>\n",
       "      <td>275007113</td>\n",
       "      <td>光一郎</td>\n",
       "      <td>。</td>\n",
       "    </tr>\n",
       "    <tr>\n",
       "      <th>...</th>\n",
       "      <td>...</td>\n",
       "      <td>...</td>\n",
       "      <td>...</td>\n",
       "      <td>...</td>\n",
       "      <td>...</td>\n",
       "      <td>...</td>\n",
       "    </tr>\n",
       "    <tr>\n",
       "      <th>605090</th>\n",
       "      <td>746094666730299679</td>\n",
       "      <td>796931867297678583</td>\n",
       "      <td>2023-01-04</td>\n",
       "      <td>389897131</td>\n",
       "      <td>Marco</td>\n",
       "      <td>Appartamento carino e posizionato bene nel cen...</td>\n",
       "    </tr>\n",
       "    <tr>\n",
       "      <th>607910</th>\n",
       "      <td>766546991000790161</td>\n",
       "      <td>807828312427541088</td>\n",
       "      <td>2023-01-19</td>\n",
       "      <td>429915232</td>\n",
       "      <td>Maayan</td>\n",
       "      <td>It was amazing very comfortable very homey</td>\n",
       "    </tr>\n",
       "    <tr>\n",
       "      <th>608274</th>\n",
       "      <td>768842452874908603</td>\n",
       "      <td>788939567614809708</td>\n",
       "      <td>2022-12-24</td>\n",
       "      <td>364141470</td>\n",
       "      <td>Andrea</td>\n",
       "      <td>Bellissimo appartamento con la chicca del terr...</td>\n",
       "    </tr>\n",
       "    <tr>\n",
       "      <th>609446</th>\n",
       "      <td>786946845539327541</td>\n",
       "      <td>789667575573240907</td>\n",
       "      <td>2022-12-25</td>\n",
       "      <td>456622738</td>\n",
       "      <td>Aly</td>\n",
       "      <td>e una cosa bellissimo bello pulito c'è tutto n...</td>\n",
       "    </tr>\n",
       "    <tr>\n",
       "      <th>611739</th>\n",
       "      <td>833338902905055498</td>\n",
       "      <td>848380900733484004</td>\n",
       "      <td>2023-03-16</td>\n",
       "      <td>310692596</td>\n",
       "      <td>Sylviane</td>\n",
       "      <td>A   pas de la Gare, emplacement idéal. Météo à...</td>\n",
       "    </tr>\n",
       "  </tbody>\n",
       "</table>\n",
       "<p>171 rows × 6 columns</p>\n",
       "</div>"
      ],
      "text/plain": [
       "                listing_id                  id        date  reviewer_id  \\\n",
       "11691               715392           711240566  2020-11-25     13753326   \n",
       "16955               786441  420088240427054321  2021-08-02     78145059   \n",
       "26350              1048855           102234877  2016-09-17     93702446   \n",
       "40048              2035151           227540479  2018-01-15     89529924   \n",
       "46884              2221901           565327219  2019-11-17    275007113   \n",
       "...                    ...                 ...         ...          ...   \n",
       "605090  746094666730299679  796931867297678583  2023-01-04    389897131   \n",
       "607910  766546991000790161  807828312427541088  2023-01-19    429915232   \n",
       "608274  768842452874908603  788939567614809708  2022-12-24    364141470   \n",
       "609446  786946845539327541  789667575573240907  2022-12-25    456622738   \n",
       "611739  833338902905055498  848380900733484004  2023-03-16    310692596   \n",
       "\n",
       "         reviewer_name                                           comments  \n",
       "11691          Massimo  Appartamento confortevole e accogliente, con l...  \n",
       "16955           Nicola  Loft splendido in posizione strategica. Michel...  \n",
       "26350   Ermes Fabrizio                             Ottima, buon quartiere  \n",
       "40048            Hagai                        Great place and great value  \n",
       "46884              光一郎                                                  。  \n",
       "...                ...                                                ...  \n",
       "605090           Marco  Appartamento carino e posizionato bene nel cen...  \n",
       "607910          Maayan         It was amazing very comfortable very homey  \n",
       "608274          Andrea  Bellissimo appartamento con la chicca del terr...  \n",
       "609446             Aly  e una cosa bellissimo bello pulito c'è tutto n...  \n",
       "611739        Sylviane  A   pas de la Gare, emplacement idéal. Météo à...  \n",
       "\n",
       "[171 rows x 6 columns]"
      ]
     },
     "execution_count": 40,
     "metadata": {},
     "output_type": "execute_result"
    }
   ],
   "source": [
    "multi_review_df.groupby('reviewer_id').filter(lambda x : x['reviewer_id'].shape[0] == 1)\n",
    "\n"
   ]
  },
  {
   "cell_type": "markdown",
   "metadata": {},
   "source": [
    "Will likely be dropping these in the following steps because they are not in english so will leave for now to save code. Below we are adding a column for what language the reviews are in and then dropping all non english reviews."
   ]
  },
  {
   "cell_type": "code",
   "execution_count": 41,
   "metadata": {},
   "outputs": [],
   "source": [
    "multi_review_df['language'] = multi_review_df['comments'].apply(detect)"
   ]
  },
  {
   "cell_type": "code",
   "execution_count": 42,
   "metadata": {},
   "outputs": [],
   "source": [
    "#creating data frame with only english reviews\n",
    "english_reviews = multi_review_df.loc[multi_review_df['language'] == 'en']"
   ]
  },
  {
   "cell_type": "code",
   "execution_count": 44,
   "metadata": {
    "scrolled": false
   },
   "outputs": [
    {
     "name": "stdout",
     "output_type": "stream",
     "text": [
      "(48724, 7)\n"
     ]
    },
    {
     "data": {
      "text/html": [
       "<div>\n",
       "<style scoped>\n",
       "    .dataframe tbody tr th:only-of-type {\n",
       "        vertical-align: middle;\n",
       "    }\n",
       "\n",
       "    .dataframe tbody tr th {\n",
       "        vertical-align: top;\n",
       "    }\n",
       "\n",
       "    .dataframe thead th {\n",
       "        text-align: right;\n",
       "    }\n",
       "</style>\n",
       "<table border=\"1\" class=\"dataframe\">\n",
       "  <thead>\n",
       "    <tr style=\"text-align: right;\">\n",
       "      <th></th>\n",
       "      <th>listing_id</th>\n",
       "      <th>id</th>\n",
       "      <th>date</th>\n",
       "      <th>reviewer_id</th>\n",
       "      <th>reviewer_name</th>\n",
       "      <th>comments</th>\n",
       "      <th>language</th>\n",
       "    </tr>\n",
       "  </thead>\n",
       "  <tbody>\n",
       "    <tr>\n",
       "      <th>1</th>\n",
       "      <td>6400</td>\n",
       "      <td>227727</td>\n",
       "      <td>2011-04-16</td>\n",
       "      <td>415910</td>\n",
       "      <td>Tej</td>\n",
       "      <td>Staying at Francesca's and Alberto's place was...</td>\n",
       "      <td>en</td>\n",
       "    </tr>\n",
       "    <tr>\n",
       "      <th>2</th>\n",
       "      <td>6400</td>\n",
       "      <td>1162608</td>\n",
       "      <td>2012-04-22</td>\n",
       "      <td>415910</td>\n",
       "      <td>Tej</td>\n",
       "      <td>This is my second time staying with Francesca ...</td>\n",
       "      <td>en</td>\n",
       "    </tr>\n",
       "    <tr>\n",
       "      <th>5</th>\n",
       "      <td>6400</td>\n",
       "      <td>30074708</td>\n",
       "      <td>2015-04-17</td>\n",
       "      <td>415910</td>\n",
       "      <td>Tej</td>\n",
       "      <td>Always a pleasure staying with Francesca and f...</td>\n",
       "      <td>en</td>\n",
       "    </tr>\n",
       "    <tr>\n",
       "      <th>6</th>\n",
       "      <td>6400</td>\n",
       "      <td>47340535</td>\n",
       "      <td>2015-09-18</td>\n",
       "      <td>5023643</td>\n",
       "      <td>Glynn</td>\n",
       "      <td>The host canceled this reservation the day bef...</td>\n",
       "      <td>en</td>\n",
       "    </tr>\n",
       "    <tr>\n",
       "      <th>7</th>\n",
       "      <td>6400</td>\n",
       "      <td>70088360</td>\n",
       "      <td>2016-04-16</td>\n",
       "      <td>415910</td>\n",
       "      <td>Tej</td>\n",
       "      <td>Another nice stay at Francesca's place.. I fee...</td>\n",
       "      <td>en</td>\n",
       "    </tr>\n",
       "  </tbody>\n",
       "</table>\n",
       "</div>"
      ],
      "text/plain": [
       "   listing_id        id        date  reviewer_id reviewer_name  \\\n",
       "1        6400    227727  2011-04-16       415910           Tej   \n",
       "2        6400   1162608  2012-04-22       415910           Tej   \n",
       "5        6400  30074708  2015-04-17       415910           Tej   \n",
       "6        6400  47340535  2015-09-18      5023643         Glynn   \n",
       "7        6400  70088360  2016-04-16       415910           Tej   \n",
       "\n",
       "                                            comments language  \n",
       "1  Staying at Francesca's and Alberto's place was...       en  \n",
       "2  This is my second time staying with Francesca ...       en  \n",
       "5  Always a pleasure staying with Francesca and f...       en  \n",
       "6  The host canceled this reservation the day bef...       en  \n",
       "7  Another nice stay at Francesca's place.. I fee...       en  "
      ]
     },
     "metadata": {},
     "output_type": "display_data"
    }
   ],
   "source": [
    "print(english_reviews.shape)\n",
    "display(english_reviews.head())"
   ]
  },
  {
   "cell_type": "code",
   "execution_count": 45,
   "metadata": {},
   "outputs": [
    {
     "data": {
      "text/html": [
       "<div>\n",
       "<style scoped>\n",
       "    .dataframe tbody tr th:only-of-type {\n",
       "        vertical-align: middle;\n",
       "    }\n",
       "\n",
       "    .dataframe tbody tr th {\n",
       "        vertical-align: top;\n",
       "    }\n",
       "\n",
       "    .dataframe thead th {\n",
       "        text-align: right;\n",
       "    }\n",
       "</style>\n",
       "<table border=\"1\" class=\"dataframe\">\n",
       "  <thead>\n",
       "    <tr style=\"text-align: right;\">\n",
       "      <th></th>\n",
       "      <th>listing_id</th>\n",
       "      <th>id</th>\n",
       "      <th>date</th>\n",
       "      <th>reviewer_id</th>\n",
       "      <th>reviewer_name</th>\n",
       "      <th>comments</th>\n",
       "      <th>language</th>\n",
       "    </tr>\n",
       "  </thead>\n",
       "  <tbody>\n",
       "    <tr>\n",
       "      <th>23</th>\n",
       "      <td>23986</td>\n",
       "      <td>161250881</td>\n",
       "      <td>2017-06-17</td>\n",
       "      <td>134230425</td>\n",
       "      <td>Daniel</td>\n",
       "      <td>Jeremy was very communicative and has a great ...</td>\n",
       "      <td>en</td>\n",
       "    </tr>\n",
       "    <tr>\n",
       "      <th>333</th>\n",
       "      <td>304050</td>\n",
       "      <td>4134957</td>\n",
       "      <td>2013-04-13</td>\n",
       "      <td>2301725</td>\n",
       "      <td>Elena</td>\n",
       "      <td>Very good location in the city. From the cente...</td>\n",
       "      <td>en</td>\n",
       "    </tr>\n",
       "    <tr>\n",
       "      <th>444</th>\n",
       "      <td>304050</td>\n",
       "      <td>25392905</td>\n",
       "      <td>2015-01-14</td>\n",
       "      <td>22276765</td>\n",
       "      <td>Benjamin</td>\n",
       "      <td>Best hosts in town !!! Elena and her familly a...</td>\n",
       "      <td>en</td>\n",
       "    </tr>\n",
       "    <tr>\n",
       "      <th>561</th>\n",
       "      <td>434334</td>\n",
       "      <td>114544291</td>\n",
       "      <td>2016-11-19</td>\n",
       "      <td>85098831</td>\n",
       "      <td>Michela</td>\n",
       "      <td>Thank you it was realy a nice weekendtrip. The...</td>\n",
       "      <td>en</td>\n",
       "    </tr>\n",
       "    <tr>\n",
       "      <th>562</th>\n",
       "      <td>434334</td>\n",
       "      <td>114988553</td>\n",
       "      <td>2016-11-21</td>\n",
       "      <td>98885658</td>\n",
       "      <td>Jozef</td>\n",
       "      <td>The service provided was splendid. The apartme...</td>\n",
       "      <td>en</td>\n",
       "    </tr>\n",
       "    <tr>\n",
       "      <th>...</th>\n",
       "      <td>...</td>\n",
       "      <td>...</td>\n",
       "      <td>...</td>\n",
       "      <td>...</td>\n",
       "      <td>...</td>\n",
       "      <td>...</td>\n",
       "      <td>...</td>\n",
       "    </tr>\n",
       "    <tr>\n",
       "      <th>611230</th>\n",
       "      <td>820756944959611120</td>\n",
       "      <td>830277338762238393</td>\n",
       "      <td>2023-02-19</td>\n",
       "      <td>12448881</td>\n",
       "      <td>Valerio</td>\n",
       "      <td>Very nice flat ! Morena was excellent !</td>\n",
       "      <td>en</td>\n",
       "    </tr>\n",
       "    <tr>\n",
       "      <th>611401</th>\n",
       "      <td>820961530560341657</td>\n",
       "      <td>845457846019426643</td>\n",
       "      <td>2023-03-12</td>\n",
       "      <td>70900394</td>\n",
       "      <td>Ayush</td>\n",
       "      <td>Nice and clean apartment 🙂..</td>\n",
       "      <td>en</td>\n",
       "    </tr>\n",
       "    <tr>\n",
       "      <th>611452</th>\n",
       "      <td>826530152579820737</td>\n",
       "      <td>839745925827441478</td>\n",
       "      <td>2023-03-04</td>\n",
       "      <td>143122463</td>\n",
       "      <td>Noelle</td>\n",
       "      <td>Tonino was very nice with us and professional.</td>\n",
       "      <td>en</td>\n",
       "    </tr>\n",
       "    <tr>\n",
       "      <th>611684</th>\n",
       "      <td>831219399045484290</td>\n",
       "      <td>841879821367622424</td>\n",
       "      <td>2023-03-07</td>\n",
       "      <td>205509663</td>\n",
       "      <td>Paolo</td>\n",
       "      <td>Top</td>\n",
       "      <td>en</td>\n",
       "    </tr>\n",
       "    <tr>\n",
       "      <th>611742</th>\n",
       "      <td>833868975963836053</td>\n",
       "      <td>835396911398801761</td>\n",
       "      <td>2023-02-26</td>\n",
       "      <td>478531213</td>\n",
       "      <td>Chiara</td>\n",
       "      <td>The Host is very kind and helpful, the apartme...</td>\n",
       "      <td>en</td>\n",
       "    </tr>\n",
       "  </tbody>\n",
       "</table>\n",
       "<p>3722 rows × 7 columns</p>\n",
       "</div>"
      ],
      "text/plain": [
       "                listing_id                  id        date  reviewer_id  \\\n",
       "23                   23986           161250881  2017-06-17    134230425   \n",
       "333                 304050             4134957  2013-04-13      2301725   \n",
       "444                 304050            25392905  2015-01-14     22276765   \n",
       "561                 434334           114544291  2016-11-19     85098831   \n",
       "562                 434334           114988553  2016-11-21     98885658   \n",
       "...                    ...                 ...         ...          ...   \n",
       "611230  820756944959611120  830277338762238393  2023-02-19     12448881   \n",
       "611401  820961530560341657  845457846019426643  2023-03-12     70900394   \n",
       "611452  826530152579820737  839745925827441478  2023-03-04    143122463   \n",
       "611684  831219399045484290  841879821367622424  2023-03-07    205509663   \n",
       "611742  833868975963836053  835396911398801761  2023-02-26    478531213   \n",
       "\n",
       "       reviewer_name                                           comments  \\\n",
       "23            Daniel  Jeremy was very communicative and has a great ...   \n",
       "333            Elena  Very good location in the city. From the cente...   \n",
       "444         Benjamin  Best hosts in town !!! Elena and her familly a...   \n",
       "561          Michela  Thank you it was realy a nice weekendtrip. The...   \n",
       "562            Jozef  The service provided was splendid. The apartme...   \n",
       "...              ...                                                ...   \n",
       "611230       Valerio            Very nice flat ! Morena was excellent !   \n",
       "611401         Ayush                       Nice and clean apartment 🙂..   \n",
       "611452        Noelle     Tonino was very nice with us and professional.   \n",
       "611684         Paolo                                                Top   \n",
       "611742        Chiara  The Host is very kind and helpful, the apartme...   \n",
       "\n",
       "       language  \n",
       "23           en  \n",
       "333          en  \n",
       "444          en  \n",
       "561          en  \n",
       "562          en  \n",
       "...         ...  \n",
       "611230       en  \n",
       "611401       en  \n",
       "611452       en  \n",
       "611684       en  \n",
       "611742       en  \n",
       "\n",
       "[3722 rows x 7 columns]"
      ]
     },
     "execution_count": 45,
     "metadata": {},
     "output_type": "execute_result"
    }
   ],
   "source": [
    "#checking there is more than one review for each person\n",
    "english_reviews.groupby('reviewer_id').filter(lambda x : x['reviewer_id'].shape[0] == 1)\n"
   ]
  },
  {
   "cell_type": "code",
   "execution_count": 46,
   "metadata": {},
   "outputs": [],
   "source": [
    "#updating dataframe to have multi-reviews in english\n",
    "english_reviews = english_reviews.groupby('reviewer_id').filter(lambda x : x['reviewer_id'].shape[0] > 1)"
   ]
  },
  {
   "cell_type": "code",
   "execution_count": 47,
   "metadata": {
    "scrolled": true
   },
   "outputs": [
    {
     "data": {
      "text/html": [
       "<div>\n",
       "<style scoped>\n",
       "    .dataframe tbody tr th:only-of-type {\n",
       "        vertical-align: middle;\n",
       "    }\n",
       "\n",
       "    .dataframe tbody tr th {\n",
       "        vertical-align: top;\n",
       "    }\n",
       "\n",
       "    .dataframe thead th {\n",
       "        text-align: right;\n",
       "    }\n",
       "</style>\n",
       "<table border=\"1\" class=\"dataframe\">\n",
       "  <thead>\n",
       "    <tr style=\"text-align: right;\">\n",
       "      <th></th>\n",
       "      <th>listing_id</th>\n",
       "      <th>id</th>\n",
       "      <th>date</th>\n",
       "      <th>reviewer_id</th>\n",
       "      <th>reviewer_name</th>\n",
       "      <th>comments</th>\n",
       "      <th>language</th>\n",
       "    </tr>\n",
       "  </thead>\n",
       "  <tbody>\n",
       "    <tr>\n",
       "      <th>1</th>\n",
       "      <td>6400</td>\n",
       "      <td>227727</td>\n",
       "      <td>2011-04-16</td>\n",
       "      <td>415910</td>\n",
       "      <td>Tej</td>\n",
       "      <td>Staying at Francesca's and Alberto's place was...</td>\n",
       "      <td>en</td>\n",
       "    </tr>\n",
       "    <tr>\n",
       "      <th>2</th>\n",
       "      <td>6400</td>\n",
       "      <td>1162608</td>\n",
       "      <td>2012-04-22</td>\n",
       "      <td>415910</td>\n",
       "      <td>Tej</td>\n",
       "      <td>This is my second time staying with Francesca ...</td>\n",
       "      <td>en</td>\n",
       "    </tr>\n",
       "    <tr>\n",
       "      <th>5</th>\n",
       "      <td>6400</td>\n",
       "      <td>30074708</td>\n",
       "      <td>2015-04-17</td>\n",
       "      <td>415910</td>\n",
       "      <td>Tej</td>\n",
       "      <td>Always a pleasure staying with Francesca and f...</td>\n",
       "      <td>en</td>\n",
       "    </tr>\n",
       "    <tr>\n",
       "      <th>6</th>\n",
       "      <td>6400</td>\n",
       "      <td>47340535</td>\n",
       "      <td>2015-09-18</td>\n",
       "      <td>5023643</td>\n",
       "      <td>Glynn</td>\n",
       "      <td>The host canceled this reservation the day bef...</td>\n",
       "      <td>en</td>\n",
       "    </tr>\n",
       "    <tr>\n",
       "      <th>7</th>\n",
       "      <td>6400</td>\n",
       "      <td>70088360</td>\n",
       "      <td>2016-04-16</td>\n",
       "      <td>415910</td>\n",
       "      <td>Tej</td>\n",
       "      <td>Another nice stay at Francesca's place.. I fee...</td>\n",
       "      <td>en</td>\n",
       "    </tr>\n",
       "    <tr>\n",
       "      <th>...</th>\n",
       "      <td>...</td>\n",
       "      <td>...</td>\n",
       "      <td>...</td>\n",
       "      <td>...</td>\n",
       "      <td>...</td>\n",
       "      <td>...</td>\n",
       "      <td>...</td>\n",
       "    </tr>\n",
       "    <tr>\n",
       "      <th>611693</th>\n",
       "      <td>832647024131935906</td>\n",
       "      <td>844102915345361781</td>\n",
       "      <td>2023-03-10</td>\n",
       "      <td>157651921</td>\n",
       "      <td>Habib</td>\n",
       "      <td>good location. perfect if you need a practical...</td>\n",
       "      <td>en</td>\n",
       "    </tr>\n",
       "    <tr>\n",
       "      <th>611768</th>\n",
       "      <td>841111184096419460</td>\n",
       "      <td>843379515082510124</td>\n",
       "      <td>2023-03-09</td>\n",
       "      <td>491920050</td>\n",
       "      <td>Mauro</td>\n",
       "      <td>Very nice apartment, pictures and description ...</td>\n",
       "      <td>en</td>\n",
       "    </tr>\n",
       "    <tr>\n",
       "      <th>611782</th>\n",
       "      <td>843618815888733815</td>\n",
       "      <td>846290934716632307</td>\n",
       "      <td>2023-03-13</td>\n",
       "      <td>223990220</td>\n",
       "      <td>Tare</td>\n",
       "      <td>Great place.&lt;br/&gt;Host was really helpful.&lt;br/&gt;...</td>\n",
       "      <td>en</td>\n",
       "    </tr>\n",
       "    <tr>\n",
       "      <th>611785</th>\n",
       "      <td>846130517363365733</td>\n",
       "      <td>849082404435780093</td>\n",
       "      <td>2023-03-17</td>\n",
       "      <td>35287167</td>\n",
       "      <td>Greta</td>\n",
       "      <td>The apartment is in a very good location, just...</td>\n",
       "      <td>en</td>\n",
       "    </tr>\n",
       "    <tr>\n",
       "      <th>611800</th>\n",
       "      <td>838188511130316229</td>\n",
       "      <td>846976029055875390</td>\n",
       "      <td>2023-03-14</td>\n",
       "      <td>205576010</td>\n",
       "      <td>Mason</td>\n",
       "      <td>this apartment is perfect!!! and angelo was an...</td>\n",
       "      <td>en</td>\n",
       "    </tr>\n",
       "  </tbody>\n",
       "</table>\n",
       "<p>45002 rows × 7 columns</p>\n",
       "</div>"
      ],
      "text/plain": [
       "                listing_id                  id        date  reviewer_id  \\\n",
       "1                     6400              227727  2011-04-16       415910   \n",
       "2                     6400             1162608  2012-04-22       415910   \n",
       "5                     6400            30074708  2015-04-17       415910   \n",
       "6                     6400            47340535  2015-09-18      5023643   \n",
       "7                     6400            70088360  2016-04-16       415910   \n",
       "...                    ...                 ...         ...          ...   \n",
       "611693  832647024131935906  844102915345361781  2023-03-10    157651921   \n",
       "611768  841111184096419460  843379515082510124  2023-03-09    491920050   \n",
       "611782  843618815888733815  846290934716632307  2023-03-13    223990220   \n",
       "611785  846130517363365733  849082404435780093  2023-03-17     35287167   \n",
       "611800  838188511130316229  846976029055875390  2023-03-14    205576010   \n",
       "\n",
       "       reviewer_name                                           comments  \\\n",
       "1                Tej  Staying at Francesca's and Alberto's place was...   \n",
       "2                Tej  This is my second time staying with Francesca ...   \n",
       "5                Tej  Always a pleasure staying with Francesca and f...   \n",
       "6              Glynn  The host canceled this reservation the day bef...   \n",
       "7                Tej  Another nice stay at Francesca's place.. I fee...   \n",
       "...              ...                                                ...   \n",
       "611693         Habib  good location. perfect if you need a practical...   \n",
       "611768         Mauro  Very nice apartment, pictures and description ...   \n",
       "611782          Tare  Great place.<br/>Host was really helpful.<br/>...   \n",
       "611785         Greta  The apartment is in a very good location, just...   \n",
       "611800         Mason  this apartment is perfect!!! and angelo was an...   \n",
       "\n",
       "       language  \n",
       "1            en  \n",
       "2            en  \n",
       "5            en  \n",
       "6            en  \n",
       "7            en  \n",
       "...         ...  \n",
       "611693       en  \n",
       "611768       en  \n",
       "611782       en  \n",
       "611785       en  \n",
       "611800       en  \n",
       "\n",
       "[45002 rows x 7 columns]"
      ]
     },
     "execution_count": 47,
     "metadata": {},
     "output_type": "execute_result"
    }
   ],
   "source": [
    "english_reviews"
   ]
  },
  {
   "cell_type": "code",
   "execution_count": 48,
   "metadata": {},
   "outputs": [
    {
     "data": {
      "text/plain": [
       "(45002, 7)"
      ]
     },
     "execution_count": 48,
     "metadata": {},
     "output_type": "execute_result"
    }
   ],
   "source": [
    "english_reviews.shape"
   ]
  },
  {
   "cell_type": "code",
   "execution_count": 49,
   "metadata": {},
   "outputs": [
    {
     "name": "stdout",
     "output_type": "stream",
     "text": [
      "<class 'pandas.core.frame.DataFrame'>\n",
      "Int64Index: 45002 entries, 1 to 611800\n",
      "Data columns (total 7 columns):\n",
      " #   Column         Non-Null Count  Dtype \n",
      "---  ------         --------------  ----- \n",
      " 0   listing_id     45002 non-null  int64 \n",
      " 1   id             45002 non-null  int64 \n",
      " 2   date           45002 non-null  object\n",
      " 3   reviewer_id    45002 non-null  int64 \n",
      " 4   reviewer_name  45002 non-null  object\n",
      " 5   comments       45002 non-null  object\n",
      " 6   language       45002 non-null  object\n",
      "dtypes: int64(3), object(4)\n",
      "memory usage: 2.7+ MB\n"
     ]
    }
   ],
   "source": [
    "english_reviews.info()"
   ]
  },
  {
   "cell_type": "markdown",
   "metadata": {},
   "source": [
    "### Sentiment Analyzer + Scoring\n",
    "In order to create a recommendation system we will need to have some sort of rating system. in the given dataset we do not have any scores however we can create makeshift ratings based off of the sentiment of the given user. Below we will be instantiating a sentiment analyzer to create these scores and then using the polarity score to create a rating system of 1-10 of how the users comments (essentially) would be rating a given airbnb. This system and function has also been adapted from the previous work of Alex Gastone."
   ]
  },
  {
   "cell_type": "code",
   "execution_count": 50,
   "metadata": {},
   "outputs": [],
   "source": [
    "sia = SentimentIntensityAnalyzer()"
   ]
  },
  {
   "cell_type": "code",
   "execution_count": 51,
   "metadata": {
    "scrolled": true
   },
   "outputs": [],
   "source": [
    "#creating scores function on the analyzer\n",
    "def scores(comment):\n",
    "    score = sia.polarity_scores(comment)\n",
    "    return(pd.DataFrame.from_dict(score, orient='index'))"
   ]
  },
  {
   "cell_type": "code",
   "execution_count": 56,
   "metadata": {
    "scrolled": true
   },
   "outputs": [
    {
     "data": {
      "text/html": [
       "<div>\n",
       "<style scoped>\n",
       "    .dataframe tbody tr th:only-of-type {\n",
       "        vertical-align: middle;\n",
       "    }\n",
       "\n",
       "    .dataframe tbody tr th {\n",
       "        vertical-align: top;\n",
       "    }\n",
       "\n",
       "    .dataframe thead th {\n",
       "        text-align: right;\n",
       "    }\n",
       "</style>\n",
       "<table border=\"1\" class=\"dataframe\">\n",
       "  <thead>\n",
       "    <tr style=\"text-align: right;\">\n",
       "      <th></th>\n",
       "      <th>0</th>\n",
       "    </tr>\n",
       "  </thead>\n",
       "  <tbody>\n",
       "    <tr>\n",
       "      <th>neg</th>\n",
       "      <td>0.0000</td>\n",
       "    </tr>\n",
       "    <tr>\n",
       "      <th>neu</th>\n",
       "      <td>0.5870</td>\n",
       "    </tr>\n",
       "    <tr>\n",
       "      <th>pos</th>\n",
       "      <td>0.4130</td>\n",
       "    </tr>\n",
       "    <tr>\n",
       "      <th>compound</th>\n",
       "      <td>0.9827</td>\n",
       "    </tr>\n",
       "  </tbody>\n",
       "</table>\n",
       "</div>"
      ],
      "text/plain": [
       "               0\n",
       "neg       0.0000\n",
       "neu       0.5870\n",
       "pos       0.4130\n",
       "compound  0.9827"
      ]
     },
     "execution_count": 56,
     "metadata": {},
     "output_type": "execute_result"
    }
   ],
   "source": [
    "#testing out how this works on the first review\n",
    "scores(english_reviews['comments'][1])"
   ]
  },
  {
   "cell_type": "code",
   "execution_count": 77,
   "metadata": {
    "scrolled": true
   },
   "outputs": [
    {
     "data": {
      "text/plain": [
       "\"Staying at Francesca's and Alberto's place was a pleasure. Just as described, well located for my purposes, an enjoyable walk to the Tortona area. The room is very nice, cleaned daily and has private bathroom.\\r<br/>\\r<br/>Francesca is super friendly and very helpful; whilst still respecting privacy.\\r<br/>\\r<br/>Overall a great experience!\\r<br/>\""
      ]
     },
     "execution_count": 77,
     "metadata": {},
     "output_type": "execute_result"
    }
   ],
   "source": [
    "english_reviews['comments'][1]\n",
    "#this makes sense that this is not considered a negative score!!"
   ]
  },
  {
   "cell_type": "markdown",
   "metadata": {},
   "source": [
    "We are going to group our polarity scores 1-10 for recommendations and are going to be using just the positive scores for these recommendations. The reason we are using the positive scores is because these are the most accurate reflection of the what the sentiment of the comment is. For example, a positive score of 0 would be a comment that said \"Horrible!\" or \"Host cancelled\". Will see more of this below. \n",
    "\n",
    " <b> Note </b> : We are keeping in cancelled reservations for this recommenders because I believe it says something about the host and listing as well if the reservations are often cancelled from a particular airbnb. "
   ]
  },
  {
   "cell_type": "code",
   "execution_count": 57,
   "metadata": {},
   "outputs": [],
   "source": [
    "polarity = lambda s: (sia.polarity_scores(s))['pos']\n",
    "english_reviews['polarity'] = english_reviews.comments.map(polarity)"
   ]
  },
  {
   "cell_type": "code",
   "execution_count": 58,
   "metadata": {
    "scrolled": false
   },
   "outputs": [
    {
     "data": {
      "text/html": [
       "<div>\n",
       "<style scoped>\n",
       "    .dataframe tbody tr th:only-of-type {\n",
       "        vertical-align: middle;\n",
       "    }\n",
       "\n",
       "    .dataframe tbody tr th {\n",
       "        vertical-align: top;\n",
       "    }\n",
       "\n",
       "    .dataframe thead th {\n",
       "        text-align: right;\n",
       "    }\n",
       "</style>\n",
       "<table border=\"1\" class=\"dataframe\">\n",
       "  <thead>\n",
       "    <tr style=\"text-align: right;\">\n",
       "      <th></th>\n",
       "      <th>listing_id</th>\n",
       "      <th>id</th>\n",
       "      <th>date</th>\n",
       "      <th>reviewer_id</th>\n",
       "      <th>reviewer_name</th>\n",
       "      <th>comments</th>\n",
       "      <th>language</th>\n",
       "      <th>polarity</th>\n",
       "    </tr>\n",
       "  </thead>\n",
       "  <tbody>\n",
       "    <tr>\n",
       "      <th>1</th>\n",
       "      <td>6400</td>\n",
       "      <td>227727</td>\n",
       "      <td>2011-04-16</td>\n",
       "      <td>415910</td>\n",
       "      <td>Tej</td>\n",
       "      <td>Staying at Francesca's and Alberto's place was...</td>\n",
       "      <td>en</td>\n",
       "      <td>0.413</td>\n",
       "    </tr>\n",
       "    <tr>\n",
       "      <th>2</th>\n",
       "      <td>6400</td>\n",
       "      <td>1162608</td>\n",
       "      <td>2012-04-22</td>\n",
       "      <td>415910</td>\n",
       "      <td>Tej</td>\n",
       "      <td>This is my second time staying with Francesca ...</td>\n",
       "      <td>en</td>\n",
       "      <td>0.392</td>\n",
       "    </tr>\n",
       "    <tr>\n",
       "      <th>5</th>\n",
       "      <td>6400</td>\n",
       "      <td>30074708</td>\n",
       "      <td>2015-04-17</td>\n",
       "      <td>415910</td>\n",
       "      <td>Tej</td>\n",
       "      <td>Always a pleasure staying with Francesca and f...</td>\n",
       "      <td>en</td>\n",
       "      <td>0.112</td>\n",
       "    </tr>\n",
       "    <tr>\n",
       "      <th>6</th>\n",
       "      <td>6400</td>\n",
       "      <td>47340535</td>\n",
       "      <td>2015-09-18</td>\n",
       "      <td>5023643</td>\n",
       "      <td>Glynn</td>\n",
       "      <td>The host canceled this reservation the day bef...</td>\n",
       "      <td>en</td>\n",
       "      <td>0.000</td>\n",
       "    </tr>\n",
       "    <tr>\n",
       "      <th>7</th>\n",
       "      <td>6400</td>\n",
       "      <td>70088360</td>\n",
       "      <td>2016-04-16</td>\n",
       "      <td>415910</td>\n",
       "      <td>Tej</td>\n",
       "      <td>Another nice stay at Francesca's place.. I fee...</td>\n",
       "      <td>en</td>\n",
       "      <td>0.359</td>\n",
       "    </tr>\n",
       "  </tbody>\n",
       "</table>\n",
       "</div>"
      ],
      "text/plain": [
       "   listing_id        id        date  reviewer_id reviewer_name  \\\n",
       "1        6400    227727  2011-04-16       415910           Tej   \n",
       "2        6400   1162608  2012-04-22       415910           Tej   \n",
       "5        6400  30074708  2015-04-17       415910           Tej   \n",
       "6        6400  47340535  2015-09-18      5023643         Glynn   \n",
       "7        6400  70088360  2016-04-16       415910           Tej   \n",
       "\n",
       "                                            comments language  polarity  \n",
       "1  Staying at Francesca's and Alberto's place was...       en     0.413  \n",
       "2  This is my second time staying with Francesca ...       en     0.392  \n",
       "5  Always a pleasure staying with Francesca and f...       en     0.112  \n",
       "6  The host canceled this reservation the day bef...       en     0.000  \n",
       "7  Another nice stay at Francesca's place.. I fee...       en     0.359  "
      ]
     },
     "execution_count": 58,
     "metadata": {},
     "output_type": "execute_result"
    }
   ],
   "source": [
    "english_reviews.head()"
   ]
  },
  {
   "cell_type": "markdown",
   "metadata": {},
   "source": [
    "Binning the polarity scores 1-10 for the recommendation system"
   ]
  },
  {
   "cell_type": "code",
   "execution_count": 80,
   "metadata": {},
   "outputs": [],
   "source": [
    "bins = [0, .1, .2, .3, .4, .5, .6, .7, .8, .9, 1]\n",
    "labels = [1,2,3,4,5,6,7,8,9,10]\n",
    "\n",
    "english_reviews['rec_scale'] = pd.cut(x = english_reviews['polarity'], bins = bins, labels = labels, include_lowest = True)"
   ]
  },
  {
   "cell_type": "code",
   "execution_count": 81,
   "metadata": {
    "scrolled": false
   },
   "outputs": [
    {
     "data": {
      "text/html": [
       "<div>\n",
       "<style scoped>\n",
       "    .dataframe tbody tr th:only-of-type {\n",
       "        vertical-align: middle;\n",
       "    }\n",
       "\n",
       "    .dataframe tbody tr th {\n",
       "        vertical-align: top;\n",
       "    }\n",
       "\n",
       "    .dataframe thead th {\n",
       "        text-align: right;\n",
       "    }\n",
       "</style>\n",
       "<table border=\"1\" class=\"dataframe\">\n",
       "  <thead>\n",
       "    <tr style=\"text-align: right;\">\n",
       "      <th></th>\n",
       "      <th>listing_id</th>\n",
       "      <th>id</th>\n",
       "      <th>date</th>\n",
       "      <th>reviewer_id</th>\n",
       "      <th>reviewer_name</th>\n",
       "      <th>comments</th>\n",
       "      <th>language</th>\n",
       "      <th>polarity</th>\n",
       "      <th>rec_scale</th>\n",
       "    </tr>\n",
       "  </thead>\n",
       "  <tbody>\n",
       "    <tr>\n",
       "      <th>1</th>\n",
       "      <td>6400</td>\n",
       "      <td>227727</td>\n",
       "      <td>2011-04-16</td>\n",
       "      <td>415910</td>\n",
       "      <td>Tej</td>\n",
       "      <td>Staying at Francesca's and Alberto's place was...</td>\n",
       "      <td>en</td>\n",
       "      <td>0.9827</td>\n",
       "      <td>10</td>\n",
       "    </tr>\n",
       "    <tr>\n",
       "      <th>2</th>\n",
       "      <td>6400</td>\n",
       "      <td>1162608</td>\n",
       "      <td>2012-04-22</td>\n",
       "      <td>415910</td>\n",
       "      <td>Tej</td>\n",
       "      <td>This is my second time staying with Francesca ...</td>\n",
       "      <td>en</td>\n",
       "      <td>0.9638</td>\n",
       "      <td>10</td>\n",
       "    </tr>\n",
       "    <tr>\n",
       "      <th>5</th>\n",
       "      <td>6400</td>\n",
       "      <td>30074708</td>\n",
       "      <td>2015-04-17</td>\n",
       "      <td>415910</td>\n",
       "      <td>Tej</td>\n",
       "      <td>Always a pleasure staying with Francesca and f...</td>\n",
       "      <td>en</td>\n",
       "      <td>0.6467</td>\n",
       "      <td>7</td>\n",
       "    </tr>\n",
       "    <tr>\n",
       "      <th>6</th>\n",
       "      <td>6400</td>\n",
       "      <td>47340535</td>\n",
       "      <td>2015-09-18</td>\n",
       "      <td>5023643</td>\n",
       "      <td>Glynn</td>\n",
       "      <td>The host canceled this reservation the day bef...</td>\n",
       "      <td>en</td>\n",
       "      <td>0.0000</td>\n",
       "      <td>1</td>\n",
       "    </tr>\n",
       "    <tr>\n",
       "      <th>7</th>\n",
       "      <td>6400</td>\n",
       "      <td>70088360</td>\n",
       "      <td>2016-04-16</td>\n",
       "      <td>415910</td>\n",
       "      <td>Tej</td>\n",
       "      <td>Another nice stay at Francesca's place.. I fee...</td>\n",
       "      <td>en</td>\n",
       "      <td>0.6800</td>\n",
       "      <td>7</td>\n",
       "    </tr>\n",
       "    <tr>\n",
       "      <th>...</th>\n",
       "      <td>...</td>\n",
       "      <td>...</td>\n",
       "      <td>...</td>\n",
       "      <td>...</td>\n",
       "      <td>...</td>\n",
       "      <td>...</td>\n",
       "      <td>...</td>\n",
       "      <td>...</td>\n",
       "      <td>...</td>\n",
       "    </tr>\n",
       "    <tr>\n",
       "      <th>611693</th>\n",
       "      <td>832647024131935906</td>\n",
       "      <td>844102915345361781</td>\n",
       "      <td>2023-03-10</td>\n",
       "      <td>157651921</td>\n",
       "      <td>Habib</td>\n",
       "      <td>good location. perfect if you need a practical...</td>\n",
       "      <td>en</td>\n",
       "      <td>0.7650</td>\n",
       "      <td>8</td>\n",
       "    </tr>\n",
       "    <tr>\n",
       "      <th>611768</th>\n",
       "      <td>841111184096419460</td>\n",
       "      <td>843379515082510124</td>\n",
       "      <td>2023-03-09</td>\n",
       "      <td>491920050</td>\n",
       "      <td>Mauro</td>\n",
       "      <td>Very nice apartment, pictures and description ...</td>\n",
       "      <td>en</td>\n",
       "      <td>0.8991</td>\n",
       "      <td>9</td>\n",
       "    </tr>\n",
       "    <tr>\n",
       "      <th>611782</th>\n",
       "      <td>843618815888733815</td>\n",
       "      <td>846290934716632307</td>\n",
       "      <td>2023-03-13</td>\n",
       "      <td>223990220</td>\n",
       "      <td>Tare</td>\n",
       "      <td>Great place.&lt;br/&gt;Host was really helpful.&lt;br/&gt;...</td>\n",
       "      <td>en</td>\n",
       "      <td>0.7832</td>\n",
       "      <td>8</td>\n",
       "    </tr>\n",
       "    <tr>\n",
       "      <th>611785</th>\n",
       "      <td>846130517363365733</td>\n",
       "      <td>849082404435780093</td>\n",
       "      <td>2023-03-17</td>\n",
       "      <td>35287167</td>\n",
       "      <td>Greta</td>\n",
       "      <td>The apartment is in a very good location, just...</td>\n",
       "      <td>en</td>\n",
       "      <td>0.9558</td>\n",
       "      <td>10</td>\n",
       "    </tr>\n",
       "    <tr>\n",
       "      <th>611800</th>\n",
       "      <td>838188511130316229</td>\n",
       "      <td>846976029055875390</td>\n",
       "      <td>2023-03-14</td>\n",
       "      <td>205576010</td>\n",
       "      <td>Mason</td>\n",
       "      <td>this apartment is perfect!!! and angelo was an...</td>\n",
       "      <td>en</td>\n",
       "      <td>0.9774</td>\n",
       "      <td>10</td>\n",
       "    </tr>\n",
       "  </tbody>\n",
       "</table>\n",
       "<p>45035 rows × 9 columns</p>\n",
       "</div>"
      ],
      "text/plain": [
       "                listing_id                  id        date  reviewer_id  \\\n",
       "1                     6400              227727  2011-04-16       415910   \n",
       "2                     6400             1162608  2012-04-22       415910   \n",
       "5                     6400            30074708  2015-04-17       415910   \n",
       "6                     6400            47340535  2015-09-18      5023643   \n",
       "7                     6400            70088360  2016-04-16       415910   \n",
       "...                    ...                 ...         ...          ...   \n",
       "611693  832647024131935906  844102915345361781  2023-03-10    157651921   \n",
       "611768  841111184096419460  843379515082510124  2023-03-09    491920050   \n",
       "611782  843618815888733815  846290934716632307  2023-03-13    223990220   \n",
       "611785  846130517363365733  849082404435780093  2023-03-17     35287167   \n",
       "611800  838188511130316229  846976029055875390  2023-03-14    205576010   \n",
       "\n",
       "       reviewer_name                                           comments  \\\n",
       "1                Tej  Staying at Francesca's and Alberto's place was...   \n",
       "2                Tej  This is my second time staying with Francesca ...   \n",
       "5                Tej  Always a pleasure staying with Francesca and f...   \n",
       "6              Glynn  The host canceled this reservation the day bef...   \n",
       "7                Tej  Another nice stay at Francesca's place.. I fee...   \n",
       "...              ...                                                ...   \n",
       "611693         Habib  good location. perfect if you need a practical...   \n",
       "611768         Mauro  Very nice apartment, pictures and description ...   \n",
       "611782          Tare  Great place.<br/>Host was really helpful.<br/>...   \n",
       "611785         Greta  The apartment is in a very good location, just...   \n",
       "611800         Mason  this apartment is perfect!!! and angelo was an...   \n",
       "\n",
       "       language  polarity rec_scale  \n",
       "1            en    0.9827        10  \n",
       "2            en    0.9638        10  \n",
       "5            en    0.6467         7  \n",
       "6            en    0.0000         1  \n",
       "7            en    0.6800         7  \n",
       "...         ...       ...       ...  \n",
       "611693       en    0.7650         8  \n",
       "611768       en    0.8991         9  \n",
       "611782       en    0.7832         8  \n",
       "611785       en    0.9558        10  \n",
       "611800       en    0.9774        10  \n",
       "\n",
       "[45035 rows x 9 columns]"
      ]
     },
     "execution_count": 81,
     "metadata": {},
     "output_type": "execute_result"
    }
   ],
   "source": [
    "english_reviews"
   ]
  },
  {
   "cell_type": "code",
   "execution_count": 82,
   "metadata": {
    "scrolled": true
   },
   "outputs": [
    {
     "data": {
      "text/plain": [
       "10    23398\n",
       "9      9304\n",
       "8      3986\n",
       "7      2944\n",
       "5      1507\n",
       "6      1350\n",
       "1       967\n",
       "4       375\n",
       "3       313\n",
       "2       108\n",
       "Name: rec_scale, dtype: int64"
      ]
     },
     "execution_count": 82,
     "metadata": {},
     "output_type": "execute_result"
    }
   ],
   "source": [
    "english_reviews['rec_scale'].value_counts()"
   ]
  },
  {
   "cell_type": "code",
   "execution_count": 83,
   "metadata": {},
   "outputs": [
    {
     "name": "stdout",
     "output_type": "stream",
     "text": [
      "<class 'pandas.core.frame.DataFrame'>\n",
      "Int64Index: 45035 entries, 1 to 611800\n",
      "Data columns (total 9 columns):\n",
      " #   Column         Non-Null Count  Dtype   \n",
      "---  ------         --------------  -----   \n",
      " 0   listing_id     45035 non-null  int64   \n",
      " 1   id             45035 non-null  int64   \n",
      " 2   date           45035 non-null  object  \n",
      " 3   reviewer_id    45035 non-null  int64   \n",
      " 4   reviewer_name  45035 non-null  object  \n",
      " 5   comments       45035 non-null  object  \n",
      " 6   language       45035 non-null  object  \n",
      " 7   polarity       45035 non-null  float64 \n",
      " 8   rec_scale      44252 non-null  category\n",
      "dtypes: category(1), float64(1), int64(3), object(4)\n",
      "memory usage: 4.4+ MB\n"
     ]
    }
   ],
   "source": [
    "english_reviews.info()"
   ]
  },
  {
   "cell_type": "code",
   "execution_count": 84,
   "metadata": {
    "scrolled": false
   },
   "outputs": [
    {
     "data": {
      "text/html": [
       "<div>\n",
       "<style scoped>\n",
       "    .dataframe tbody tr th:only-of-type {\n",
       "        vertical-align: middle;\n",
       "    }\n",
       "\n",
       "    .dataframe tbody tr th {\n",
       "        vertical-align: top;\n",
       "    }\n",
       "\n",
       "    .dataframe thead th {\n",
       "        text-align: right;\n",
       "    }\n",
       "</style>\n",
       "<table border=\"1\" class=\"dataframe\">\n",
       "  <thead>\n",
       "    <tr style=\"text-align: right;\">\n",
       "      <th></th>\n",
       "      <th>listing_id</th>\n",
       "      <th>id</th>\n",
       "      <th>date</th>\n",
       "      <th>reviewer_id</th>\n",
       "      <th>reviewer_name</th>\n",
       "      <th>comments</th>\n",
       "      <th>language</th>\n",
       "      <th>polarity</th>\n",
       "      <th>rec_scale</th>\n",
       "    </tr>\n",
       "  </thead>\n",
       "  <tbody>\n",
       "    <tr>\n",
       "      <th>653</th>\n",
       "      <td>82227</td>\n",
       "      <td>460819058016140060</td>\n",
       "      <td>2021-09-27</td>\n",
       "      <td>158566202</td>\n",
       "      <td>Nigela</td>\n",
       "      <td>A nightmare host.. He made my life in the apar...</td>\n",
       "      <td>en</td>\n",
       "      <td>-0.9948</td>\n",
       "      <td>NaN</td>\n",
       "    </tr>\n",
       "    <tr>\n",
       "      <th>1577</th>\n",
       "      <td>344791</td>\n",
       "      <td>557017263</td>\n",
       "      <td>2019-10-31</td>\n",
       "      <td>7832974</td>\n",
       "      <td>Marco</td>\n",
       "      <td>Davide is a great host, very kind and helpful,...</td>\n",
       "      <td>en</td>\n",
       "      <td>-0.8757</td>\n",
       "      <td>NaN</td>\n",
       "    </tr>\n",
       "    <tr>\n",
       "      <th>1578</th>\n",
       "      <td>344791</td>\n",
       "      <td>567703637</td>\n",
       "      <td>2019-11-23</td>\n",
       "      <td>55831149</td>\n",
       "      <td>Zhiwei</td>\n",
       "      <td>I use Airbnb for   years.this is the first tim...</td>\n",
       "      <td>en</td>\n",
       "      <td>-0.3542</td>\n",
       "      <td>NaN</td>\n",
       "    </tr>\n",
       "    <tr>\n",
       "      <th>2754</th>\n",
       "      <td>466141</td>\n",
       "      <td>9389661</td>\n",
       "      <td>2013-12-25</td>\n",
       "      <td>10632102</td>\n",
       "      <td>Isaiah</td>\n",
       "      <td>Warm and cozy apartment, not to mention a perf...</td>\n",
       "      <td>en</td>\n",
       "      <td>-0.2728</td>\n",
       "      <td>NaN</td>\n",
       "    </tr>\n",
       "    <tr>\n",
       "      <th>3840</th>\n",
       "      <td>470276</td>\n",
       "      <td>6578288</td>\n",
       "      <td>2013-08-17</td>\n",
       "      <td>7998808</td>\n",
       "      <td>Diego</td>\n",
       "      <td>In spite of the short notice and arriving late...</td>\n",
       "      <td>en</td>\n",
       "      <td>-0.9331</td>\n",
       "      <td>NaN</td>\n",
       "    </tr>\n",
       "  </tbody>\n",
       "</table>\n",
       "</div>"
      ],
      "text/plain": [
       "      listing_id                  id        date  reviewer_id reviewer_name  \\\n",
       "653        82227  460819058016140060  2021-09-27    158566202        Nigela   \n",
       "1577      344791           557017263  2019-10-31      7832974         Marco   \n",
       "1578      344791           567703637  2019-11-23     55831149        Zhiwei   \n",
       "2754      466141             9389661  2013-12-25     10632102        Isaiah   \n",
       "3840      470276             6578288  2013-08-17      7998808         Diego   \n",
       "\n",
       "                                               comments language  polarity  \\\n",
       "653   A nightmare host.. He made my life in the apar...       en   -0.9948   \n",
       "1577  Davide is a great host, very kind and helpful,...       en   -0.8757   \n",
       "1578  I use Airbnb for   years.this is the first tim...       en   -0.3542   \n",
       "2754  Warm and cozy apartment, not to mention a perf...       en   -0.2728   \n",
       "3840  In spite of the short notice and arriving late...       en   -0.9331   \n",
       "\n",
       "     rec_scale  \n",
       "653        NaN  \n",
       "1577       NaN  \n",
       "1578       NaN  \n",
       "2754       NaN  \n",
       "3840       NaN  "
      ]
     },
     "execution_count": 84,
     "metadata": {},
     "output_type": "execute_result"
    }
   ],
   "source": [
    "english_reviews.loc[english_reviews['rec_scale'].isnull()].head()"
   ]
  },
  {
   "cell_type": "code",
   "execution_count": 85,
   "metadata": {
    "scrolled": false
   },
   "outputs": [
    {
     "data": {
      "text/html": [
       "<div>\n",
       "<style scoped>\n",
       "    .dataframe tbody tr th:only-of-type {\n",
       "        vertical-align: middle;\n",
       "    }\n",
       "\n",
       "    .dataframe tbody tr th {\n",
       "        vertical-align: top;\n",
       "    }\n",
       "\n",
       "    .dataframe thead th {\n",
       "        text-align: right;\n",
       "    }\n",
       "</style>\n",
       "<table border=\"1\" class=\"dataframe\">\n",
       "  <thead>\n",
       "    <tr style=\"text-align: right;\">\n",
       "      <th></th>\n",
       "      <th>0</th>\n",
       "    </tr>\n",
       "  </thead>\n",
       "  <tbody>\n",
       "    <tr>\n",
       "      <th>neg</th>\n",
       "      <td>0.1410</td>\n",
       "    </tr>\n",
       "    <tr>\n",
       "      <th>neu</th>\n",
       "      <td>0.7980</td>\n",
       "    </tr>\n",
       "    <tr>\n",
       "      <th>pos</th>\n",
       "      <td>0.0610</td>\n",
       "    </tr>\n",
       "    <tr>\n",
       "      <th>compound</th>\n",
       "      <td>-0.9948</td>\n",
       "    </tr>\n",
       "  </tbody>\n",
       "</table>\n",
       "</div>"
      ],
      "text/plain": [
       "               0\n",
       "neg       0.1410\n",
       "neu       0.7980\n",
       "pos       0.0610\n",
       "compound -0.9948"
      ]
     },
     "execution_count": 85,
     "metadata": {},
     "output_type": "execute_result"
    }
   ],
   "source": [
    "#looking into one score for the -scores specifically\n",
    "scores(english_reviews['comments'][653])"
   ]
  },
  {
   "cell_type": "markdown",
   "metadata": {},
   "source": [
    "Based on the above, it looks like it makes more sense potentially to use the positive score as the polarity instead of the compount. Making this shift below. "
   ]
  },
  {
   "cell_type": "code",
   "execution_count": 86,
   "metadata": {},
   "outputs": [],
   "source": [
    "polarity = lambda s: (sia.polarity_scores(s))['pos']\n",
    "english_reviews['polarity'] = english_reviews.comments.map(polarity)"
   ]
  },
  {
   "cell_type": "code",
   "execution_count": 87,
   "metadata": {},
   "outputs": [],
   "source": [
    "#binning and changing the column\n",
    "bins = [0, .1, .2, .3, .4, .5, .6, .7, .8, .9, 1]\n",
    "labels = [1,2,3,4,5,6,7,8,9,10]\n",
    "\n",
    "english_reviews['rec_scale'] = pd.cut(x = english_reviews['polarity'], bins = bins, labels = labels, include_lowest = True)"
   ]
  },
  {
   "cell_type": "code",
   "execution_count": 88,
   "metadata": {
    "scrolled": false
   },
   "outputs": [
    {
     "data": {
      "text/html": [
       "<div>\n",
       "<style scoped>\n",
       "    .dataframe tbody tr th:only-of-type {\n",
       "        vertical-align: middle;\n",
       "    }\n",
       "\n",
       "    .dataframe tbody tr th {\n",
       "        vertical-align: top;\n",
       "    }\n",
       "\n",
       "    .dataframe thead th {\n",
       "        text-align: right;\n",
       "    }\n",
       "</style>\n",
       "<table border=\"1\" class=\"dataframe\">\n",
       "  <thead>\n",
       "    <tr style=\"text-align: right;\">\n",
       "      <th></th>\n",
       "      <th>listing_id</th>\n",
       "      <th>id</th>\n",
       "      <th>date</th>\n",
       "      <th>reviewer_id</th>\n",
       "      <th>reviewer_name</th>\n",
       "      <th>comments</th>\n",
       "      <th>language</th>\n",
       "      <th>polarity</th>\n",
       "      <th>rec_scale</th>\n",
       "    </tr>\n",
       "  </thead>\n",
       "  <tbody>\n",
       "    <tr>\n",
       "      <th>1</th>\n",
       "      <td>6400</td>\n",
       "      <td>227727</td>\n",
       "      <td>2011-04-16</td>\n",
       "      <td>415910</td>\n",
       "      <td>Tej</td>\n",
       "      <td>Staying at Francesca's and Alberto's place was...</td>\n",
       "      <td>en</td>\n",
       "      <td>0.413</td>\n",
       "      <td>5</td>\n",
       "    </tr>\n",
       "    <tr>\n",
       "      <th>2</th>\n",
       "      <td>6400</td>\n",
       "      <td>1162608</td>\n",
       "      <td>2012-04-22</td>\n",
       "      <td>415910</td>\n",
       "      <td>Tej</td>\n",
       "      <td>This is my second time staying with Francesca ...</td>\n",
       "      <td>en</td>\n",
       "      <td>0.392</td>\n",
       "      <td>4</td>\n",
       "    </tr>\n",
       "    <tr>\n",
       "      <th>5</th>\n",
       "      <td>6400</td>\n",
       "      <td>30074708</td>\n",
       "      <td>2015-04-17</td>\n",
       "      <td>415910</td>\n",
       "      <td>Tej</td>\n",
       "      <td>Always a pleasure staying with Francesca and f...</td>\n",
       "      <td>en</td>\n",
       "      <td>0.112</td>\n",
       "      <td>2</td>\n",
       "    </tr>\n",
       "    <tr>\n",
       "      <th>6</th>\n",
       "      <td>6400</td>\n",
       "      <td>47340535</td>\n",
       "      <td>2015-09-18</td>\n",
       "      <td>5023643</td>\n",
       "      <td>Glynn</td>\n",
       "      <td>The host canceled this reservation the day bef...</td>\n",
       "      <td>en</td>\n",
       "      <td>0.000</td>\n",
       "      <td>1</td>\n",
       "    </tr>\n",
       "    <tr>\n",
       "      <th>7</th>\n",
       "      <td>6400</td>\n",
       "      <td>70088360</td>\n",
       "      <td>2016-04-16</td>\n",
       "      <td>415910</td>\n",
       "      <td>Tej</td>\n",
       "      <td>Another nice stay at Francesca's place.. I fee...</td>\n",
       "      <td>en</td>\n",
       "      <td>0.359</td>\n",
       "      <td>4</td>\n",
       "    </tr>\n",
       "  </tbody>\n",
       "</table>\n",
       "</div>"
      ],
      "text/plain": [
       "   listing_id        id        date  reviewer_id reviewer_name  \\\n",
       "1        6400    227727  2011-04-16       415910           Tej   \n",
       "2        6400   1162608  2012-04-22       415910           Tej   \n",
       "5        6400  30074708  2015-04-17       415910           Tej   \n",
       "6        6400  47340535  2015-09-18      5023643         Glynn   \n",
       "7        6400  70088360  2016-04-16       415910           Tej   \n",
       "\n",
       "                                            comments language  polarity  \\\n",
       "1  Staying at Francesca's and Alberto's place was...       en     0.413   \n",
       "2  This is my second time staying with Francesca ...       en     0.392   \n",
       "5  Always a pleasure staying with Francesca and f...       en     0.112   \n",
       "6  The host canceled this reservation the day bef...       en     0.000   \n",
       "7  Another nice stay at Francesca's place.. I fee...       en     0.359   \n",
       "\n",
       "  rec_scale  \n",
       "1         5  \n",
       "2         4  \n",
       "5         2  \n",
       "6         1  \n",
       "7         4  "
      ]
     },
     "execution_count": 88,
     "metadata": {},
     "output_type": "execute_result"
    }
   ],
   "source": [
    "english_reviews.head()"
   ]
  },
  {
   "cell_type": "code",
   "execution_count": 89,
   "metadata": {
    "scrolled": true
   },
   "outputs": [
    {
     "data": {
      "text/plain": [
       "4     10589\n",
       "3     10101\n",
       "5      7453\n",
       "2      4967\n",
       "6      4628\n",
       "7      2652\n",
       "1      2119\n",
       "8      1689\n",
       "9       644\n",
       "10      193\n",
       "Name: rec_scale, dtype: int64"
      ]
     },
     "execution_count": 89,
     "metadata": {},
     "output_type": "execute_result"
    }
   ],
   "source": [
    "english_reviews['rec_scale'].value_counts()"
   ]
  },
  {
   "cell_type": "code",
   "execution_count": 90,
   "metadata": {},
   "outputs": [
    {
     "data": {
      "text/html": [
       "<div>\n",
       "<style scoped>\n",
       "    .dataframe tbody tr th:only-of-type {\n",
       "        vertical-align: middle;\n",
       "    }\n",
       "\n",
       "    .dataframe tbody tr th {\n",
       "        vertical-align: top;\n",
       "    }\n",
       "\n",
       "    .dataframe thead th {\n",
       "        text-align: right;\n",
       "    }\n",
       "</style>\n",
       "<table border=\"1\" class=\"dataframe\">\n",
       "  <thead>\n",
       "    <tr style=\"text-align: right;\">\n",
       "      <th></th>\n",
       "      <th>listing_id</th>\n",
       "      <th>id</th>\n",
       "      <th>date</th>\n",
       "      <th>reviewer_id</th>\n",
       "      <th>reviewer_name</th>\n",
       "      <th>comments</th>\n",
       "      <th>language</th>\n",
       "      <th>polarity</th>\n",
       "      <th>rec_scale</th>\n",
       "    </tr>\n",
       "  </thead>\n",
       "  <tbody>\n",
       "    <tr>\n",
       "      <th>6</th>\n",
       "      <td>6400</td>\n",
       "      <td>47340535</td>\n",
       "      <td>2015-09-18</td>\n",
       "      <td>5023643</td>\n",
       "      <td>Glynn</td>\n",
       "      <td>The host canceled this reservation the day bef...</td>\n",
       "      <td>en</td>\n",
       "      <td>0.000</td>\n",
       "      <td>1</td>\n",
       "    </tr>\n",
       "    <tr>\n",
       "      <th>9</th>\n",
       "      <td>6400</td>\n",
       "      <td>195594668</td>\n",
       "      <td>2017-09-20</td>\n",
       "      <td>30261686</td>\n",
       "      <td>Robin</td>\n",
       "      <td>The host canceled this reservation   days befo...</td>\n",
       "      <td>en</td>\n",
       "      <td>0.000</td>\n",
       "      <td>1</td>\n",
       "    </tr>\n",
       "    <tr>\n",
       "      <th>56</th>\n",
       "      <td>37256</td>\n",
       "      <td>3380419</td>\n",
       "      <td>2013-01-20</td>\n",
       "      <td>4772989</td>\n",
       "      <td>Chantal</td>\n",
       "      <td>The reservation was canceled   days before arr...</td>\n",
       "      <td>en</td>\n",
       "      <td>0.000</td>\n",
       "      <td>1</td>\n",
       "    </tr>\n",
       "    <tr>\n",
       "      <th>225</th>\n",
       "      <td>303469</td>\n",
       "      <td>462383734</td>\n",
       "      <td>2019-06-02</td>\n",
       "      <td>58141895</td>\n",
       "      <td>Aylin Sophie</td>\n",
       "      <td>I stayed   months in this apartment during my ...</td>\n",
       "      <td>en</td>\n",
       "      <td>0.063</td>\n",
       "      <td>1</td>\n",
       "    </tr>\n",
       "    <tr>\n",
       "      <th>653</th>\n",
       "      <td>82227</td>\n",
       "      <td>460819058016140060</td>\n",
       "      <td>2021-09-27</td>\n",
       "      <td>158566202</td>\n",
       "      <td>Nigela</td>\n",
       "      <td>A nightmare host.. He made my life in the apar...</td>\n",
       "      <td>en</td>\n",
       "      <td>0.061</td>\n",
       "      <td>1</td>\n",
       "    </tr>\n",
       "  </tbody>\n",
       "</table>\n",
       "</div>"
      ],
      "text/plain": [
       "     listing_id                  id        date  reviewer_id reviewer_name  \\\n",
       "6          6400            47340535  2015-09-18      5023643         Glynn   \n",
       "9          6400           195594668  2017-09-20     30261686         Robin   \n",
       "56        37256             3380419  2013-01-20      4772989       Chantal   \n",
       "225      303469           462383734  2019-06-02     58141895  Aylin Sophie   \n",
       "653       82227  460819058016140060  2021-09-27    158566202        Nigela   \n",
       "\n",
       "                                              comments language  polarity  \\\n",
       "6    The host canceled this reservation the day bef...       en     0.000   \n",
       "9    The host canceled this reservation   days befo...       en     0.000   \n",
       "56   The reservation was canceled   days before arr...       en     0.000   \n",
       "225  I stayed   months in this apartment during my ...       en     0.063   \n",
       "653  A nightmare host.. He made my life in the apar...       en     0.061   \n",
       "\n",
       "    rec_scale  \n",
       "6           1  \n",
       "9           1  \n",
       "56          1  \n",
       "225         1  \n",
       "653         1  "
      ]
     },
     "execution_count": 90,
     "metadata": {},
     "output_type": "execute_result"
    }
   ],
   "source": [
    "english_reviews.loc[english_reviews['rec_scale'] == 1].head()"
   ]
  },
  {
   "cell_type": "code",
   "execution_count": 91,
   "metadata": {
    "scrolled": true
   },
   "outputs": [
    {
     "data": {
      "text/html": [
       "<div>\n",
       "<style scoped>\n",
       "    .dataframe tbody tr th:only-of-type {\n",
       "        vertical-align: middle;\n",
       "    }\n",
       "\n",
       "    .dataframe tbody tr th {\n",
       "        vertical-align: top;\n",
       "    }\n",
       "\n",
       "    .dataframe thead th {\n",
       "        text-align: right;\n",
       "    }\n",
       "</style>\n",
       "<table border=\"1\" class=\"dataframe\">\n",
       "  <thead>\n",
       "    <tr style=\"text-align: right;\">\n",
       "      <th></th>\n",
       "      <th>listing_id</th>\n",
       "      <th>id</th>\n",
       "      <th>date</th>\n",
       "      <th>reviewer_id</th>\n",
       "      <th>reviewer_name</th>\n",
       "      <th>comments</th>\n",
       "      <th>language</th>\n",
       "      <th>polarity</th>\n",
       "      <th>rec_scale</th>\n",
       "    </tr>\n",
       "  </thead>\n",
       "  <tbody>\n",
       "    <tr>\n",
       "      <th>12370</th>\n",
       "      <td>737797</td>\n",
       "      <td>683816769264072426</td>\n",
       "      <td>2022-08-01</td>\n",
       "      <td>257561629</td>\n",
       "      <td>Danilo</td>\n",
       "      <td>Great!</td>\n",
       "      <td>en</td>\n",
       "      <td>1.0</td>\n",
       "      <td>10</td>\n",
       "    </tr>\n",
       "    <tr>\n",
       "      <th>12647</th>\n",
       "      <td>739252</td>\n",
       "      <td>491088217434016516</td>\n",
       "      <td>2021-11-08</td>\n",
       "      <td>245799912</td>\n",
       "      <td>Tarek</td>\n",
       "      <td>Perfect!</td>\n",
       "      <td>en</td>\n",
       "      <td>1.0</td>\n",
       "      <td>10</td>\n",
       "    </tr>\n",
       "    <tr>\n",
       "      <th>16012</th>\n",
       "      <td>713411</td>\n",
       "      <td>289306902</td>\n",
       "      <td>2018-07-12</td>\n",
       "      <td>3344712</td>\n",
       "      <td>Barbara</td>\n",
       "      <td>Great!!!</td>\n",
       "      <td>en</td>\n",
       "      <td>1.0</td>\n",
       "      <td>10</td>\n",
       "    </tr>\n",
       "    <tr>\n",
       "      <th>20045</th>\n",
       "      <td>996360</td>\n",
       "      <td>627318236624591458</td>\n",
       "      <td>2022-05-15</td>\n",
       "      <td>6562975</td>\n",
       "      <td>Nicolas</td>\n",
       "      <td>Recommended!</td>\n",
       "      <td>en</td>\n",
       "      <td>1.0</td>\n",
       "      <td>10</td>\n",
       "    </tr>\n",
       "    <tr>\n",
       "      <th>24211</th>\n",
       "      <td>918194</td>\n",
       "      <td>148577006</td>\n",
       "      <td>2017-05-01</td>\n",
       "      <td>33053175</td>\n",
       "      <td>Mauro</td>\n",
       "      <td>Perfect!</td>\n",
       "      <td>en</td>\n",
       "      <td>1.0</td>\n",
       "      <td>10</td>\n",
       "    </tr>\n",
       "  </tbody>\n",
       "</table>\n",
       "</div>"
      ],
      "text/plain": [
       "       listing_id                  id        date  reviewer_id reviewer_name  \\\n",
       "12370      737797  683816769264072426  2022-08-01    257561629        Danilo   \n",
       "12647      739252  491088217434016516  2021-11-08    245799912         Tarek   \n",
       "16012      713411           289306902  2018-07-12      3344712       Barbara   \n",
       "20045      996360  627318236624591458  2022-05-15      6562975       Nicolas   \n",
       "24211      918194           148577006  2017-05-01     33053175         Mauro   \n",
       "\n",
       "           comments language  polarity rec_scale  \n",
       "12370        Great!       en       1.0        10  \n",
       "12647      Perfect!       en       1.0        10  \n",
       "16012      Great!!!       en       1.0        10  \n",
       "20045  Recommended!       en       1.0        10  \n",
       "24211      Perfect!       en       1.0        10  "
      ]
     },
     "execution_count": 91,
     "metadata": {},
     "output_type": "execute_result"
    }
   ],
   "source": [
    "english_reviews.loc[english_reviews['rec_scale'] == 10].head()"
   ]
  },
  {
   "cell_type": "code",
   "execution_count": 92,
   "metadata": {},
   "outputs": [
    {
     "data": {
      "text/plain": [
       "listing_id       0\n",
       "id               0\n",
       "date             0\n",
       "reviewer_id      0\n",
       "reviewer_name    0\n",
       "comments         0\n",
       "language         0\n",
       "polarity         0\n",
       "rec_scale        0\n",
       "dtype: int64"
      ]
     },
     "execution_count": 92,
     "metadata": {},
     "output_type": "execute_result"
    }
   ],
   "source": [
    "#checking for nulls\n",
    "english_reviews.isnull().sum()"
   ]
  },
  {
   "cell_type": "markdown",
   "metadata": {},
   "source": [
    "No nulls now! Should be making vectorizer and removing stopwords to more accurately rate and scale but will continue for now and come back. "
   ]
  },
  {
   "cell_type": "code",
   "execution_count": 93,
   "metadata": {},
   "outputs": [],
   "source": [
    "#Make graph here showing review counts "
   ]
  },
  {
   "cell_type": "markdown",
   "metadata": {},
   "source": [
    "## Preliminary Graphs for Recommendation System"
   ]
  },
  {
   "cell_type": "markdown",
   "metadata": {},
   "source": [
    "Referencing work from previous project: https://github.com/stephcia/movie-recommendation-system/blob/main/movie_recommendation_system.ipynb"
   ]
  },
  {
   "cell_type": "code",
   "execution_count": 94,
   "metadata": {},
   "outputs": [
    {
     "data": {
      "text/html": [
       "<div>\n",
       "<style scoped>\n",
       "    .dataframe tbody tr th:only-of-type {\n",
       "        vertical-align: middle;\n",
       "    }\n",
       "\n",
       "    .dataframe tbody tr th {\n",
       "        vertical-align: top;\n",
       "    }\n",
       "\n",
       "    .dataframe thead th {\n",
       "        text-align: right;\n",
       "    }\n",
       "</style>\n",
       "<table border=\"1\" class=\"dataframe\">\n",
       "  <thead>\n",
       "    <tr style=\"text-align: right;\">\n",
       "      <th></th>\n",
       "      <th>listing_id</th>\n",
       "      <th>id</th>\n",
       "      <th>date</th>\n",
       "      <th>reviewer_id</th>\n",
       "      <th>reviewer_name</th>\n",
       "      <th>comments</th>\n",
       "      <th>language</th>\n",
       "      <th>polarity</th>\n",
       "      <th>rec_scale</th>\n",
       "    </tr>\n",
       "  </thead>\n",
       "  <tbody>\n",
       "    <tr>\n",
       "      <th>1</th>\n",
       "      <td>6400</td>\n",
       "      <td>227727</td>\n",
       "      <td>2011-04-16</td>\n",
       "      <td>415910</td>\n",
       "      <td>Tej</td>\n",
       "      <td>Staying at Francesca's and Alberto's place was...</td>\n",
       "      <td>en</td>\n",
       "      <td>0.413</td>\n",
       "      <td>5</td>\n",
       "    </tr>\n",
       "    <tr>\n",
       "      <th>2</th>\n",
       "      <td>6400</td>\n",
       "      <td>1162608</td>\n",
       "      <td>2012-04-22</td>\n",
       "      <td>415910</td>\n",
       "      <td>Tej</td>\n",
       "      <td>This is my second time staying with Francesca ...</td>\n",
       "      <td>en</td>\n",
       "      <td>0.392</td>\n",
       "      <td>4</td>\n",
       "    </tr>\n",
       "    <tr>\n",
       "      <th>5</th>\n",
       "      <td>6400</td>\n",
       "      <td>30074708</td>\n",
       "      <td>2015-04-17</td>\n",
       "      <td>415910</td>\n",
       "      <td>Tej</td>\n",
       "      <td>Always a pleasure staying with Francesca and f...</td>\n",
       "      <td>en</td>\n",
       "      <td>0.112</td>\n",
       "      <td>2</td>\n",
       "    </tr>\n",
       "    <tr>\n",
       "      <th>6</th>\n",
       "      <td>6400</td>\n",
       "      <td>47340535</td>\n",
       "      <td>2015-09-18</td>\n",
       "      <td>5023643</td>\n",
       "      <td>Glynn</td>\n",
       "      <td>The host canceled this reservation the day bef...</td>\n",
       "      <td>en</td>\n",
       "      <td>0.000</td>\n",
       "      <td>1</td>\n",
       "    </tr>\n",
       "    <tr>\n",
       "      <th>7</th>\n",
       "      <td>6400</td>\n",
       "      <td>70088360</td>\n",
       "      <td>2016-04-16</td>\n",
       "      <td>415910</td>\n",
       "      <td>Tej</td>\n",
       "      <td>Another nice stay at Francesca's place.. I fee...</td>\n",
       "      <td>en</td>\n",
       "      <td>0.359</td>\n",
       "      <td>4</td>\n",
       "    </tr>\n",
       "  </tbody>\n",
       "</table>\n",
       "</div>"
      ],
      "text/plain": [
       "   listing_id        id        date  reviewer_id reviewer_name  \\\n",
       "1        6400    227727  2011-04-16       415910           Tej   \n",
       "2        6400   1162608  2012-04-22       415910           Tej   \n",
       "5        6400  30074708  2015-04-17       415910           Tej   \n",
       "6        6400  47340535  2015-09-18      5023643         Glynn   \n",
       "7        6400  70088360  2016-04-16       415910           Tej   \n",
       "\n",
       "                                            comments language  polarity  \\\n",
       "1  Staying at Francesca's and Alberto's place was...       en     0.413   \n",
       "2  This is my second time staying with Francesca ...       en     0.392   \n",
       "5  Always a pleasure staying with Francesca and f...       en     0.112   \n",
       "6  The host canceled this reservation the day bef...       en     0.000   \n",
       "7  Another nice stay at Francesca's place.. I fee...       en     0.359   \n",
       "\n",
       "  rec_scale  \n",
       "1         5  \n",
       "2         4  \n",
       "5         2  \n",
       "6         1  \n",
       "7         4  "
      ]
     },
     "execution_count": 94,
     "metadata": {},
     "output_type": "execute_result"
    }
   ],
   "source": [
    "english_reviews.head()"
   ]
  },
  {
   "cell_type": "code",
   "execution_count": 95,
   "metadata": {},
   "outputs": [],
   "source": [
    "#making dataframe of the top 10 users\n",
    "top_10_reviewers = pd.DataFrame(english_reviews[\"reviewer_id\"].value_counts(ascending=False).head(10))\n",
    "\n",
    "#resetting index\n",
    "top_10_reviewers = top_10_reviewers.reset_index()\n",
    "\n",
    "#renaming columns based on value_counts\n",
    "top_10_reviewers = top_10_reviewers.rename(columns={\"reviewer_id\":\"review_count\"})\n",
    "top_10_reviewers = top_10_reviewers.rename(columns={\"index\":\"reviewer_id\"})"
   ]
  },
  {
   "cell_type": "code",
   "execution_count": 96,
   "metadata": {
    "scrolled": true
   },
   "outputs": [
    {
     "data": {
      "image/png": "[encoded data removed]",
      "text/plain": [
       "<Figure size 720x576 with 1 Axes>"
      ]
     },
     "metadata": {
      "needs_background": "light"
     },
     "output_type": "display_data"
    }
   ],
   "source": [
    "#additional code for graphing with matplot lib incase ploty does not work\n",
    "\n",
    "#making user_id a string for graphing\n",
    "top_10_reviewers['reviewer_id'] = top_10_reviewers['reviewer_id'].astype(str)\n",
    "#making sorted df for chart\n",
    "top_10_sorted = top_10_reviewers.sort_values('review_count')\n",
    "#making airbnb_rating a string\n",
    "grouped = top_10_sorted.groupby(\"reviewer_id\")[\"review_count\"].sum()\n",
    "fig = plt.figure(figsize = (10, 8))\n",
    "# create a bar plot\n",
    "plt.bar(grouped.index, grouped.values, color=\"#f86424\")\n",
    "# set the x-axis label\n",
    "plt.xlabel(\"Reviewer ID\")\n",
    "# set the y-axis label\n",
    "plt.ylabel(\"Reviews\")\n",
    "#adding title\n",
    "plt.title(\"Most Active Milan Airbnb Reviewers\")\n",
    "# show the plot\n",
    "plt.show()"
   ]
  },
  {
   "cell_type": "code",
   "execution_count": 97,
   "metadata": {
    "scrolled": false
   },
   "outputs": [
    {
     "data": {
      "text/html": [
       "<div>\n",
       "<style scoped>\n",
       "    .dataframe tbody tr th:only-of-type {\n",
       "        vertical-align: middle;\n",
       "    }\n",
       "\n",
       "    .dataframe tbody tr th {\n",
       "        vertical-align: top;\n",
       "    }\n",
       "\n",
       "    .dataframe thead th {\n",
       "        text-align: right;\n",
       "    }\n",
       "</style>\n",
       "<table border=\"1\" class=\"dataframe\">\n",
       "  <thead>\n",
       "    <tr style=\"text-align: right;\">\n",
       "      <th></th>\n",
       "      <th>Rec_Number</th>\n",
       "      <th>Rec_Count</th>\n",
       "    </tr>\n",
       "  </thead>\n",
       "  <tbody>\n",
       "    <tr>\n",
       "      <th>0</th>\n",
       "      <td>4</td>\n",
       "      <td>10589</td>\n",
       "    </tr>\n",
       "    <tr>\n",
       "      <th>1</th>\n",
       "      <td>3</td>\n",
       "      <td>10101</td>\n",
       "    </tr>\n",
       "    <tr>\n",
       "      <th>2</th>\n",
       "      <td>5</td>\n",
       "      <td>7453</td>\n",
       "    </tr>\n",
       "    <tr>\n",
       "      <th>3</th>\n",
       "      <td>2</td>\n",
       "      <td>4967</td>\n",
       "    </tr>\n",
       "    <tr>\n",
       "      <th>4</th>\n",
       "      <td>6</td>\n",
       "      <td>4628</td>\n",
       "    </tr>\n",
       "    <tr>\n",
       "      <th>5</th>\n",
       "      <td>7</td>\n",
       "      <td>2652</td>\n",
       "    </tr>\n",
       "    <tr>\n",
       "      <th>6</th>\n",
       "      <td>1</td>\n",
       "      <td>2119</td>\n",
       "    </tr>\n",
       "    <tr>\n",
       "      <th>7</th>\n",
       "      <td>8</td>\n",
       "      <td>1689</td>\n",
       "    </tr>\n",
       "    <tr>\n",
       "      <th>8</th>\n",
       "      <td>9</td>\n",
       "      <td>644</td>\n",
       "    </tr>\n",
       "    <tr>\n",
       "      <th>9</th>\n",
       "      <td>10</td>\n",
       "      <td>193</td>\n",
       "    </tr>\n",
       "  </tbody>\n",
       "</table>\n",
       "</div>"
      ],
      "text/plain": [
       "  Rec_Number Rec_Count\n",
       "0          4     10589\n",
       "1          3     10101\n",
       "2          5      7453\n",
       "3          2      4967\n",
       "4          6      4628\n",
       "5          7      2652\n",
       "6          1      2119\n",
       "7          8      1689\n",
       "8          9       644\n",
       "9         10       193"
      ]
     },
     "execution_count": 97,
     "metadata": {},
     "output_type": "execute_result"
    }
   ],
   "source": [
    "#making dataframe of review counts to compare distribution of reviews\n",
    "top_ratings = pd.DataFrame(english_reviews[\"rec_scale\"].value_counts(ascending=False).head(15))\n",
    "top_ratings = top_ratings.reset_index()\n",
    "top_ratings = top_ratings.rename(columns={\"rec_scale\":\"Rec_Count\"})\n",
    "top_ratings = top_ratings.rename(columns={\"index\":\"Rec_Number\"})\n",
    "\n",
    "#making user_id a string for plotting\n",
    "top_ratings['Rec_Count'] = top_ratings['Rec_Count'].astype(str)\n",
    "top_ratings"
   ]
  },
  {
   "cell_type": "code",
   "execution_count": 98,
   "metadata": {},
   "outputs": [],
   "source": [
    "# additional code for graphing with matplot lib incase ploty does not work\n",
    "\n",
    "#making bar graph of rating frequency\n",
    "#grouped = top_ratings.groupby(\"Rec_Number\")[\"Rec_Count\"].sum()\n",
    "#fig = plt.figure(figsize = (10, 8))\n",
    "# create a bar plot\n",
    "#plt.bar(grouped.index, grouped.values, color=\"#f86424\")\n",
    "# set the x-axis label\n",
    "#plt.xlabel(\"Rec Number\")\n",
    "# set the y-axis label\n",
    "#plt.ylabel(\"Rating Count\")\n",
    "#adding title\n",
    "#plt.title(\"Rating Frequency\")\n",
    "# show the plot\n",
    "#plt.show()\n",
    "\n",
    "#need to fix this"
   ]
  },
  {
   "cell_type": "code",
   "execution_count": 99,
   "metadata": {},
   "outputs": [],
   "source": [
    "#using plotly to plot the top reviewers\n",
    "#fig = px.bar(top_10_sorted, x=\"reviewer_id\", y=\"review_count\")\n",
    "#fig.update_layout(title_text='Top Reviewers',\n",
    "               #   title_x=0.5,\n",
    "               #   xaxis_title=\"Reviewer ID\",\n",
    "               #   yaxis_title=\"Review Count\",\n",
    "               #  plot_bgcolor='white')\n",
    "#fig.update_traces(marker_color = \"#f86424\")\n",
    "#fig.show()"
   ]
  },
  {
   "cell_type": "code",
   "execution_count": 100,
   "metadata": {},
   "outputs": [],
   "source": [
    "#top_ratings.sort_values(by=\"rating\")"
   ]
  },
  {
   "cell_type": "markdown",
   "metadata": {},
   "source": [
    "## Add in Necessary Functions"
   ]
  },
  {
   "cell_type": "code",
   "execution_count": 101,
   "metadata": {},
   "outputs": [],
   "source": [
    "class ModelWithCV():\n",
    "    '''Structure to save the model and more easily see its crossvalidation'''\n",
    "    \n",
    "    def __init__(self, model, model_name, X, y, cv_now=True):\n",
    "        self.model = model\n",
    "        self.name = model_name\n",
    "        self.X = X\n",
    "        self.y = y\n",
    "        # For CV results\n",
    "        self.cv_results = None\n",
    "        self.cv_mean = None\n",
    "        self.cv_median = None\n",
    "        self.cv_std = None\n",
    "        #\n",
    "        if cv_now:\n",
    "            self.cross_validate()\n",
    "        \n",
    "    def cross_validate(self, X=None, y=None, kfolds=5):\n",
    "        '''\n",
    "        Perform cross-validation and return results.\n",
    "        \n",
    "        Args: \n",
    "          X:\n",
    "            Optional; Training data to perform CV on. Otherwise use X from object\n",
    "          y:\n",
    "            Optional; Training data to perform CV on. Otherwise use y from object\n",
    "          kfolds:\n",
    "            Optional; Number of folds for CV (default is 10)  \n",
    "        '''\n",
    "        \n",
    "        cv_X = X if X else self.X\n",
    "        cv_y = y if y else self.y\n",
    "\n",
    "        self.cv_results = cross_val_score(self.model, cv_X, cv_y, cv=kfolds, scoring = 'f1')\n",
    "        self.cv_mean = np.mean(self.cv_results)\n",
    "        self.cv_median = np.median(self.cv_results)\n",
    "        self.cv_std = np.std(self.cv_results)\n",
    "\n",
    "        \n",
    "    def print_cv_summary(self):\n",
    "        cv_summary = (\n",
    "        f'''CV Results for `{self.name}` model:\n",
    "            {self.cv_mean:.5f} ± {self.cv_std:.5f} f1 score\n",
    "        ''')\n",
    "        print(cv_summary)\n",
    "\n",
    "        \n",
    "    def plot_cv(self, ax):\n",
    "        '''\n",
    "        Plot the cross-validation values using the array of results and given \n",
    "        Axis for plotting.\n",
    "        '''\n",
    "        ax.set_title(f'CV Results for `{self.name}` Model')\n",
    "        # Thinner violinplot with higher bw\n",
    "        sns.violinplot(y=self.cv_results, ax=ax, bw=.4)\n",
    "        sns.swarmplot(\n",
    "                y=self.cv_results,\n",
    "                color='orange',\n",
    "                size=10,\n",
    "                alpha= 0.8,\n",
    "                ax=ax\n",
    "        )\n",
    "\n",
    "        return ax"
   ]
  },
  {
   "cell_type": "markdown",
   "metadata": {},
   "source": [
    "## Recommendation System\n",
    "Export smaller Dataframe english reviews for ease of loading back in. Use a different notebook from this point. "
   ]
  },
  {
   "cell_type": "code",
   "execution_count": 102,
   "metadata": {},
   "outputs": [],
   "source": [
    "#english_reviews.to_csv(r'C:\\Users\\anatjacobson\\Documents\\Flatiron\\Projects\\Capstone\\english_reviews.csv', index=False, header=True)\n",
    "\n",
    "#print(english_reviews)"
   ]
  },
  {
   "cell_type": "markdown",
   "metadata": {},
   "source": [
    "Commmented out as to not keep exporting."
   ]
  },
  {
   "cell_type": "markdown",
   "metadata": {},
   "source": [
    "\n",
    "#### Surprise Data\n",
    "\n",
    "To make this model, we will be using the scikit tool suprise that uses a range of algorithms made up of matrix factorization-based methods for collaborative filtering. To begin, we are making a new dataframe with just Reviewer ID, rec_scale, and listing ID from our final english reviews dataframe."
   ]
  },
  {
   "cell_type": "code",
   "execution_count": 103,
   "metadata": {},
   "outputs": [],
   "source": [
    "from surprise.model_selection import cross_validate\n",
    "from surprise import Dataset, Reader, accuracy\n",
    "from surprise.prediction_algorithms import KNNWithMeans, KNNBasic, KNNBaseline,  SVD, SVDpp, NMF, BaselineOnly, NormalPredictor\n",
    "from surprise.model_selection import GridSearchCV, cross_validate, train_test_split"
   ]
  },
  {
   "cell_type": "code",
   "execution_count": 104,
   "metadata": {},
   "outputs": [],
   "source": [
    "#dropping columns that aren't needed for Surprise (since )\n",
    "surprise_df = english_reviews.drop(columns=[\"id\", \"date\", \"reviewer_name\", \"comments\", \"language\",\n",
    "                                    \"polarity\"])"
   ]
  },
  {
   "cell_type": "code",
   "execution_count": 105,
   "metadata": {},
   "outputs": [
    {
     "data": {
      "text/html": [
       "<div>\n",
       "<style scoped>\n",
       "    .dataframe tbody tr th:only-of-type {\n",
       "        vertical-align: middle;\n",
       "    }\n",
       "\n",
       "    .dataframe tbody tr th {\n",
       "        vertical-align: top;\n",
       "    }\n",
       "\n",
       "    .dataframe thead th {\n",
       "        text-align: right;\n",
       "    }\n",
       "</style>\n",
       "<table border=\"1\" class=\"dataframe\">\n",
       "  <thead>\n",
       "    <tr style=\"text-align: right;\">\n",
       "      <th></th>\n",
       "      <th>listing_id</th>\n",
       "      <th>reviewer_id</th>\n",
       "      <th>rec_scale</th>\n",
       "    </tr>\n",
       "  </thead>\n",
       "  <tbody>\n",
       "    <tr>\n",
       "      <th>1</th>\n",
       "      <td>6400</td>\n",
       "      <td>415910</td>\n",
       "      <td>5</td>\n",
       "    </tr>\n",
       "    <tr>\n",
       "      <th>2</th>\n",
       "      <td>6400</td>\n",
       "      <td>415910</td>\n",
       "      <td>4</td>\n",
       "    </tr>\n",
       "    <tr>\n",
       "      <th>5</th>\n",
       "      <td>6400</td>\n",
       "      <td>415910</td>\n",
       "      <td>2</td>\n",
       "    </tr>\n",
       "    <tr>\n",
       "      <th>6</th>\n",
       "      <td>6400</td>\n",
       "      <td>5023643</td>\n",
       "      <td>1</td>\n",
       "    </tr>\n",
       "    <tr>\n",
       "      <th>7</th>\n",
       "      <td>6400</td>\n",
       "      <td>415910</td>\n",
       "      <td>4</td>\n",
       "    </tr>\n",
       "  </tbody>\n",
       "</table>\n",
       "</div>"
      ],
      "text/plain": [
       "   listing_id  reviewer_id rec_scale\n",
       "1        6400       415910         5\n",
       "2        6400       415910         4\n",
       "5        6400       415910         2\n",
       "6        6400      5023643         1\n",
       "7        6400       415910         4"
      ]
     },
     "execution_count": 105,
     "metadata": {},
     "output_type": "execute_result"
    }
   ],
   "source": [
    "surprise_df.head()"
   ]
  },
  {
   "cell_type": "code",
   "execution_count": 106,
   "metadata": {
    "scrolled": true
   },
   "outputs": [
    {
     "data": {
      "text/html": [
       "<div>\n",
       "<style scoped>\n",
       "    .dataframe tbody tr th:only-of-type {\n",
       "        vertical-align: middle;\n",
       "    }\n",
       "\n",
       "    .dataframe tbody tr th {\n",
       "        vertical-align: top;\n",
       "    }\n",
       "\n",
       "    .dataframe thead th {\n",
       "        text-align: right;\n",
       "    }\n",
       "</style>\n",
       "<table border=\"1\" class=\"dataframe\">\n",
       "  <thead>\n",
       "    <tr style=\"text-align: right;\">\n",
       "      <th></th>\n",
       "      <th>reviewer_id</th>\n",
       "      <th>listing_id</th>\n",
       "      <th>rec_scale</th>\n",
       "    </tr>\n",
       "  </thead>\n",
       "  <tbody>\n",
       "    <tr>\n",
       "      <th>1</th>\n",
       "      <td>415910</td>\n",
       "      <td>6400</td>\n",
       "      <td>5</td>\n",
       "    </tr>\n",
       "    <tr>\n",
       "      <th>2</th>\n",
       "      <td>415910</td>\n",
       "      <td>6400</td>\n",
       "      <td>4</td>\n",
       "    </tr>\n",
       "    <tr>\n",
       "      <th>5</th>\n",
       "      <td>415910</td>\n",
       "      <td>6400</td>\n",
       "      <td>2</td>\n",
       "    </tr>\n",
       "    <tr>\n",
       "      <th>6</th>\n",
       "      <td>5023643</td>\n",
       "      <td>6400</td>\n",
       "      <td>1</td>\n",
       "    </tr>\n",
       "    <tr>\n",
       "      <th>7</th>\n",
       "      <td>415910</td>\n",
       "      <td>6400</td>\n",
       "      <td>4</td>\n",
       "    </tr>\n",
       "    <tr>\n",
       "      <th>...</th>\n",
       "      <td>...</td>\n",
       "      <td>...</td>\n",
       "      <td>...</td>\n",
       "    </tr>\n",
       "    <tr>\n",
       "      <th>611693</th>\n",
       "      <td>157651921</td>\n",
       "      <td>832647024131935906</td>\n",
       "      <td>4</td>\n",
       "    </tr>\n",
       "    <tr>\n",
       "      <th>611768</th>\n",
       "      <td>491920050</td>\n",
       "      <td>841111184096419460</td>\n",
       "      <td>3</td>\n",
       "    </tr>\n",
       "    <tr>\n",
       "      <th>611782</th>\n",
       "      <td>223990220</td>\n",
       "      <td>843618815888733815</td>\n",
       "      <td>7</td>\n",
       "    </tr>\n",
       "    <tr>\n",
       "      <th>611785</th>\n",
       "      <td>35287167</td>\n",
       "      <td>846130517363365733</td>\n",
       "      <td>3</td>\n",
       "    </tr>\n",
       "    <tr>\n",
       "      <th>611800</th>\n",
       "      <td>205576010</td>\n",
       "      <td>838188511130316229</td>\n",
       "      <td>4</td>\n",
       "    </tr>\n",
       "  </tbody>\n",
       "</table>\n",
       "<p>45035 rows × 3 columns</p>\n",
       "</div>"
      ],
      "text/plain": [
       "        reviewer_id          listing_id rec_scale\n",
       "1            415910                6400         5\n",
       "2            415910                6400         4\n",
       "5            415910                6400         2\n",
       "6           5023643                6400         1\n",
       "7            415910                6400         4\n",
       "...             ...                 ...       ...\n",
       "611693    157651921  832647024131935906         4\n",
       "611768    491920050  841111184096419460         3\n",
       "611782    223990220  843618815888733815         7\n",
       "611785     35287167  846130517363365733         3\n",
       "611800    205576010  838188511130316229         4\n",
       "\n",
       "[45035 rows x 3 columns]"
      ]
     },
     "execution_count": 106,
     "metadata": {},
     "output_type": "execute_result"
    }
   ],
   "source": [
    "#change the order to reviewer, listing id, rec_scale\n",
    "surprise_df = surprise_df[['reviewer_id', 'listing_id', 'rec_scale']]\n",
    "surprise_df"
   ]
  },
  {
   "cell_type": "code",
   "execution_count": 107,
   "metadata": {
    "scrolled": true
   },
   "outputs": [
    {
     "name": "stdout",
     "output_type": "stream",
     "text": [
      "<class 'pandas.core.frame.DataFrame'>\n",
      "Int64Index: 45035 entries, 1 to 611800\n",
      "Data columns (total 3 columns):\n",
      " #   Column       Non-Null Count  Dtype   \n",
      "---  ------       --------------  -----   \n",
      " 0   reviewer_id  45035 non-null  int64   \n",
      " 1   listing_id   45035 non-null  int64   \n",
      " 2   rec_scale    45035 non-null  category\n",
      "dtypes: category(1), int64(2)\n",
      "memory usage: 2.3 MB\n"
     ]
    }
   ],
   "source": [
    "surprise_df.info()"
   ]
  },
  {
   "cell_type": "code",
   "execution_count": 108,
   "metadata": {},
   "outputs": [
    {
     "data": {
      "text/plain": [
       "reviewer_id    0\n",
       "listing_id     0\n",
       "rec_scale      0\n",
       "dtype: int64"
      ]
     },
     "execution_count": 108,
     "metadata": {},
     "output_type": "execute_result"
    }
   ],
   "source": [
    "surprise_df.isnull().sum()"
   ]
  },
  {
   "cell_type": "code",
   "execution_count": 109,
   "metadata": {},
   "outputs": [],
   "source": [
    "#locating the nulls\n",
    "#surprise_df.loc[surprise_df['rec_scale'].isnull()]"
   ]
  },
  {
   "cell_type": "code",
   "execution_count": 110,
   "metadata": {},
   "outputs": [],
   "source": [
    "surprise_df.dropna(inplace = True)"
   ]
  },
  {
   "cell_type": "code",
   "execution_count": 111,
   "metadata": {},
   "outputs": [],
   "source": [
    "from surprise import Reader, Dataset\n",
    "\n",
    "reader = Reader(rating_scale=(1, 10))\n",
    "\n",
    "#loading final dataset\n",
    "data = Dataset.load_from_df(surprise_df, reader)\n",
    "\n",
    "#spltting into train and test\n",
    "trainset, testset = train_test_split(data, test_size=0.2, random_state=42)"
   ]
  },
  {
   "cell_type": "code",
   "execution_count": 112,
   "metadata": {},
   "outputs": [
    {
     "name": "stdout",
     "output_type": "stream",
     "text": [
      "Number of users:  18054 \n",
      "\n",
      "Number of items:  8647\n"
     ]
    }
   ],
   "source": [
    "#looking at number of users\n",
    "print('Number of users: ', trainset.n_users, '\\n')\n",
    "print('Number of items: ', trainset.n_items)"
   ]
  },
  {
   "cell_type": "markdown",
   "metadata": {},
   "source": [
    "#### Baseline Model\n"
   ]
  },
  {
   "cell_type": "code",
   "execution_count": 113,
   "metadata": {},
   "outputs": [
    {
     "name": "stdout",
     "output_type": "stream",
     "text": [
      "RMSE: 2.5120\n"
     ]
    }
   ],
   "source": [
    "#this is my true baseline\n",
    "# Instantiate the model\n",
    "baseline = NormalPredictor()\n",
    "\n",
    "#fitting model\n",
    "baseline.fit(trainset)\n",
    "\n",
    "# making prediction on testset\n",
    "predictions = baseline.test(testset)\n",
    "\n",
    "# Save RMSE score\n",
    "baseline_normal = accuracy.rmse(predictions)"
   ]
  },
  {
   "cell_type": "code",
   "execution_count": 114,
   "metadata": {
    "scrolled": true
   },
   "outputs": [
    {
     "data": {
      "text/plain": [
       "2.511957739069242"
      ]
     },
     "execution_count": 114,
     "metadata": {},
     "output_type": "execute_result"
    }
   ],
   "source": [
    "baseline_normal"
   ]
  },
  {
   "cell_type": "markdown",
   "metadata": {},
   "source": [
    "Normal Predictor baseline model's RMSE (Root Mean Squared Error) is telling us theat or predicted rating of airbnb recommendors is 2.5 points away from the actual rating. \n",
    "\n",
    "#### BaselineOnly\n",
    "Below running a baseline only to see if can decrease the RMSE"
   ]
  },
  {
   "cell_type": "code",
   "execution_count": 115,
   "metadata": {},
   "outputs": [
    {
     "name": "stdout",
     "output_type": "stream",
     "text": [
      "Estimating biases using als...\n",
      "RMSE: 1.7693\n"
     ]
    }
   ],
   "source": [
    "# Instantiate and fit model\n",
    "baseline_only = BaselineOnly()\n",
    "\n",
    "#fitting model\n",
    "baseline_only.fit(trainset)\n",
    "\n",
    "# making prediction on testset\n",
    "predictions = baseline_only.test(testset)\n",
    "\n",
    "# Save RMSE score\n",
    "baseline_only_rmse = accuracy.rmse(predictions)"
   ]
  },
  {
   "cell_type": "markdown",
   "metadata": {},
   "source": [
    "We decreased the RMSE somewhat substatially with this baseline only method. Below we will be running a few more complex models to see if we can decrease further. "
   ]
  },
  {
   "cell_type": "markdown",
   "metadata": {},
   "source": [
    "### SVD\n",
    "SVD (Singular Value Decomposition) is used to reduce the dimensionality of our matrix. SVD is a matrix factorization model that decomposes the reviewer reviews and airbnb listings into three matrices. This helps us understand the relationship between users and items.\n",
    "\n",
    "#### SVD Model 1\n",
    "In this first model we will be using normal metrics as a base and see how the model runs! "
   ]
  },
  {
   "cell_type": "code",
   "execution_count": 116,
   "metadata": {
    "scrolled": true
   },
   "outputs": [
    {
     "name": "stdout",
     "output_type": "stream",
     "text": [
      "Evaluating RMSE of algorithm SVD on 3 split(s).\n",
      "\n",
      "                  Fold 1  Fold 2  Fold 3  Mean    Std     \n",
      "RMSE (testset)    1.7654  1.7669  1.7574  1.7632  0.0042  \n",
      "Fit time          2.03    2.01    1.99    2.01    0.02    \n",
      "Test time         0.13    0.13    0.14    0.13    0.00    \n"
     ]
    }
   ],
   "source": [
    "# Cross validate a basic SVD with no hyperparameter\n",
    "\n",
    "svd_1 = SVD(random_state=42)\n",
    "\n",
    "results = cross_validate(svd_1, data, measures=['RMSE'], cv=3, n_jobs = -3, verbose=True)"
   ]
  },
  {
   "cell_type": "code",
   "execution_count": 117,
   "metadata": {},
   "outputs": [],
   "source": [
    "#cv_svd1= ModelWithCV(svd_1, 'svd_1', X_train, y_train)\n",
    "#cv_decision.print_cv_summary()"
   ]
  },
  {
   "cell_type": "code",
   "execution_count": 118,
   "metadata": {},
   "outputs": [
    {
     "name": "stdout",
     "output_type": "stream",
     "text": [
      "RMSE: 1.7565\n"
     ]
    }
   ],
   "source": [
    "# Fit to trainset and predict on the testset for evaluation\n",
    "svd_1.fit(trainset)\n",
    "\n",
    "predictions1 = svd_1.test(testset)\n",
    "\n",
    "svd_1_rmse = accuracy.rmse(predictions1)\n",
    "#do I want to be evaluatiing on the test set already? "
   ]
  },
  {
   "cell_type": "markdown",
   "metadata": {},
   "source": [
    "The RMSE for the model did decrease, however not by very much. Will keep iterating on models to attempt more accurate predictions."
   ]
  },
  {
   "cell_type": "markdown",
   "metadata": {},
   "source": [
    "### Grid Search\n",
    "- Performing a grid search below to find best hyper parameters for model with lowest RMSE"
   ]
  },
  {
   "cell_type": "markdown",
   "metadata": {},
   "source": [
    "#defaults\n",
    "    n_factors=100,\n",
    "    n_epochs=20,\n",
    "    biased=True,\n",
    "    init_mean=0,\n",
    "    init_std_dev=0.1,\n",
    "    lr_all=0.005,\n",
    "    reg_all=0.02,\n",
    "    lr_bu=None,\n",
    "    lr_bi=None,\n",
    "    lr_pu=None,\n",
    "    lr_qi=None,\n",
    "    reg_bu=None,\n",
    "    reg_bi=None,\n",
    "    reg_pu=None,\n",
    "    reg_qi=None,\n",
    "    random_state=None,\n",
    "    verbose=False,"
   ]
  },
  {
   "cell_type": "code",
   "execution_count": 120,
   "metadata": {},
   "outputs": [
    {
     "name": "stderr",
     "output_type": "stream",
     "text": [
      "[Parallel(n_jobs=-3)]: Using backend LokyBackend with 6 concurrent workers.\n",
      "[Parallel(n_jobs=-3)]: Done  20 tasks      | elapsed:    2.3s\n",
      "[Parallel(n_jobs=-3)]: Done 116 tasks      | elapsed:   12.4s\n",
      "[Parallel(n_jobs=-3)]: Done 276 tasks      | elapsed:   52.2s\n",
      "[Parallel(n_jobs=-3)]: Done 500 tasks      | elapsed:  2.7min\n",
      "[Parallel(n_jobs=-3)]: Done 600 out of 600 | elapsed:  3.9min finished\n"
     ]
    },
    {
     "data": {
      "text/plain": [
       "{'n_factors': 50,\n",
       " 'n_epochs': 20,\n",
       " 'init_mean': 0,\n",
       " 'reg_all': 0.05,\n",
       " 'biased': True}"
      ]
     },
     "execution_count": 120,
     "metadata": {},
     "output_type": "execute_result"
    }
   ],
   "source": [
    "#test grid search\n",
    "params1 = {'n_factors': [10, 50, 100, 150, 200],\n",
    "          'n_epochs': [10, 20],\n",
    "          'init_mean': [-0.5, 0, 0.5], \n",
    "          'reg_all': [.05, 0.02],\n",
    "         'biased': [True, False]}\n",
    "\n",
    "g_s_svd1 = GridSearchCV(SVD, param_grid=params1, cv=5, joblib_verbose= 3, n_jobs= -3, refit=True)\n",
    "\n",
    "g_s_svd1.fit(data)\n",
    "g_s_svd1.best_params['rmse']\n"
   ]
  },
  {
   "cell_type": "code",
   "execution_count": 121,
   "metadata": {},
   "outputs": [
    {
     "name": "stdout",
     "output_type": "stream",
     "text": [
      "1.752486923342771\n",
      "{'n_factors': 50, 'n_epochs': 20, 'init_mean': 0, 'reg_all': 0.05, 'biased': True}\n"
     ]
    }
   ],
   "source": [
    "print(g_s_svd1.best_score['rmse'])\n",
    "print(g_s_svd1.best_params['rmse'])"
   ]
  },
  {
   "cell_type": "code",
   "execution_count": 122,
   "metadata": {
    "scrolled": true
   },
   "outputs": [
    {
     "name": "stdout",
     "output_type": "stream",
     "text": [
      "RMSE: 1.7546\n"
     ]
    }
   ],
   "source": [
    "# instantiating SVD with best hyperparameters from gridsearch\n",
    "g_s_svd1 = SVD(n_factors=50,n_epochs=20, init_mean=0, reg_all=0.05, biased=True)\n",
    "\n",
    "# fit on trainset and make predictions using testset\n",
    "g_s_svd1.fit(trainset)\n",
    "predictions1 = g_s_svd1.test(testset)\n",
    "g_s_svd_1 = accuracy.rmse(predictions1)"
   ]
  },
  {
   "cell_type": "code",
   "execution_count": 123,
   "metadata": {},
   "outputs": [],
   "source": [
    "#saving test rmse for final graph\n",
    "test_g_s_svd_1_params = {'n_factors': 50,'n_epochs': 20,'init_mean': 0,'reg_all': 0.05, 'biased': True}\n",
    "test_g_s_svd_1_rmse = 1.7546"
   ]
  },
  {
   "cell_type": "code",
   "execution_count": 124,
   "metadata": {},
   "outputs": [],
   "source": [
    "from joblib import dump, load"
   ]
  },
  {
   "cell_type": "code",
   "execution_count": 115,
   "metadata": {},
   "outputs": [
    {
     "data": {
      "text/plain": [
       "['./data/model.pkl']"
      ]
     },
     "execution_count": 115,
     "metadata": {},
     "output_type": "execute_result"
    }
   ],
   "source": [
    "#dump(g_s_svd,\"./data/model.pkl\")"
   ]
  },
  {
   "cell_type": "markdown",
   "metadata": {},
   "source": [
    "This maxed out all our parameters so going to change for following grid search. "
   ]
  },
  {
   "cell_type": "markdown",
   "metadata": {},
   "source": [
    "### Grid Search 2"
   ]
  },
  {
   "cell_type": "code",
   "execution_count": 125,
   "metadata": {
    "scrolled": true
   },
   "outputs": [
    {
     "name": "stderr",
     "output_type": "stream",
     "text": [
      "[Parallel(n_jobs=-3)]: Using backend LokyBackend with 6 concurrent workers.\n",
      "[Parallel(n_jobs=-3)]: Done  20 tasks      | elapsed:    1.8s\n",
      "[Parallel(n_jobs=-3)]: Done 116 tasks      | elapsed:    8.0s\n",
      "[Parallel(n_jobs=-3)]: Done 276 tasks      | elapsed:   22.3s\n",
      "[Parallel(n_jobs=-3)]: Done 500 tasks      | elapsed:   49.0s\n",
      "[Parallel(n_jobs=-3)]: Done 788 tasks      | elapsed:  1.3min\n",
      "[Parallel(n_jobs=-3)]: Done 1140 tasks      | elapsed:  2.0min\n",
      "[Parallel(n_jobs=-3)]: Done 1440 out of 1440 | elapsed:  2.7min finished\n"
     ]
    },
    {
     "data": {
      "text/plain": [
       "{'n_factors': 5,\n",
       " 'n_epochs': 30,\n",
       " 'init_mean': 0,\n",
       " 'reg_all': 0.05,\n",
       " 'biased': True}"
      ]
     },
     "execution_count": 125,
     "metadata": {},
     "output_type": "execute_result"
    }
   ],
   "source": [
    "params2 = {'n_factors': [1, 3, 5],\n",
    "          'n_epochs': [15, 20, 25, 30],\n",
    "           'init_mean': [0, 0.5, 0.8], \n",
    "           'reg_all': [.05, 0.02, .01, .03],\n",
    "           'biased': [True, False]}\n",
    "\n",
    "g_s_svd2 = GridSearchCV(SVD, param_grid=params2, cv=5, refit=True, joblib_verbose= 3, n_jobs = -3)\n",
    "\n",
    "g_s_svd2.fit(data)\n",
    "g_s_svd2.best_params['rmse']"
   ]
  },
  {
   "cell_type": "code",
   "execution_count": 128,
   "metadata": {},
   "outputs": [
    {
     "name": "stdout",
     "output_type": "stream",
     "text": [
      "1.7426244506396997\n",
      "{'n_factors': 5, 'n_epochs': 30, 'init_mean': 0, 'reg_all': 0.05, 'biased': True}\n"
     ]
    }
   ],
   "source": [
    "print(g_s_svd2.best_score['rmse'])\n",
    "print(g_s_svd2.best_params['rmse'])"
   ]
  },
  {
   "cell_type": "code",
   "execution_count": 129,
   "metadata": {},
   "outputs": [
    {
     "name": "stdout",
     "output_type": "stream",
     "text": [
      "RMSE: 1.7415\n"
     ]
    }
   ],
   "source": [
    "# instantiating SVD with best hyperparameters from gridsearch\n",
    "g_s_svd2 = SVD(n_factors=5,n_epochs=30, init_mean=0,  reg_all=0.05, biased=True)\n",
    "\n",
    "# fit on trainset and make predictions using testset\n",
    "g_s_svd2.fit(trainset)\n",
    "predictions2 = g_s_svd2.test(testset)\n",
    "g_s_svd_2 = accuracy.rmse(predictions2)"
   ]
  },
  {
   "cell_type": "code",
   "execution_count": 130,
   "metadata": {},
   "outputs": [],
   "source": [
    "#saving test rmse for final graph\n",
    "test_g_s_svd_2_params = {'n_factors':5,'n_epochs': 30,'init_mean': 0,'reg_all': 0.05, 'biased': True}\n",
    "test_g_s_svd_2_rmse = 1.7415"
   ]
  },
  {
   "cell_type": "markdown",
   "metadata": {},
   "source": [
    "### Grid Search 3"
   ]
  },
  {
   "cell_type": "markdown",
   "metadata": {},
   "source": [
    "#defaults\n",
    "    n_factors=100,\n",
    "    n_epochs=20,\n",
    "    biased=True,\n",
    "    init_mean=0,\n",
    "    init_std_dev=0.1,\n",
    "    lr_all=0.005,\n",
    "    reg_all=0.02,\n",
    "    lr_bu=None,\n",
    "    lr_bi=None,\n",
    "    lr_pu=None,\n",
    "    lr_qi=None,\n",
    "    reg_bu=None,\n",
    "    reg_bi=None,\n",
    "    reg_pu=None,\n",
    "    reg_qi=None,\n",
    "    random_state=None,\n",
    "    verbose=False,"
   ]
  },
  {
   "cell_type": "code",
   "execution_count": 131,
   "metadata": {
    "scrolled": false
   },
   "outputs": [
    {
     "name": "stderr",
     "output_type": "stream",
     "text": [
      "[Parallel(n_jobs=-3)]: Using backend LokyBackend with 6 concurrent workers.\n",
      "[Parallel(n_jobs=-3)]: Done  20 tasks      | elapsed:    2.3s\n",
      "[Parallel(n_jobs=-3)]: Done 116 tasks      | elapsed:   15.4s\n",
      "[Parallel(n_jobs=-3)]: Done 276 tasks      | elapsed:   44.4s\n",
      "[Parallel(n_jobs=-3)]: Done 500 tasks      | elapsed:  1.5min\n",
      "[Parallel(n_jobs=-3)]: Done 788 tasks      | elapsed:  2.8min\n",
      "[Parallel(n_jobs=-3)]: Done 1000 out of 1000 | elapsed:  6.0min finished\n"
     ]
    },
    {
     "data": {
      "text/plain": [
       "{'n_factors': 10, 'n_epochs': 40, 'reg_all': 0.05, 'biased': True}"
      ]
     },
     "execution_count": 131,
     "metadata": {},
     "output_type": "execute_result"
    }
   ],
   "source": [
    "#making sure to include defaults\n",
    "params3 = {'n_factors': [4, 5, 8, 10, 100],\n",
    "          'n_epochs': [20, 30, 40, 50, 60],\n",
    "          'reg_all': [.05, .02, .01, .03],\n",
    "         'biased': [True, False]}\n",
    "\n",
    "g_s_svd3 = GridSearchCV(SVD, param_grid=params3, cv=5, refit=True, joblib_verbose= 3, n_jobs = -3)\n",
    "\n",
    "g_s_svd3.fit(data)\n",
    "g_s_svd3.best_params['rmse']"
   ]
  },
  {
   "cell_type": "code",
   "execution_count": 132,
   "metadata": {},
   "outputs": [
    {
     "name": "stdout",
     "output_type": "stream",
     "text": [
      "1.7462540923342451\n",
      "{'n_factors': 10, 'n_epochs': 40, 'reg_all': 0.05, 'biased': True}\n"
     ]
    }
   ],
   "source": [
    "print(g_s_svd3.best_score['rmse'])\n",
    "print(g_s_svd3.best_params['rmse'])"
   ]
  },
  {
   "cell_type": "code",
   "execution_count": 134,
   "metadata": {},
   "outputs": [
    {
     "name": "stdout",
     "output_type": "stream",
     "text": [
      "RMSE: 1.7401\n"
     ]
    }
   ],
   "source": [
    "# instantiating SVD with best hyperparameters from gridsearch\n",
    "g_s_svd3 = SVD(n_factors=10,n_epochs=40,  reg_all=0.05, biased=True)\n",
    "\n",
    "# fit on trainset and make predictions using testset\n",
    "g_s_svd3.fit(trainset)\n",
    "predictions3 = g_s_svd3.test(testset)\n",
    "g_s_svd_3 = accuracy.rmse(predictions3)"
   ]
  },
  {
   "cell_type": "code",
   "execution_count": 135,
   "metadata": {},
   "outputs": [],
   "source": [
    "#saving test rmse for final graph\n",
    "test_g_s_svd_3_params = {'n_factors':10,'n_epochs': 40,'reg_all': 0.05, 'biased': True}\n",
    "test_g_s_svd_3_rmse = 1.7401"
   ]
  },
  {
   "cell_type": "markdown",
   "metadata": {},
   "source": [
    "## Running NMF Model"
   ]
  },
  {
   "cell_type": "markdown",
   "metadata": {},
   "source": [
    "Defaults\n",
    "    n_factors=15,\n",
    "    n_epochs=50,\n",
    "    biased=False,\n",
    "    reg_pu=0.06,\n",
    "    reg_qi=0.06,\n",
    "    reg_bu=0.02,\n",
    "    reg_bi=0.02,\n",
    "    lr_bu=0.005,\n",
    "    lr_bi=0.005,\n",
    "    init_low=0,\n",
    "    init_high=1,\n",
    "    random_state=None,\n",
    "    verbose=False,"
   ]
  },
  {
   "cell_type": "code",
   "execution_count": 125,
   "metadata": {},
   "outputs": [
    {
     "name": "stderr",
     "output_type": "stream",
     "text": [
      "[Parallel(n_jobs=-3)]: Using backend LokyBackend with 6 concurrent workers.\n",
      "[Parallel(n_jobs=-3)]: Done  20 tasks      | elapsed:    8.2s\n",
      "[Parallel(n_jobs=-3)]: Done 116 tasks      | elapsed:  1.8min\n",
      "[Parallel(n_jobs=-3)]: Done 216 out of 216 | elapsed:  3.2min finished\n"
     ]
    },
    {
     "data": {
      "text/plain": [
       "{'biased': True, 'n_factors': 10, 'n_epochs': 20}"
      ]
     },
     "execution_count": 125,
     "metadata": {},
     "output_type": "execute_result"
    }
   ],
   "source": [
    "# New hyperparameter dictionary for nmf model\n",
    "nmf_param_grid = {'biased':[True, False],\n",
    "                  'n_factors':[5, 10, 15, 20, 30, 40],\n",
    "                  'n_epochs': [20, 25, 40, 50, 60, 70]}\n",
    "nmf_gs_model1 = GridSearchCV(NMF, param_grid=nmf_param_grid, cv=3, joblib_verbose=3, n_jobs= -3, return_train_measures=True)\n",
    "\n",
    "# Fit and return the best hyperparameters\n",
    "nmf_gs_model1.fit(data)\n",
    "nmf_gs_model1.best_params['rmse']"
   ]
  },
  {
   "cell_type": "code",
   "execution_count": 127,
   "metadata": {},
   "outputs": [
    {
     "data": {
      "text/plain": [
       "1.8173780410125762"
      ]
     },
     "execution_count": 127,
     "metadata": {},
     "output_type": "execute_result"
    }
   ],
   "source": [
    "nmf_gs_model1.best_score['rmse']"
   ]
  },
  {
   "cell_type": "code",
   "execution_count": 128,
   "metadata": {},
   "outputs": [],
   "source": [
    "#saving params and best rmse\n",
    "nmf_gs_model_rmse1 = 1.8173780410125762\n",
    "nmf_gs_model_best_params1 = {'biased': True, 'n_factors': 10, 'n_epochs': 20}"
   ]
  },
  {
   "cell_type": "code",
   "execution_count": 129,
   "metadata": {},
   "outputs": [
    {
     "name": "stdout",
     "output_type": "stream",
     "text": [
      "RMSE: 1.8098\n"
     ]
    }
   ],
   "source": [
    "# instantiating NFM\n",
    "nfm_model1 = NMF(biased=True, n_factors=10, n_epochs=20)\n",
    "\n",
    "# Fit on trainset and make predictions using testset to return RMSE metric\n",
    "nfm_model1.fit(trainset)\n",
    "predictions1 = nfm_model1.test(testset)\n",
    "nfm_model_1 = accuracy.rmse(predictions1)"
   ]
  },
  {
   "cell_type": "code",
   "execution_count": 130,
   "metadata": {},
   "outputs": [],
   "source": [
    "#saving test nfm model rmse for final graph\n",
    "test_nfm_model_1_params = {'biased': True, 'n_factors': 10, 'n_epochs': 20}\n",
    "test_nfm_model_1_rmse = 1.8098"
   ]
  },
  {
   "cell_type": "markdown",
   "metadata": {},
   "source": [
    "### Running one more nmf to see improvement"
   ]
  },
  {
   "cell_type": "code",
   "execution_count": 131,
   "metadata": {},
   "outputs": [
    {
     "name": "stderr",
     "output_type": "stream",
     "text": [
      "[Parallel(n_jobs=-3)]: Using backend LokyBackend with 6 concurrent workers.\n",
      "[Parallel(n_jobs=-3)]: Done  20 tasks      | elapsed:    4.7s\n",
      "[Parallel(n_jobs=-3)]: Done 116 tasks      | elapsed:   23.7s\n",
      "[Parallel(n_jobs=-3)]: Done 150 out of 150 | elapsed:   31.8s finished\n"
     ]
    },
    {
     "data": {
      "text/plain": [
       "{'biased': True, 'n_factors': 10, 'n_epochs': 5}"
      ]
     },
     "execution_count": 131,
     "metadata": {},
     "output_type": "execute_result"
    }
   ],
   "source": [
    "# New hyperparameter dictionary for nmf model\n",
    "nmf_param_grid = {'biased':[True, False],\n",
    "                  'n_factors':[5, 8, 10, 12, 15],\n",
    "                  'n_epochs': [5, 10, 15, 20, 25]}\n",
    "nmf_gs_model2 = GridSearchCV(NMF, param_grid=nmf_param_grid, cv=3, joblib_verbose=3, n_jobs= -3, return_train_measures=True)\n",
    "\n",
    "# Fit and return the best hyperparameters\n",
    "nmf_gs_model2.fit(data)\n",
    "nmf_gs_model2.best_params['rmse']"
   ]
  },
  {
   "cell_type": "code",
   "execution_count": 132,
   "metadata": {},
   "outputs": [
    {
     "data": {
      "text/plain": [
       "1.8093283165553586"
      ]
     },
     "execution_count": 132,
     "metadata": {},
     "output_type": "execute_result"
    }
   ],
   "source": [
    "nmf_gs_model2.best_score['rmse']"
   ]
  },
  {
   "cell_type": "code",
   "execution_count": 135,
   "metadata": {},
   "outputs": [],
   "source": [
    "#saving params and best rmse\n",
    "nmf_gs_model_rmse2 = 1.8093283165553586\n",
    "nmf_gs_model_best_params2 = {'biased': True, 'n_factors': 10, 'n_epochs': 5}"
   ]
  },
  {
   "cell_type": "code",
   "execution_count": 136,
   "metadata": {
    "scrolled": true
   },
   "outputs": [
    {
     "name": "stdout",
     "output_type": "stream",
     "text": [
      "RMSE: 1.8098\n"
     ]
    }
   ],
   "source": [
    "# instantiating NFM\n",
    "nfm_model2 = NMF(biased=True, n_factors=10, n_epochs=5)\n",
    "\n",
    "# Fit on trainset and make predictions using testset to return RMSE metric\n",
    "nfm_model2.fit(trainset)\n",
    "predictions2 = nfm_model1.test(testset)\n",
    "nfm_model_2 = accuracy.rmse(predictions2)"
   ]
  },
  {
   "cell_type": "markdown",
   "metadata": {},
   "source": [
    "Attempting one other model now to see if SVP++ might work better. Otherwise will use SVD as our best model. "
   ]
  },
  {
   "cell_type": "markdown",
   "metadata": {},
   "source": [
    "## Running a SVD++ Model"
   ]
  },
  {
   "cell_type": "markdown",
   "metadata": {},
   "source": [
    "SVDpp()\n",
    "SVDpp(\n",
    "    n_factors=20,\n",
    "    n_epochs=20,\n",
    "    init_mean=0,\n",
    "    init_std_dev=0.1,\n",
    "    lr_all=0.007,\n",
    "    reg_all=0.02,\n",
    "    lr_bu=None,\n",
    "    lr_bi=None,\n",
    "    lr_pu=None,\n",
    "    lr_qi=None,\n",
    "    lr_yj=None,\n",
    "    reg_bu=None,\n",
    "    reg_bi=None,\n",
    "    reg_pu=None,\n",
    "    reg_qi=None,\n",
    "    reg_yj=None,\n",
    "    random_state=None,\n",
    "    verbose=False,\n",
    ")"
   ]
  },
  {
   "cell_type": "code",
   "execution_count": 137,
   "metadata": {
    "scrolled": true
   },
   "outputs": [
    {
     "name": "stdout",
     "output_type": "stream",
     "text": [
      "Evaluating RMSE of algorithm SVDpp on 3 split(s).\n",
      "\n",
      "                  Fold 1  Fold 2  Fold 3  Mean    Std     \n",
      "RMSE (testset)    1.7562  1.7658  1.7504  1.7574  0.0063  \n",
      "Fit time          2.16    2.17    2.18    2.17    0.01    \n",
      "Test time         0.12    0.12    0.12    0.12    0.00    \n"
     ]
    }
   ],
   "source": [
    "#Running without tuning first\n",
    "svdpp_1 = SVDpp()\n",
    "\n",
    "results_svdpp = cross_validate(svdpp_1, data, measures=['RMSE'], cv=3, n_jobs = -3, verbose=True)"
   ]
  },
  {
   "cell_type": "code",
   "execution_count": 138,
   "metadata": {},
   "outputs": [
    {
     "name": "stdout",
     "output_type": "stream",
     "text": [
      "RMSE: 1.8098\n"
     ]
    }
   ],
   "source": [
    "svdpp_1.fit(trainset)\n",
    "\n",
    "predictions = svdpp_1.test(testset)\n",
    "\n",
    "svdpp_1_rmse = accuracy.rmse(predictions1)"
   ]
  },
  {
   "cell_type": "markdown",
   "metadata": {},
   "source": [
    "Testing out grid search below"
   ]
  },
  {
   "cell_type": "code",
   "execution_count": 140,
   "metadata": {
    "scrolled": true
   },
   "outputs": [
    {
     "name": "stderr",
     "output_type": "stream",
     "text": [
      "[Parallel(n_jobs=-3)]: Using backend LokyBackend with 6 concurrent workers.\n",
      "[Parallel(n_jobs=-3)]: Done  20 tasks      | elapsed:    6.3s\n",
      "[Parallel(n_jobs=-3)]: Done 116 tasks      | elapsed:  1.6min\n",
      "[Parallel(n_jobs=-3)]: Done 276 tasks      | elapsed:  3.8min\n",
      "[Parallel(n_jobs=-3)]: Done 500 tasks      | elapsed:  8.0min\n",
      "[Parallel(n_jobs=-3)]: Done 720 out of 720 | elapsed: 13.2min finished\n"
     ]
    },
    {
     "data": {
      "text/plain": [
       "{'n_factors': 10, 'n_epochs': 30, 'reg_all': 0.05}"
      ]
     },
     "execution_count": 140,
     "metadata": {},
     "output_type": "execute_result"
    }
   ],
   "source": [
    "#using the best parameters from SVD\n",
    "params = {'n_factors': [4, 5, 8, 10, 20, 25],\n",
    "          'n_epochs': [10, 20, 30, 40, 50, 60],\n",
    "          'reg_all': [.05, .02, .01, .03]}\n",
    "\n",
    "g_s_svdpp1 = GridSearchCV(SVDpp, param_grid=params, cv=5, refit=True, joblib_verbose= 3, n_jobs = -3)\n",
    "\n",
    "g_s_svdpp1.fit(data)\n",
    "g_s_svdpp1.best_params['rmse']"
   ]
  },
  {
   "cell_type": "code",
   "execution_count": 141,
   "metadata": {},
   "outputs": [
    {
     "name": "stdout",
     "output_type": "stream",
     "text": [
      "1.748749736821933\n",
      "{'n_factors': 10, 'n_epochs': 30, 'reg_all': 0.05}\n"
     ]
    }
   ],
   "source": [
    "print(g_s_svdpp1.best_score['rmse'])\n",
    "print(g_s_svdpp1.best_params['rmse'])"
   ]
  },
  {
   "cell_type": "code",
   "execution_count": 142,
   "metadata": {},
   "outputs": [
    {
     "name": "stdout",
     "output_type": "stream",
     "text": [
      "RMSE: 1.7476\n"
     ]
    }
   ],
   "source": [
    "# instantiating SVD with best hyperparameters from gridsearch\n",
    "g_s_svdpp1 = SVDpp(n_factors=10,n_epochs=30,  reg_all=0.05)\n",
    "\n",
    "# fit on trainset and make predictions using testset\n",
    "g_s_svdpp1.fit(trainset)\n",
    "predictions = g_s_svdpp1.test(testset)\n",
    "g_s_svdpp1 = accuracy.rmse(predictions)"
   ]
  },
  {
   "cell_type": "markdown",
   "metadata": {},
   "source": [
    "SVD regular provided the best model, so we will be stopping our iterations and continuing with the recommendation model from here. Will continue iterating if there is time at a later point but the for the purposes of this project we will be using svd ___ as our best model. "
   ]
  },
  {
   "cell_type": "markdown",
   "metadata": {},
   "source": [
    "## Best Model and Recommendations"
   ]
  },
  {
   "cell_type": "markdown",
   "metadata": {},
   "source": [
    "We used SVD to create our final model. This is a collaborative filtering method that identifies relationship between users airbnb ratings to make personzlied recommendations for users, based on their previous comments on other airbnbs.\n",
    "\n",
    "Our best model was the final SVD Grid Search that gave us a RMSE of 1.74.\n",
    "\n",
    "- n_factors = 10\n",
    "- reg_all = .05\n",
    "- n_epochs = 40"
   ]
  },
  {
   "cell_type": "code",
   "execution_count": 161,
   "metadata": {},
   "outputs": [],
   "source": [
    "best_model = SVD(n_factors=10,n_epochs=40,  reg_all=0.05)"
   ]
  },
  {
   "cell_type": "code",
   "execution_count": 162,
   "metadata": {},
   "outputs": [
    {
     "name": "stdout",
     "output_type": "stream",
     "text": [
      "RMSE: 1.7485\n"
     ]
    }
   ],
   "source": [
    "best_model.fit(trainset)\n",
    "predictions = best_model.test(testset)\n",
    "accuracy_best_model = accuracy.rmse(predictions)"
   ]
  },
  {
   "cell_type": "code",
   "execution_count": 145,
   "metadata": {},
   "outputs": [],
   "source": [
    "best_model_params = {'n_factors':10,'n_epochs': 40,'reg_all': 0.05}\n",
    "best_model_rmse = 1.7401"
   ]
  },
  {
   "cell_type": "markdown",
   "metadata": {},
   "source": [
    "Function for spitting out our predictions"
   ]
  },
  {
   "cell_type": "code",
   "execution_count": 149,
   "metadata": {
    "scrolled": true
   },
   "outputs": [
    {
     "data": {
      "text/html": [
       "<div>\n",
       "<style scoped>\n",
       "    .dataframe tbody tr th:only-of-type {\n",
       "        vertical-align: middle;\n",
       "    }\n",
       "\n",
       "    .dataframe tbody tr th {\n",
       "        vertical-align: top;\n",
       "    }\n",
       "\n",
       "    .dataframe thead th {\n",
       "        text-align: right;\n",
       "    }\n",
       "</style>\n",
       "<table border=\"1\" class=\"dataframe\">\n",
       "  <thead>\n",
       "    <tr style=\"text-align: right;\">\n",
       "      <th></th>\n",
       "      <th>index</th>\n",
       "      <th>listing_id</th>\n",
       "    </tr>\n",
       "    <tr>\n",
       "      <th>reviewer_id</th>\n",
       "      <th></th>\n",
       "      <th></th>\n",
       "    </tr>\n",
       "  </thead>\n",
       "  <tbody>\n",
       "    <tr>\n",
       "      <th>415910</th>\n",
       "      <td>1</td>\n",
       "      <td>6400</td>\n",
       "    </tr>\n",
       "    <tr>\n",
       "      <th>415910</th>\n",
       "      <td>2</td>\n",
       "      <td>6400</td>\n",
       "    </tr>\n",
       "    <tr>\n",
       "      <th>415910</th>\n",
       "      <td>5</td>\n",
       "      <td>6400</td>\n",
       "    </tr>\n",
       "    <tr>\n",
       "      <th>5023643</th>\n",
       "      <td>6</td>\n",
       "      <td>6400</td>\n",
       "    </tr>\n",
       "    <tr>\n",
       "      <th>415910</th>\n",
       "      <td>7</td>\n",
       "      <td>6400</td>\n",
       "    </tr>\n",
       "  </tbody>\n",
       "</table>\n",
       "</div>"
      ],
      "text/plain": [
       "             index  listing_id\n",
       "reviewer_id                   \n",
       "415910           1        6400\n",
       "415910           2        6400\n",
       "415910           5        6400\n",
       "5023643          6        6400\n",
       "415910           7        6400"
      ]
     },
     "execution_count": 149,
     "metadata": {},
     "output_type": "execute_result"
    }
   ],
   "source": [
    "#saving new dataframe with only user information\n",
    "reviewer_df = surprise_df.reset_index()\n",
    "reviewer_df.set_index('reviewer_id', inplace = True)\n",
    "reviewer_df.drop(columns = 'rec_scale', inplace =True)\n",
    "reviewer_df.head()"
   ]
  },
  {
   "cell_type": "markdown",
   "metadata": {},
   "source": [
    "Defining function below"
   ]
  },
  {
   "cell_type": "code",
   "execution_count": 300,
   "metadata": {},
   "outputs": [],
   "source": [
    "def rec_airbnbs():\n",
    "    \n",
    "    user = int(input('reviewer_id: '))\n",
    "    n_recs = int(input('How many airbnb recommendations do you want? '))\n",
    "    \n",
    "    have_reviewed = list(reviewer_df.loc[user, 'listing_id'])\n",
    "    not_reviewed = english_reviews.copy() #put in listings df\n",
    "    not_reviewed = not_reviewed.drop_duplicates(subset=['listing_id'])\n",
    "    not_reviewed.set_index('listing_id', inplace = True)\n",
    "    not_reviewed.drop(have_reviewed, inplace=True)\n",
    "    \n",
    "    not_reviewed.reset_index(inplace = True)\n",
    "\n",
    "    not_reviewed['est_rating'] = not_reviewed['listing_id'].apply(lambda x: best_model.predict(user, x).est)\n",
    "    not_reviewed.sort_values(by = 'est_rating', ascending = False, inplace = True)\n",
    "    #not_reviewed = not_reviewed.rename(columns=\n",
    "    not_reviewed = not_reviewed.drop(columns=['id'])\n",
    "    return not_reviewed.head(n_recs)"
   ]
  },
  {
   "cell_type": "code",
   "execution_count": 301,
   "metadata": {},
   "outputs": [
    {
     "name": "stdout",
     "output_type": "stream",
     "text": [
      "reviewer_id: 47867325\n",
      "How many airbnb recommendations do you want? 3\n"
     ]
    },
    {
     "data": {
      "text/html": [
       "<div>\n",
       "<style scoped>\n",
       "    .dataframe tbody tr th:only-of-type {\n",
       "        vertical-align: middle;\n",
       "    }\n",
       "\n",
       "    .dataframe tbody tr th {\n",
       "        vertical-align: top;\n",
       "    }\n",
       "\n",
       "    .dataframe thead th {\n",
       "        text-align: right;\n",
       "    }\n",
       "</style>\n",
       "<table border=\"1\" class=\"dataframe\">\n",
       "  <thead>\n",
       "    <tr style=\"text-align: right;\">\n",
       "      <th></th>\n",
       "      <th>listing_id</th>\n",
       "      <th>date</th>\n",
       "      <th>reviewer_id</th>\n",
       "      <th>reviewer_name</th>\n",
       "      <th>comments</th>\n",
       "      <th>language</th>\n",
       "      <th>polarity</th>\n",
       "      <th>rec_scale</th>\n",
       "      <th>est_rating</th>\n",
       "    </tr>\n",
       "  </thead>\n",
       "  <tbody>\n",
       "    <tr>\n",
       "      <th>7397</th>\n",
       "      <td>552172641011665683</td>\n",
       "      <td>2022-03-07</td>\n",
       "      <td>36158582</td>\n",
       "      <td>Leïla</td>\n",
       "      <td>Great apartment, the location is optimal; the ...</td>\n",
       "      <td>en</td>\n",
       "      <td>0.493</td>\n",
       "      <td>5</td>\n",
       "      <td>5.955709</td>\n",
       "    </tr>\n",
       "    <tr>\n",
       "      <th>864</th>\n",
       "      <td>4828862</td>\n",
       "      <td>2015-08-20</td>\n",
       "      <td>20149003</td>\n",
       "      <td>Renato</td>\n",
       "      <td>Very Good</td>\n",
       "      <td>en</td>\n",
       "      <td>0.762</td>\n",
       "      <td>8</td>\n",
       "      <td>5.924407</td>\n",
       "    </tr>\n",
       "    <tr>\n",
       "      <th>2466</th>\n",
       "      <td>16747035</td>\n",
       "      <td>2018-11-29</td>\n",
       "      <td>26617627</td>\n",
       "      <td>Dan</td>\n",
       "      <td>Recommended for easy access to fashion distric...</td>\n",
       "      <td>en</td>\n",
       "      <td>0.603</td>\n",
       "      <td>7</td>\n",
       "      <td>5.882261</td>\n",
       "    </tr>\n",
       "  </tbody>\n",
       "</table>\n",
       "</div>"
      ],
      "text/plain": [
       "              listing_id        date  reviewer_id reviewer_name  \\\n",
       "7397  552172641011665683  2022-03-07     36158582         Leïla   \n",
       "864              4828862  2015-08-20     20149003        Renato   \n",
       "2466            16747035  2018-11-29     26617627           Dan   \n",
       "\n",
       "                                               comments language  polarity  \\\n",
       "7397  Great apartment, the location is optimal; the ...       en     0.493   \n",
       "864                                          Very Good        en     0.762   \n",
       "2466  Recommended for easy access to fashion distric...       en     0.603   \n",
       "\n",
       "     rec_scale  est_rating  \n",
       "7397         5    5.955709  \n",
       "864          8    5.924407  \n",
       "2466         7    5.882261  "
      ]
     },
     "execution_count": 301,
     "metadata": {},
     "output_type": "execute_result"
    }
   ],
   "source": [
    "rec_airbnbs()"
   ]
  },
  {
   "cell_type": "code",
   "execution_count": 159,
   "metadata": {},
   "outputs": [],
   "source": [
    "#english_reviews"
   ]
  },
  {
   "cell_type": "markdown",
   "metadata": {},
   "source": [
    "157651921"
   ]
  },
  {
   "cell_type": "code",
   "execution_count": null,
   "metadata": {},
   "outputs": [],
   "source": []
  },
  {
   "cell_type": "code",
   "execution_count": 352,
   "metadata": {},
   "outputs": [
    {
     "data": {
      "text/html": [
       "<div>\n",
       "<style scoped>\n",
       "    .dataframe tbody tr th:only-of-type {\n",
       "        vertical-align: middle;\n",
       "    }\n",
       "\n",
       "    .dataframe tbody tr th {\n",
       "        vertical-align: top;\n",
       "    }\n",
       "\n",
       "    .dataframe thead th {\n",
       "        text-align: right;\n",
       "    }\n",
       "</style>\n",
       "<table border=\"1\" class=\"dataframe\">\n",
       "  <thead>\n",
       "    <tr style=\"text-align: right;\">\n",
       "      <th></th>\n",
       "      <th>listing_id</th>\n",
       "      <th>id</th>\n",
       "      <th>date</th>\n",
       "      <th>reviewer_id</th>\n",
       "      <th>reviewer_name</th>\n",
       "      <th>comments</th>\n",
       "      <th>language</th>\n",
       "      <th>polarity</th>\n",
       "      <th>rec_scale</th>\n",
       "    </tr>\n",
       "  </thead>\n",
       "  <tbody>\n",
       "    <tr>\n",
       "      <th>1</th>\n",
       "      <td>6400</td>\n",
       "      <td>227727</td>\n",
       "      <td>2011-04-16</td>\n",
       "      <td>415910</td>\n",
       "      <td>Tej</td>\n",
       "      <td>Staying at Francesca's and Alberto's place was...</td>\n",
       "      <td>en</td>\n",
       "      <td>0.413</td>\n",
       "      <td>5</td>\n",
       "    </tr>\n",
       "    <tr>\n",
       "      <th>2</th>\n",
       "      <td>6400</td>\n",
       "      <td>1162608</td>\n",
       "      <td>2012-04-22</td>\n",
       "      <td>415910</td>\n",
       "      <td>Tej</td>\n",
       "      <td>This is my second time staying with Francesca ...</td>\n",
       "      <td>en</td>\n",
       "      <td>0.392</td>\n",
       "      <td>4</td>\n",
       "    </tr>\n",
       "    <tr>\n",
       "      <th>5</th>\n",
       "      <td>6400</td>\n",
       "      <td>30074708</td>\n",
       "      <td>2015-04-17</td>\n",
       "      <td>415910</td>\n",
       "      <td>Tej</td>\n",
       "      <td>Always a pleasure staying with Francesca and f...</td>\n",
       "      <td>en</td>\n",
       "      <td>0.112</td>\n",
       "      <td>2</td>\n",
       "    </tr>\n",
       "    <tr>\n",
       "      <th>6</th>\n",
       "      <td>6400</td>\n",
       "      <td>47340535</td>\n",
       "      <td>2015-09-18</td>\n",
       "      <td>5023643</td>\n",
       "      <td>Glynn</td>\n",
       "      <td>The host canceled this reservation the day bef...</td>\n",
       "      <td>en</td>\n",
       "      <td>0.000</td>\n",
       "      <td>1</td>\n",
       "    </tr>\n",
       "    <tr>\n",
       "      <th>7</th>\n",
       "      <td>6400</td>\n",
       "      <td>70088360</td>\n",
       "      <td>2016-04-16</td>\n",
       "      <td>415910</td>\n",
       "      <td>Tej</td>\n",
       "      <td>Another nice stay at Francesca's place.. I fee...</td>\n",
       "      <td>en</td>\n",
       "      <td>0.359</td>\n",
       "      <td>4</td>\n",
       "    </tr>\n",
       "  </tbody>\n",
       "</table>\n",
       "</div>"
      ],
      "text/plain": [
       "   listing_id        id        date  reviewer_id reviewer_name  \\\n",
       "1        6400    227727  2011-04-16       415910           Tej   \n",
       "2        6400   1162608  2012-04-22       415910           Tej   \n",
       "5        6400  30074708  2015-04-17       415910           Tej   \n",
       "6        6400  47340535  2015-09-18      5023643         Glynn   \n",
       "7        6400  70088360  2016-04-16       415910           Tej   \n",
       "\n",
       "                                            comments language  polarity  \\\n",
       "1  Staying at Francesca's and Alberto's place was...       en     0.413   \n",
       "2  This is my second time staying with Francesca ...       en     0.392   \n",
       "5  Always a pleasure staying with Francesca and f...       en     0.112   \n",
       "6  The host canceled this reservation the day bef...       en     0.000   \n",
       "7  Another nice stay at Francesca's place.. I fee...       en     0.359   \n",
       "\n",
       "  rec_scale  \n",
       "1         5  \n",
       "2         4  \n",
       "5         2  \n",
       "6         1  \n",
       "7         4  "
      ]
     },
     "execution_count": 352,
     "metadata": {},
     "output_type": "execute_result"
    }
   ],
   "source": [
    "english_reviews.head()"
   ]
  },
  {
   "cell_type": "code",
   "execution_count": 371,
   "metadata": {},
   "outputs": [],
   "source": [
    "def user_reviewed():\n",
    "    \n",
    "    user = int(input('reviewer_id: '))\n",
    "    \n",
    "    reviews = english_reviews.loc[english_reviews['reviewer_id'] == user].sort_values(by = 'rec_scale', ascending = False)\n",
    "    \n",
    "    return reviews.merge(listings, on = 'listing_id', how = 'left')\n"
   ]
  },
  {
   "cell_type": "code",
   "execution_count": 367,
   "metadata": {},
   "outputs": [
    {
     "name": "stdout",
     "output_type": "stream",
     "text": [
      "reviewer_id: 415910\n",
      "How many airbnb recommendations do you want? 3\n"
     ]
    },
    {
     "data": {
      "text/html": [
       "<div>\n",
       "<style scoped>\n",
       "    .dataframe tbody tr th:only-of-type {\n",
       "        vertical-align: middle;\n",
       "    }\n",
       "\n",
       "    .dataframe tbody tr th {\n",
       "        vertical-align: top;\n",
       "    }\n",
       "\n",
       "    .dataframe thead th {\n",
       "        text-align: right;\n",
       "    }\n",
       "</style>\n",
       "<table border=\"1\" class=\"dataframe\">\n",
       "  <thead>\n",
       "    <tr style=\"text-align: right;\">\n",
       "      <th></th>\n",
       "      <th>listing_id</th>\n",
       "      <th>date</th>\n",
       "      <th>reviewer_id</th>\n",
       "      <th>reviewer_name</th>\n",
       "      <th>comments</th>\n",
       "      <th>language</th>\n",
       "      <th>polarity</th>\n",
       "      <th>rec_scale</th>\n",
       "      <th>est_rating</th>\n",
       "    </tr>\n",
       "  </thead>\n",
       "  <tbody>\n",
       "    <tr>\n",
       "      <th>7398</th>\n",
       "      <td>552172641011665683</td>\n",
       "      <td>2022-03-07</td>\n",
       "      <td>36158582</td>\n",
       "      <td>Leïla</td>\n",
       "      <td>Great apartment, the location is optimal; the ...</td>\n",
       "      <td>en</td>\n",
       "      <td>0.493</td>\n",
       "      <td>5</td>\n",
       "      <td>6.002798</td>\n",
       "    </tr>\n",
       "    <tr>\n",
       "      <th>864</th>\n",
       "      <td>4828862</td>\n",
       "      <td>2015-08-20</td>\n",
       "      <td>20149003</td>\n",
       "      <td>Renato</td>\n",
       "      <td>Very Good</td>\n",
       "      <td>en</td>\n",
       "      <td>0.762</td>\n",
       "      <td>8</td>\n",
       "      <td>5.979728</td>\n",
       "    </tr>\n",
       "    <tr>\n",
       "      <th>2467</th>\n",
       "      <td>16747035</td>\n",
       "      <td>2018-11-29</td>\n",
       "      <td>26617627</td>\n",
       "      <td>Dan</td>\n",
       "      <td>Recommended for easy access to fashion distric...</td>\n",
       "      <td>en</td>\n",
       "      <td>0.603</td>\n",
       "      <td>7</td>\n",
       "      <td>5.928365</td>\n",
       "    </tr>\n",
       "  </tbody>\n",
       "</table>\n",
       "</div>"
      ],
      "text/plain": [
       "              listing_id        date  reviewer_id reviewer_name  \\\n",
       "7398  552172641011665683  2022-03-07     36158582         Leïla   \n",
       "864              4828862  2015-08-20     20149003        Renato   \n",
       "2467            16747035  2018-11-29     26617627           Dan   \n",
       "\n",
       "                                               comments language  polarity  \\\n",
       "7398  Great apartment, the location is optimal; the ...       en     0.493   \n",
       "864                                          Very Good        en     0.762   \n",
       "2467  Recommended for easy access to fashion distric...       en     0.603   \n",
       "\n",
       "     rec_scale  est_rating  \n",
       "7398         5    6.002798  \n",
       "864          8    5.979728  \n",
       "2467         7    5.928365  "
      ]
     },
     "execution_count": 367,
     "metadata": {},
     "output_type": "execute_result"
    }
   ],
   "source": [
    "rec_airbnbs()"
   ]
  },
  {
   "cell_type": "code",
   "execution_count": 370,
   "metadata": {},
   "outputs": [
    {
     "data": {
      "text/plain": [
       "f    16226\n",
       "t     4144\n",
       "Name: host_is_superhost, dtype: int64"
      ]
     },
     "execution_count": 370,
     "metadata": {},
     "output_type": "execute_result"
    }
   ],
   "source": [
    "listings['host_is_superhost'].value_counts()"
   ]
  },
  {
   "cell_type": "code",
   "execution_count": 372,
   "metadata": {},
   "outputs": [
    {
     "name": "stdout",
     "output_type": "stream",
     "text": [
      "reviewer_id: 20149003\n"
     ]
    },
    {
     "ename": "KeyError",
     "evalue": "'listing_id'",
     "output_type": "error",
     "traceback": [
      "\u001b[0;31m---------------------------------------------------------------------------\u001b[0m",
      "\u001b[0;31mKeyError\u001b[0m                                  Traceback (most recent call last)",
      "\u001b[0;32m<ipython-input-372-29447162bc1f>\u001b[0m in \u001b[0;36m<module>\u001b[0;34m\u001b[0m\n\u001b[1;32m      1\u001b[0m \u001b[0;31m#415910\u001b[0m\u001b[0;34m\u001b[0m\u001b[0;34m\u001b[0m\u001b[0;34m\u001b[0m\u001b[0m\n\u001b[0;32m----> 2\u001b[0;31m \u001b[0muser_reviewed\u001b[0m\u001b[0;34m(\u001b[0m\u001b[0;34m)\u001b[0m\u001b[0;34m\u001b[0m\u001b[0;34m\u001b[0m\u001b[0m\n\u001b[0m",
      "\u001b[0;32m<ipython-input-371-4c228a1c91d1>\u001b[0m in \u001b[0;36muser_reviewed\u001b[0;34m()\u001b[0m\n\u001b[1;32m      5\u001b[0m     \u001b[0mreviews\u001b[0m \u001b[0;34m=\u001b[0m \u001b[0menglish_reviews\u001b[0m\u001b[0;34m.\u001b[0m\u001b[0mloc\u001b[0m\u001b[0;34m[\u001b[0m\u001b[0menglish_reviews\u001b[0m\u001b[0;34m[\u001b[0m\u001b[0;34m'reviewer_id'\u001b[0m\u001b[0;34m]\u001b[0m \u001b[0;34m==\u001b[0m \u001b[0muser\u001b[0m\u001b[0;34m]\u001b[0m\u001b[0;34m.\u001b[0m\u001b[0msort_values\u001b[0m\u001b[0;34m(\u001b[0m\u001b[0mby\u001b[0m \u001b[0;34m=\u001b[0m \u001b[0;34m'rec_scale'\u001b[0m\u001b[0;34m,\u001b[0m \u001b[0mascending\u001b[0m \u001b[0;34m=\u001b[0m \u001b[0;32mFalse\u001b[0m\u001b[0;34m)\u001b[0m\u001b[0;34m\u001b[0m\u001b[0;34m\u001b[0m\u001b[0m\n\u001b[1;32m      6\u001b[0m \u001b[0;34m\u001b[0m\u001b[0m\n\u001b[0;32m----> 7\u001b[0;31m     \u001b[0;32mreturn\u001b[0m \u001b[0mreviews\u001b[0m\u001b[0;34m.\u001b[0m\u001b[0mmerge\u001b[0m\u001b[0;34m(\u001b[0m\u001b[0mlistings\u001b[0m\u001b[0;34m,\u001b[0m \u001b[0mon\u001b[0m \u001b[0;34m=\u001b[0m \u001b[0;34m'listing_id'\u001b[0m\u001b[0;34m,\u001b[0m \u001b[0mhow\u001b[0m \u001b[0;34m=\u001b[0m \u001b[0;34m'left'\u001b[0m\u001b[0;34m)\u001b[0m\u001b[0;34m\u001b[0m\u001b[0;34m\u001b[0m\u001b[0m\n\u001b[0m",
      "\u001b[0;32m/opt/anaconda3/envs/learn-env/lib/python3.8/site-packages/pandas/core/frame.py\u001b[0m in \u001b[0;36mmerge\u001b[0;34m(self, right, how, on, left_on, right_on, left_index, right_index, sort, suffixes, copy, indicator, validate)\u001b[0m\n\u001b[1;32m   7944\u001b[0m         \u001b[0;32mfrom\u001b[0m \u001b[0mpandas\u001b[0m\u001b[0;34m.\u001b[0m\u001b[0mcore\u001b[0m\u001b[0;34m.\u001b[0m\u001b[0mreshape\u001b[0m\u001b[0;34m.\u001b[0m\u001b[0mmerge\u001b[0m \u001b[0;32mimport\u001b[0m \u001b[0mmerge\u001b[0m\u001b[0;34m\u001b[0m\u001b[0;34m\u001b[0m\u001b[0m\n\u001b[1;32m   7945\u001b[0m \u001b[0;34m\u001b[0m\u001b[0m\n\u001b[0;32m-> 7946\u001b[0;31m         return merge(\n\u001b[0m\u001b[1;32m   7947\u001b[0m             \u001b[0mself\u001b[0m\u001b[0;34m,\u001b[0m\u001b[0;34m\u001b[0m\u001b[0;34m\u001b[0m\u001b[0m\n\u001b[1;32m   7948\u001b[0m             \u001b[0mright\u001b[0m\u001b[0;34m,\u001b[0m\u001b[0;34m\u001b[0m\u001b[0;34m\u001b[0m\u001b[0m\n",
      "\u001b[0;32m/opt/anaconda3/envs/learn-env/lib/python3.8/site-packages/pandas/core/reshape/merge.py\u001b[0m in \u001b[0;36mmerge\u001b[0;34m(left, right, how, on, left_on, right_on, left_index, right_index, sort, suffixes, copy, indicator, validate)\u001b[0m\n\u001b[1;32m     72\u001b[0m     \u001b[0mvalidate\u001b[0m\u001b[0;34m=\u001b[0m\u001b[0;32mNone\u001b[0m\u001b[0;34m,\u001b[0m\u001b[0;34m\u001b[0m\u001b[0;34m\u001b[0m\u001b[0m\n\u001b[1;32m     73\u001b[0m ) -> \"DataFrame\":\n\u001b[0;32m---> 74\u001b[0;31m     op = _MergeOperation(\n\u001b[0m\u001b[1;32m     75\u001b[0m         \u001b[0mleft\u001b[0m\u001b[0;34m,\u001b[0m\u001b[0;34m\u001b[0m\u001b[0;34m\u001b[0m\u001b[0m\n\u001b[1;32m     76\u001b[0m         \u001b[0mright\u001b[0m\u001b[0;34m,\u001b[0m\u001b[0;34m\u001b[0m\u001b[0;34m\u001b[0m\u001b[0m\n",
      "\u001b[0;32m/opt/anaconda3/envs/learn-env/lib/python3.8/site-packages/pandas/core/reshape/merge.py\u001b[0m in \u001b[0;36m__init__\u001b[0;34m(self, left, right, how, on, left_on, right_on, axis, left_index, right_index, sort, suffixes, copy, indicator, validate)\u001b[0m\n\u001b[1;32m    650\u001b[0m             \u001b[0mself\u001b[0m\u001b[0;34m.\u001b[0m\u001b[0mright_join_keys\u001b[0m\u001b[0;34m,\u001b[0m\u001b[0;34m\u001b[0m\u001b[0;34m\u001b[0m\u001b[0m\n\u001b[1;32m    651\u001b[0m             \u001b[0mself\u001b[0m\u001b[0;34m.\u001b[0m\u001b[0mjoin_names\u001b[0m\u001b[0;34m,\u001b[0m\u001b[0;34m\u001b[0m\u001b[0;34m\u001b[0m\u001b[0m\n\u001b[0;32m--> 652\u001b[0;31m         ) = self._get_merge_keys()\n\u001b[0m\u001b[1;32m    653\u001b[0m \u001b[0;34m\u001b[0m\u001b[0m\n\u001b[1;32m    654\u001b[0m         \u001b[0;31m# validate the merge keys dtypes. We may need to coerce\u001b[0m\u001b[0;34m\u001b[0m\u001b[0;34m\u001b[0m\u001b[0;34m\u001b[0m\u001b[0m\n",
      "\u001b[0;32m/opt/anaconda3/envs/learn-env/lib/python3.8/site-packages/pandas/core/reshape/merge.py\u001b[0m in \u001b[0;36m_get_merge_keys\u001b[0;34m(self)\u001b[0m\n\u001b[1;32m   1003\u001b[0m                     \u001b[0;32mif\u001b[0m \u001b[0;32mnot\u001b[0m \u001b[0mis_rkey\u001b[0m\u001b[0;34m(\u001b[0m\u001b[0mrk\u001b[0m\u001b[0;34m)\u001b[0m\u001b[0;34m:\u001b[0m\u001b[0;34m\u001b[0m\u001b[0;34m\u001b[0m\u001b[0m\n\u001b[1;32m   1004\u001b[0m                         \u001b[0;32mif\u001b[0m \u001b[0mrk\u001b[0m \u001b[0;32mis\u001b[0m \u001b[0;32mnot\u001b[0m \u001b[0;32mNone\u001b[0m\u001b[0;34m:\u001b[0m\u001b[0;34m\u001b[0m\u001b[0;34m\u001b[0m\u001b[0m\n\u001b[0;32m-> 1005\u001b[0;31m                             \u001b[0mright_keys\u001b[0m\u001b[0;34m.\u001b[0m\u001b[0mappend\u001b[0m\u001b[0;34m(\u001b[0m\u001b[0mright\u001b[0m\u001b[0;34m.\u001b[0m\u001b[0m_get_label_or_level_values\u001b[0m\u001b[0;34m(\u001b[0m\u001b[0mrk\u001b[0m\u001b[0;34m)\u001b[0m\u001b[0;34m)\u001b[0m\u001b[0;34m\u001b[0m\u001b[0;34m\u001b[0m\u001b[0m\n\u001b[0m\u001b[1;32m   1006\u001b[0m                         \u001b[0;32melse\u001b[0m\u001b[0;34m:\u001b[0m\u001b[0;34m\u001b[0m\u001b[0;34m\u001b[0m\u001b[0m\n\u001b[1;32m   1007\u001b[0m                             \u001b[0;31m# work-around for merge_asof(right_index=True)\u001b[0m\u001b[0;34m\u001b[0m\u001b[0;34m\u001b[0m\u001b[0;34m\u001b[0m\u001b[0m\n",
      "\u001b[0;32m/opt/anaconda3/envs/learn-env/lib/python3.8/site-packages/pandas/core/generic.py\u001b[0m in \u001b[0;36m_get_label_or_level_values\u001b[0;34m(self, key, axis)\u001b[0m\n\u001b[1;32m   1561\u001b[0m             \u001b[0mvalues\u001b[0m \u001b[0;34m=\u001b[0m \u001b[0mself\u001b[0m\u001b[0;34m.\u001b[0m\u001b[0maxes\u001b[0m\u001b[0;34m[\u001b[0m\u001b[0maxis\u001b[0m\u001b[0;34m]\u001b[0m\u001b[0;34m.\u001b[0m\u001b[0mget_level_values\u001b[0m\u001b[0;34m(\u001b[0m\u001b[0mkey\u001b[0m\u001b[0;34m)\u001b[0m\u001b[0;34m.\u001b[0m\u001b[0m_values\u001b[0m\u001b[0;34m\u001b[0m\u001b[0;34m\u001b[0m\u001b[0m\n\u001b[1;32m   1562\u001b[0m         \u001b[0;32melse\u001b[0m\u001b[0;34m:\u001b[0m\u001b[0;34m\u001b[0m\u001b[0;34m\u001b[0m\u001b[0m\n\u001b[0;32m-> 1563\u001b[0;31m             \u001b[0;32mraise\u001b[0m \u001b[0mKeyError\u001b[0m\u001b[0;34m(\u001b[0m\u001b[0mkey\u001b[0m\u001b[0;34m)\u001b[0m\u001b[0;34m\u001b[0m\u001b[0;34m\u001b[0m\u001b[0m\n\u001b[0m\u001b[1;32m   1564\u001b[0m \u001b[0;34m\u001b[0m\u001b[0m\n\u001b[1;32m   1565\u001b[0m         \u001b[0;31m# Check for duplicates\u001b[0m\u001b[0;34m\u001b[0m\u001b[0;34m\u001b[0m\u001b[0;34m\u001b[0m\u001b[0m\n",
      "\u001b[0;31mKeyError\u001b[0m: 'listing_id'"
     ]
    }
   ],
   "source": [
    "#415910\n",
    "user_reviewed()"
   ]
  },
  {
   "cell_type": "code",
   "execution_count": 171,
   "metadata": {
    "collapsed": true
   },
   "outputs": [
    {
     "data": {
      "text/html": [
       "<div>\n",
       "<style scoped>\n",
       "    .dataframe tbody tr th:only-of-type {\n",
       "        vertical-align: middle;\n",
       "    }\n",
       "\n",
       "    .dataframe tbody tr th {\n",
       "        vertical-align: top;\n",
       "    }\n",
       "\n",
       "    .dataframe thead th {\n",
       "        text-align: right;\n",
       "    }\n",
       "</style>\n",
       "<table border=\"1\" class=\"dataframe\">\n",
       "  <thead>\n",
       "    <tr style=\"text-align: right;\">\n",
       "      <th></th>\n",
       "      <th>listing_id</th>\n",
       "      <th>id</th>\n",
       "      <th>date</th>\n",
       "      <th>reviewer_id</th>\n",
       "      <th>reviewer_name</th>\n",
       "      <th>comments</th>\n",
       "      <th>language</th>\n",
       "      <th>polarity</th>\n",
       "      <th>rec_scale</th>\n",
       "    </tr>\n",
       "  </thead>\n",
       "  <tbody>\n",
       "    <tr>\n",
       "      <th>568358</th>\n",
       "      <td>593104498337273085</td>\n",
       "      <td>761437627169758256</td>\n",
       "      <td>2022-11-16</td>\n",
       "      <td>157651921</td>\n",
       "      <td>Habib</td>\n",
       "      <td>Very friendly host. Place is clean and has all...</td>\n",
       "      <td>en</td>\n",
       "      <td>0.307</td>\n",
       "      <td>4</td>\n",
       "    </tr>\n",
       "    <tr>\n",
       "      <th>611693</th>\n",
       "      <td>832647024131935906</td>\n",
       "      <td>844102915345361781</td>\n",
       "      <td>2023-03-10</td>\n",
       "      <td>157651921</td>\n",
       "      <td>Habib</td>\n",
       "      <td>good location. perfect if you need a practical...</td>\n",
       "      <td>en</td>\n",
       "      <td>0.337</td>\n",
       "      <td>4</td>\n",
       "    </tr>\n",
       "  </tbody>\n",
       "</table>\n",
       "</div>"
      ],
      "text/plain": [
       "                listing_id                  id        date  reviewer_id  \\\n",
       "568358  593104498337273085  761437627169758256  2022-11-16    157651921   \n",
       "611693  832647024131935906  844102915345361781  2023-03-10    157651921   \n",
       "\n",
       "       reviewer_name                                           comments  \\\n",
       "568358         Habib  Very friendly host. Place is clean and has all...   \n",
       "611693         Habib  good location. perfect if you need a practical...   \n",
       "\n",
       "       language  polarity rec_scale  \n",
       "568358       en     0.307         4  \n",
       "611693       en     0.337         4  "
      ]
     },
     "execution_count": 171,
     "metadata": {},
     "output_type": "execute_result"
    }
   ],
   "source": [
    "#highest rated movies User ID 157651921\n",
    "user157651921 = english_reviews.loc[english_reviews['reviewer_id'] == 157651921].sort_values(by = 'rec_scale', ascending = False).head(3)\n",
    "user157651921"
   ]
  },
  {
   "cell_type": "code",
   "execution_count": 250,
   "metadata": {},
   "outputs": [],
   "source": [
    "listing_overview = listings.loc[(listings['id'] == 593104498337273085) |\n",
    "                                (listings['id'] == 6400) ] \n"
   ]
  },
  {
   "cell_type": "code",
   "execution_count": 251,
   "metadata": {},
   "outputs": [],
   "source": [
    "def listings_info():\n",
    "    \n",
    "    listing_id = int(input('input listing id: '))\n",
    "    listing_id2 = int(input('input listing id2: ')) \n",
    "    listing_overview = listings.loc[(listings['id'] == listing_id) |\n",
    "                                (listings['id'] == listing_id2) ] \n",
    "    return listing_overview"
   ]
  },
  {
   "cell_type": "code",
   "execution_count": 303,
   "metadata": {},
   "outputs": [
    {
     "name": "stdout",
     "output_type": "stream",
     "text": [
      "input listing id: 593104498337273085\n",
      "input listing id2: 6400\n"
     ]
    },
    {
     "data": {
      "text/html": [
       "<div>\n",
       "<style scoped>\n",
       "    .dataframe tbody tr th:only-of-type {\n",
       "        vertical-align: middle;\n",
       "    }\n",
       "\n",
       "    .dataframe tbody tr th {\n",
       "        vertical-align: top;\n",
       "    }\n",
       "\n",
       "    .dataframe thead th {\n",
       "        text-align: right;\n",
       "    }\n",
       "</style>\n",
       "<table border=\"1\" class=\"dataframe\">\n",
       "  <thead>\n",
       "    <tr style=\"text-align: right;\">\n",
       "      <th></th>\n",
       "      <th>id</th>\n",
       "      <th>name</th>\n",
       "      <th>description</th>\n",
       "      <th>neighborhood_overview</th>\n",
       "      <th>host_is_superhost</th>\n",
       "      <th>host_identity_verified</th>\n",
       "      <th>neighbourhood_cleansed</th>\n",
       "      <th>property_type</th>\n",
       "      <th>room_type</th>\n",
       "      <th>accommodates</th>\n",
       "      <th>...</th>\n",
       "      <th>beds</th>\n",
       "      <th>amenities</th>\n",
       "      <th>review_scores_rating</th>\n",
       "      <th>review_scores_accuracy</th>\n",
       "      <th>review_scores_cleanliness</th>\n",
       "      <th>review_scores_checkin</th>\n",
       "      <th>review_scores_communication</th>\n",
       "      <th>review_scores_location</th>\n",
       "      <th>review_scores_value</th>\n",
       "      <th>instant_bookable</th>\n",
       "    </tr>\n",
       "  </thead>\n",
       "  <tbody>\n",
       "    <tr>\n",
       "      <th>1848</th>\n",
       "      <td>593104498337273085</td>\n",
       "      <td>NEW HOUSE w/ GARDEN AREA ⋆ Sibari Green Apartment</td>\n",
       "      <td>Brand New, Charming and Quiet apartment with G...</td>\n",
       "      <td>NaN</td>\n",
       "      <td>t</td>\n",
       "      <td>t</td>\n",
       "      <td>RIPAMONTI</td>\n",
       "      <td>Entire rental unit</td>\n",
       "      <td>Entire home/apt</td>\n",
       "      <td>3</td>\n",
       "      <td>...</td>\n",
       "      <td>2.0</td>\n",
       "      <td>[\"Hair dryer\", \"Smoke alarm\", \"Freezer\", \"Free...</td>\n",
       "      <td>4.96</td>\n",
       "      <td>4.96</td>\n",
       "      <td>4.98</td>\n",
       "      <td>5.0</td>\n",
       "      <td>5.0</td>\n",
       "      <td>4.75</td>\n",
       "      <td>4.89</td>\n",
       "      <td>f</td>\n",
       "    </tr>\n",
       "    <tr>\n",
       "      <th>18431</th>\n",
       "      <td>6400</td>\n",
       "      <td>The Studio Milan</td>\n",
       "      <td>Enjoy your stay at The Studio, a light-filled ...</td>\n",
       "      <td>The neighborhood is quiet and very well connec...</td>\n",
       "      <td>f</td>\n",
       "      <td>f</td>\n",
       "      <td>TIBALDI</td>\n",
       "      <td>Private room in rental unit</td>\n",
       "      <td>Private room</td>\n",
       "      <td>1</td>\n",
       "      <td>...</td>\n",
       "      <td>1.0</td>\n",
       "      <td>[\"TV\", \"First aid kit\", \"Wifi\", \"Washer\", \"Iro...</td>\n",
       "      <td>4.89</td>\n",
       "      <td>5.00</td>\n",
       "      <td>5.00</td>\n",
       "      <td>5.0</td>\n",
       "      <td>5.0</td>\n",
       "      <td>4.56</td>\n",
       "      <td>4.67</td>\n",
       "      <td>f</td>\n",
       "    </tr>\n",
       "  </tbody>\n",
       "</table>\n",
       "<p>2 rows × 21 columns</p>\n",
       "</div>"
      ],
      "text/plain": [
       "                       id                                               name  \\\n",
       "1848   593104498337273085  NEW HOUSE w/ GARDEN AREA ⋆ Sibari Green Apartment   \n",
       "18431                6400                                   The Studio Milan   \n",
       "\n",
       "                                             description  \\\n",
       "1848   Brand New, Charming and Quiet apartment with G...   \n",
       "18431  Enjoy your stay at The Studio, a light-filled ...   \n",
       "\n",
       "                                   neighborhood_overview host_is_superhost  \\\n",
       "1848                                                 NaN                 t   \n",
       "18431  The neighborhood is quiet and very well connec...                 f   \n",
       "\n",
       "      host_identity_verified neighbourhood_cleansed  \\\n",
       "1848                       t              RIPAMONTI   \n",
       "18431                      f                TIBALDI   \n",
       "\n",
       "                     property_type        room_type  accommodates  ...  beds  \\\n",
       "1848            Entire rental unit  Entire home/apt             3  ...   2.0   \n",
       "18431  Private room in rental unit     Private room             1  ...   1.0   \n",
       "\n",
       "                                               amenities review_scores_rating  \\\n",
       "1848   [\"Hair dryer\", \"Smoke alarm\", \"Freezer\", \"Free...                 4.96   \n",
       "18431  [\"TV\", \"First aid kit\", \"Wifi\", \"Washer\", \"Iro...                 4.89   \n",
       "\n",
       "       review_scores_accuracy  review_scores_cleanliness  \\\n",
       "1848                     4.96                       4.98   \n",
       "18431                    5.00                       5.00   \n",
       "\n",
       "       review_scores_checkin  review_scores_communication  \\\n",
       "1848                     5.0                          5.0   \n",
       "18431                    5.0                          5.0   \n",
       "\n",
       "       review_scores_location  review_scores_value  instant_bookable  \n",
       "1848                     4.75                 4.89                 f  \n",
       "18431                    4.56                 4.67                 f  \n",
       "\n",
       "[2 rows x 21 columns]"
      ]
     },
     "execution_count": 303,
     "metadata": {},
     "output_type": "execute_result"
    }
   ],
   "source": [
    "#593104498337273085\n",
    "#6400\n",
    "listings_info()"
   ]
  },
  {
   "cell_type": "code",
   "execution_count": 365,
   "metadata": {
    "scrolled": true
   },
   "outputs": [],
   "source": [
    "listings = pd.read_csv('listings.csv')\n",
    "listings.drop(columns = ['listing_url', 'scrape_id', 'last_scraped', 'source', 'picture_url',\n",
    "                        'host_id',  'license', 'calculated_host_listings_count_shared_rooms',\n",
    "                        'calculated_host_listings_count_entire_homes', 'reviews_per_month',\n",
    "                        'calculated_host_listings_count_private_rooms', 'calculated_host_listings_count',\n",
    "                        'first_review', 'last_review', 'host_since', 'host_url', 'minimum_nights',\n",
    "                        'minimum_minimum_nights', 'maximum_maximum_nights', 'minimum_maximum_nights',\n",
    "                         'maximum_nights_avg_ntm', 'minimum_nights_avg_ntm', 'longitude', 'latitude',\n",
    "                        'bathrooms', 'calendar_updated', 'availability_30', 'availability_60',\n",
    "                        'availability_90', 'availability_365', 'neighbourhood_group_cleansed',\n",
    "                        'neighbourhood', 'has_availability', 'bathrooms_text', 'host_about',\n",
    "                        'host_thumbnail_url', 'host_picture_url', 'maximum_minimum_nights',\n",
    "                        'maximum_nights', 'price', 'host_has_profile_pic', 'host_listings_count',\n",
    "                        'host_neighbourhood', 'host_verifications', 'host_total_listings_count',\n",
    "                        'number_of_reviews_l30d', 'number_of_reviews_ltm', 'calendar_last_scraped',\n",
    "                        'number_of_reviews', 'host_location', 'host_name', 'host_acceptance_rate',\n",
    "                        'host_response_time','host_response_rate', 'review_scores_rating',\n",
    "                        'review_scores_accuracy', 'review_scores_checkin', 'review_scores_cleanliness',\n",
    "                        'review_scores_location', 'review_scores_communication', 'review_scores_value', 'description' ], \n",
    "              \n",
    "              inplace = True)"
   ]
  },
  {
   "cell_type": "code",
   "execution_count": 364,
   "metadata": {
    "scrolled": false
   },
   "outputs": [
    {
     "name": "stdout",
     "output_type": "stream",
     "text": [
      "<class 'pandas.core.frame.DataFrame'>\n",
      "RangeIndex: 20370 entries, 0 to 20369\n",
      "Data columns (total 14 columns):\n",
      " #   Column                  Non-Null Count  Dtype  \n",
      "---  ------                  --------------  -----  \n",
      " 0   id                      20370 non-null  int64  \n",
      " 1   name                    20363 non-null  object \n",
      " 2   description             19991 non-null  object \n",
      " 3   neighborhood_overview   11182 non-null  object \n",
      " 4   host_is_superhost       20370 non-null  object \n",
      " 5   host_identity_verified  20370 non-null  object \n",
      " 6   neighbourhood_cleansed  20370 non-null  object \n",
      " 7   property_type           20370 non-null  object \n",
      " 8   room_type               20370 non-null  object \n",
      " 9   accommodates            20370 non-null  int64  \n",
      " 10  bedrooms                18924 non-null  float64\n",
      " 11  beds                    20091 non-null  float64\n",
      " 12  amenities               20370 non-null  object \n",
      " 13  instant_bookable        20370 non-null  object \n",
      "dtypes: float64(2), int64(2), object(10)\n",
      "memory usage: 2.2+ MB\n"
     ]
    }
   ],
   "source": [
    "listings.info()"
   ]
  },
  {
   "cell_type": "code",
   "execution_count": 306,
   "metadata": {
    "scrolled": true
   },
   "outputs": [
    {
     "data": {
      "text/plain": [
       "(9272,)"
      ]
     },
     "execution_count": 306,
     "metadata": {},
     "output_type": "execute_result"
    }
   ],
   "source": [
    "english_reviews['listing_id'].unique().shape\n",
    "#look for the intersection between 2 sets. "
   ]
  },
  {
   "cell_type": "code",
   "execution_count": 308,
   "metadata": {
    "scrolled": true
   },
   "outputs": [
    {
     "data": {
      "text/plain": [
       "False"
      ]
     },
     "execution_count": 308,
     "metadata": {},
     "output_type": "execute_result"
    }
   ],
   "source": [
    "(set(english_reviews['listing_id']) in set(listings['id']))"
   ]
  },
  {
   "cell_type": "code",
   "execution_count": 313,
   "metadata": {
    "scrolled": true
   },
   "outputs": [
    {
     "data": {
      "text/plain": [
       "array([ True])"
      ]
     },
     "execution_count": 313,
     "metadata": {},
     "output_type": "execute_result"
    }
   ],
   "source": [
    "english_reviews['listing_id'].isin(set(listings['id'])).unique()"
   ]
  },
  {
   "cell_type": "code",
   "execution_count": 314,
   "metadata": {},
   "outputs": [
    {
     "data": {
      "text/plain": [
       "array([ True])"
      ]
     },
     "execution_count": 314,
     "metadata": {},
     "output_type": "execute_result"
    }
   ],
   "source": [
    "english_reviews['listing_id'].isin(listings['id']).unique()"
   ]
  },
  {
   "cell_type": "code",
   "execution_count": 349,
   "metadata": {},
   "outputs": [],
   "source": [
    "def rec_airbnbs_info():\n",
    "    \n",
    "    user = int(input('reviewer_id: '))\n",
    "    n_recs = int(input('How many airbnb recommendations do you want? '))\n",
    "    \n",
    "    have_reviewed = list(reviewer_df.loc[user, 'listing_id'])\n",
    "    not_reviewed = english_reviews.copy()\n",
    "    not_reviewed = not_reviewed.drop_duplicates(subset=['listing_id'])\n",
    "    not_reviewed.set_index('listing_id', inplace = True)\n",
    "    not_reviewed.drop(have_reviewed, inplace=True)\n",
    "    \n",
    "    not_reviewed.reset_index(inplace = True)\n",
    "\n",
    "    not_reviewed['est_rating'] = not_reviewed['listing_id'].apply(lambda x: best_model.predict(user, x).est)\n",
    "    not_reviewed.sort_values(by = 'est_rating', ascending = False, inplace = True)\n",
    "    \n",
    "    not_reviewed = not_reviewed.drop(columns=['id'])\n",
    "    not_reviewed.merge(listings, on = 'listing_id', how = 'left')\n",
    "    \n",
    "    return not_reviewed.merge(listings, on = 'listing_id', how = 'left').head(n_recs)"
   ]
  },
  {
   "cell_type": "code",
   "execution_count": 350,
   "metadata": {},
   "outputs": [
    {
     "name": "stdout",
     "output_type": "stream",
     "text": [
      "reviewer_id: 157651921\n",
      "How many airbnb recommendations do you want? 3\n"
     ]
    },
    {
     "data": {
      "text/html": [
       "<div>\n",
       "<style scoped>\n",
       "    .dataframe tbody tr th:only-of-type {\n",
       "        vertical-align: middle;\n",
       "    }\n",
       "\n",
       "    .dataframe tbody tr th {\n",
       "        vertical-align: top;\n",
       "    }\n",
       "\n",
       "    .dataframe thead th {\n",
       "        text-align: right;\n",
       "    }\n",
       "</style>\n",
       "<table border=\"1\" class=\"dataframe\">\n",
       "  <thead>\n",
       "    <tr style=\"text-align: right;\">\n",
       "      <th></th>\n",
       "      <th>listing_id</th>\n",
       "      <th>date</th>\n",
       "      <th>reviewer_id</th>\n",
       "      <th>reviewer_name</th>\n",
       "      <th>comments</th>\n",
       "      <th>language</th>\n",
       "      <th>polarity</th>\n",
       "      <th>rec_scale</th>\n",
       "      <th>est_rating</th>\n",
       "      <th>name</th>\n",
       "      <th>...</th>\n",
       "      <th>beds</th>\n",
       "      <th>amenities</th>\n",
       "      <th>review_scores_rating</th>\n",
       "      <th>review_scores_accuracy</th>\n",
       "      <th>review_scores_cleanliness</th>\n",
       "      <th>review_scores_checkin</th>\n",
       "      <th>review_scores_communication</th>\n",
       "      <th>review_scores_location</th>\n",
       "      <th>review_scores_value</th>\n",
       "      <th>instant_bookable</th>\n",
       "    </tr>\n",
       "  </thead>\n",
       "  <tbody>\n",
       "    <tr>\n",
       "      <th>0</th>\n",
       "      <td>552172641011665683</td>\n",
       "      <td>2022-03-07</td>\n",
       "      <td>36158582</td>\n",
       "      <td>Leïla</td>\n",
       "      <td>Great apartment, the location is optimal; the ...</td>\n",
       "      <td>en</td>\n",
       "      <td>0.493</td>\n",
       "      <td>5</td>\n",
       "      <td>5.922519</td>\n",
       "      <td>CORSO GARIBALDI 64 - LIVING MILAN</td>\n",
       "      <td>...</td>\n",
       "      <td>1.0</td>\n",
       "      <td>[\"Hair dryer\", \"Freezer\", \"Coffee maker: Nespr...</td>\n",
       "      <td>4.77</td>\n",
       "      <td>4.77</td>\n",
       "      <td>4.73</td>\n",
       "      <td>4.93</td>\n",
       "      <td>4.88</td>\n",
       "      <td>4.97</td>\n",
       "      <td>4.63</td>\n",
       "      <td>t</td>\n",
       "    </tr>\n",
       "    <tr>\n",
       "      <th>1</th>\n",
       "      <td>4828862</td>\n",
       "      <td>2015-08-20</td>\n",
       "      <td>20149003</td>\n",
       "      <td>Renato</td>\n",
       "      <td>Very Good</td>\n",
       "      <td>en</td>\n",
       "      <td>0.762</td>\n",
       "      <td>8</td>\n",
       "      <td>5.904171</td>\n",
       "      <td>Pontida 4 Apartment</td>\n",
       "      <td>...</td>\n",
       "      <td>2.0</td>\n",
       "      <td>[\"TV\", \"Wifi\", \"Hot water\", \"Hair dryer\", \"Fir...</td>\n",
       "      <td>4.71</td>\n",
       "      <td>4.73</td>\n",
       "      <td>4.83</td>\n",
       "      <td>4.85</td>\n",
       "      <td>4.68</td>\n",
       "      <td>4.88</td>\n",
       "      <td>4.41</td>\n",
       "      <td>t</td>\n",
       "    </tr>\n",
       "    <tr>\n",
       "      <th>2</th>\n",
       "      <td>16747035</td>\n",
       "      <td>2018-11-29</td>\n",
       "      <td>26617627</td>\n",
       "      <td>Dan</td>\n",
       "      <td>Recommended for easy access to fashion distric...</td>\n",
       "      <td>en</td>\n",
       "      <td>0.603</td>\n",
       "      <td>7</td>\n",
       "      <td>5.855672</td>\n",
       "      <td>easyhomes-Spiga Suite</td>\n",
       "      <td>...</td>\n",
       "      <td>1.0</td>\n",
       "      <td>[\"Hair dryer\", \"Coffee maker: Nespresso\", \"Sin...</td>\n",
       "      <td>4.69</td>\n",
       "      <td>4.76</td>\n",
       "      <td>4.79</td>\n",
       "      <td>4.86</td>\n",
       "      <td>4.83</td>\n",
       "      <td>4.95</td>\n",
       "      <td>4.59</td>\n",
       "      <td>f</td>\n",
       "    </tr>\n",
       "  </tbody>\n",
       "</table>\n",
       "<p>3 rows × 29 columns</p>\n",
       "</div>"
      ],
      "text/plain": [
       "           listing_id        date  reviewer_id reviewer_name  \\\n",
       "0  552172641011665683  2022-03-07     36158582         Leïla   \n",
       "1             4828862  2015-08-20     20149003        Renato   \n",
       "2            16747035  2018-11-29     26617627           Dan   \n",
       "\n",
       "                                            comments language  polarity  \\\n",
       "0  Great apartment, the location is optimal; the ...       en     0.493   \n",
       "1                                         Very Good        en     0.762   \n",
       "2  Recommended for easy access to fashion distric...       en     0.603   \n",
       "\n",
       "  rec_scale  est_rating                               name  ... beds  \\\n",
       "0         5    5.922519  CORSO GARIBALDI 64 - LIVING MILAN  ...  1.0   \n",
       "1         8    5.904171                Pontida 4 Apartment  ...  2.0   \n",
       "2         7    5.855672              easyhomes-Spiga Suite  ...  1.0   \n",
       "\n",
       "                                           amenities review_scores_rating  \\\n",
       "0  [\"Hair dryer\", \"Freezer\", \"Coffee maker: Nespr...                 4.77   \n",
       "1  [\"TV\", \"Wifi\", \"Hot water\", \"Hair dryer\", \"Fir...                 4.71   \n",
       "2  [\"Hair dryer\", \"Coffee maker: Nespresso\", \"Sin...                 4.69   \n",
       "\n",
       "  review_scores_accuracy review_scores_cleanliness review_scores_checkin  \\\n",
       "0                   4.77                      4.73                  4.93   \n",
       "1                   4.73                      4.83                  4.85   \n",
       "2                   4.76                      4.79                  4.86   \n",
       "\n",
       "  review_scores_communication  review_scores_location  review_scores_value  \\\n",
       "0                        4.88                    4.97                 4.63   \n",
       "1                        4.68                    4.88                 4.41   \n",
       "2                        4.83                    4.95                 4.59   \n",
       "\n",
       "   instant_bookable  \n",
       "0                 t  \n",
       "1                 t  \n",
       "2                 f  \n",
       "\n",
       "[3 rows x 29 columns]"
      ]
     },
     "execution_count": 350,
     "metadata": {},
     "output_type": "execute_result"
    }
   ],
   "source": [
    "#157651921 user\n",
    "rec_airbnbs_info()"
   ]
  },
  {
   "cell_type": "code",
   "execution_count": 331,
   "metadata": {
    "scrolled": true
   },
   "outputs": [],
   "source": [
    "listings.rename(columns={\"id\": \"listing_id\"}, inplace=True)\n"
   ]
  },
  {
   "cell_type": "code",
   "execution_count": 341,
   "metadata": {},
   "outputs": [],
   "source": [
    "not_reviewed.reset_index(inplace = True)"
   ]
  },
  {
   "cell_type": "code",
   "execution_count": 332,
   "metadata": {
    "collapsed": true
   },
   "outputs": [
    {
     "name": "stdout",
     "output_type": "stream",
     "text": [
      "<class 'pandas.core.frame.DataFrame'>\n",
      "RangeIndex: 20370 entries, 0 to 20369\n",
      "Data columns (total 21 columns):\n",
      " #   Column                       Non-Null Count  Dtype  \n",
      "---  ------                       --------------  -----  \n",
      " 0   listing_id                   20370 non-null  int64  \n",
      " 1   name                         20363 non-null  object \n",
      " 2   description                  19991 non-null  object \n",
      " 3   neighborhood_overview        11182 non-null  object \n",
      " 4   host_is_superhost            20370 non-null  object \n",
      " 5   host_identity_verified       20370 non-null  object \n",
      " 6   neighbourhood_cleansed       20370 non-null  object \n",
      " 7   property_type                20370 non-null  object \n",
      " 8   room_type                    20370 non-null  object \n",
      " 9   accommodates                 20370 non-null  int64  \n",
      " 10  bedrooms                     18924 non-null  float64\n",
      " 11  beds                         20091 non-null  float64\n",
      " 12  amenities                    20370 non-null  object \n",
      " 13  review_scores_rating         16045 non-null  float64\n",
      " 14  review_scores_accuracy       15874 non-null  float64\n",
      " 15  review_scores_cleanliness    15874 non-null  float64\n",
      " 16  review_scores_checkin        15873 non-null  float64\n",
      " 17  review_scores_communication  15875 non-null  float64\n",
      " 18  review_scores_location       15873 non-null  float64\n",
      " 19  review_scores_value          15873 non-null  float64\n",
      " 20  instant_bookable             20370 non-null  object \n",
      "dtypes: float64(9), int64(2), object(10)\n",
      "memory usage: 3.3+ MB\n"
     ]
    }
   ],
   "source": [
    "listings.info()"
   ]
  },
  {
   "cell_type": "code",
   "execution_count": 329,
   "metadata": {
    "scrolled": true
   },
   "outputs": [
    {
     "data": {
      "text/html": [
       "<div>\n",
       "<style scoped>\n",
       "    .dataframe tbody tr th:only-of-type {\n",
       "        vertical-align: middle;\n",
       "    }\n",
       "\n",
       "    .dataframe tbody tr th {\n",
       "        vertical-align: top;\n",
       "    }\n",
       "\n",
       "    .dataframe thead th {\n",
       "        text-align: right;\n",
       "    }\n",
       "</style>\n",
       "<table border=\"1\" class=\"dataframe\">\n",
       "  <thead>\n",
       "    <tr style=\"text-align: right;\">\n",
       "      <th></th>\n",
       "      <th>id</th>\n",
       "      <th>name</th>\n",
       "      <th>description</th>\n",
       "      <th>neighborhood_overview</th>\n",
       "      <th>host_is_superhost</th>\n",
       "      <th>host_identity_verified</th>\n",
       "      <th>neighbourhood_cleansed</th>\n",
       "      <th>property_type</th>\n",
       "      <th>room_type</th>\n",
       "      <th>accommodates</th>\n",
       "      <th>...</th>\n",
       "      <th>beds</th>\n",
       "      <th>amenities</th>\n",
       "      <th>review_scores_rating</th>\n",
       "      <th>review_scores_accuracy</th>\n",
       "      <th>review_scores_cleanliness</th>\n",
       "      <th>review_scores_checkin</th>\n",
       "      <th>review_scores_communication</th>\n",
       "      <th>review_scores_location</th>\n",
       "      <th>review_scores_value</th>\n",
       "      <th>instant_bookable</th>\n",
       "    </tr>\n",
       "  </thead>\n",
       "  <tbody>\n",
       "    <tr>\n",
       "      <th>0</th>\n",
       "      <td>5678774</td>\n",
       "      <td>Central Appartment</td>\n",
       "      <td>A very nice flat in the city center, really go...</td>\n",
       "      <td>NaN</td>\n",
       "      <td>f</td>\n",
       "      <td>t</td>\n",
       "      <td>NAVIGLI</td>\n",
       "      <td>Entire condo</td>\n",
       "      <td>Entire home/apt</td>\n",
       "      <td>4</td>\n",
       "      <td>...</td>\n",
       "      <td>1.0</td>\n",
       "      <td>[\"Wifi\", \"Hot water\", \"Washer\", \"Iron\", \"TV wi...</td>\n",
       "      <td>4.50</td>\n",
       "      <td>4.50</td>\n",
       "      <td>5.00</td>\n",
       "      <td>4.50</td>\n",
       "      <td>4.50</td>\n",
       "      <td>4.50</td>\n",
       "      <td>4.00</td>\n",
       "      <td>f</td>\n",
       "    </tr>\n",
       "    <tr>\n",
       "      <th>1</th>\n",
       "      <td>5625937</td>\n",
       "      <td>Fancy apt in historical building in Duomo Area...</td>\n",
       "      <td>T</td>\n",
       "      <td>NaN</td>\n",
       "      <td>f</td>\n",
       "      <td>t</td>\n",
       "      <td>DUOMO</td>\n",
       "      <td>Entire rental unit</td>\n",
       "      <td>Entire home/apt</td>\n",
       "      <td>4</td>\n",
       "      <td>...</td>\n",
       "      <td>2.0</td>\n",
       "      <td>[\"TV\", \"Wifi\", \"Hot water\", \"Washer\", \"Iron\", ...</td>\n",
       "      <td>4.38</td>\n",
       "      <td>4.57</td>\n",
       "      <td>4.32</td>\n",
       "      <td>4.69</td>\n",
       "      <td>4.59</td>\n",
       "      <td>4.87</td>\n",
       "      <td>4.39</td>\n",
       "      <td>t</td>\n",
       "    </tr>\n",
       "    <tr>\n",
       "      <th>2</th>\n",
       "      <td>6139798</td>\n",
       "      <td>Affitto casa per Expo</td>\n",
       "      <td>Affittasi casa periodo estivo. Vicinissima a E...</td>\n",
       "      <td>Il quartiere dispone di tutti i servizi, compr...</td>\n",
       "      <td>f</td>\n",
       "      <td>f</td>\n",
       "      <td>QUARTO OGGIARO</td>\n",
       "      <td>Entire rental unit</td>\n",
       "      <td>Entire home/apt</td>\n",
       "      <td>2</td>\n",
       "      <td>...</td>\n",
       "      <td>1.0</td>\n",
       "      <td>[\"TV with standard cable\", \"Washer\", \"Essentia...</td>\n",
       "      <td>NaN</td>\n",
       "      <td>NaN</td>\n",
       "      <td>NaN</td>\n",
       "      <td>NaN</td>\n",
       "      <td>NaN</td>\n",
       "      <td>NaN</td>\n",
       "      <td>NaN</td>\n",
       "      <td>t</td>\n",
       "    </tr>\n",
       "    <tr>\n",
       "      <th>3</th>\n",
       "      <td>7479570</td>\n",
       "      <td>Central Air-Conditioned Apartment</td>\n",
       "      <td>Fully equipped house in the historical center ...</td>\n",
       "      <td>NaN</td>\n",
       "      <td>f</td>\n",
       "      <td>t</td>\n",
       "      <td>GUASTALLA</td>\n",
       "      <td>Entire loft</td>\n",
       "      <td>Entire home/apt</td>\n",
       "      <td>4</td>\n",
       "      <td>...</td>\n",
       "      <td>3.0</td>\n",
       "      <td>[\"Washer\", \"Essentials\", \"Elevator\", \"Kitchen\"...</td>\n",
       "      <td>NaN</td>\n",
       "      <td>NaN</td>\n",
       "      <td>NaN</td>\n",
       "      <td>NaN</td>\n",
       "      <td>NaN</td>\n",
       "      <td>NaN</td>\n",
       "      <td>NaN</td>\n",
       "      <td>f</td>\n",
       "    </tr>\n",
       "    <tr>\n",
       "      <th>4</th>\n",
       "      <td>8438872</td>\n",
       "      <td>Bedroom for the weekend</td>\n",
       "      <td>Very close to the Central Train Station and me...</td>\n",
       "      <td>NaN</td>\n",
       "      <td>f</td>\n",
       "      <td>t</td>\n",
       "      <td>GRECO</td>\n",
       "      <td>Private room in rental unit</td>\n",
       "      <td>Private room</td>\n",
       "      <td>2</td>\n",
       "      <td>...</td>\n",
       "      <td>1.0</td>\n",
       "      <td>[\"TV\", \"Washer\", \"Iron\", \"Hair dryer\", \"Essent...</td>\n",
       "      <td>NaN</td>\n",
       "      <td>NaN</td>\n",
       "      <td>NaN</td>\n",
       "      <td>NaN</td>\n",
       "      <td>NaN</td>\n",
       "      <td>NaN</td>\n",
       "      <td>NaN</td>\n",
       "      <td>f</td>\n",
       "    </tr>\n",
       "  </tbody>\n",
       "</table>\n",
       "<p>5 rows × 21 columns</p>\n",
       "</div>"
      ],
      "text/plain": [
       "        id                                               name  \\\n",
       "0  5678774                                 Central Appartment   \n",
       "1  5625937  Fancy apt in historical building in Duomo Area...   \n",
       "2  6139798                              Affitto casa per Expo   \n",
       "3  7479570                  Central Air-Conditioned Apartment   \n",
       "4  8438872                            Bedroom for the weekend   \n",
       "\n",
       "                                         description  \\\n",
       "0  A very nice flat in the city center, really go...   \n",
       "1                                                  T   \n",
       "2  Affittasi casa periodo estivo. Vicinissima a E...   \n",
       "3  Fully equipped house in the historical center ...   \n",
       "4  Very close to the Central Train Station and me...   \n",
       "\n",
       "                               neighborhood_overview host_is_superhost  \\\n",
       "0                                                NaN                 f   \n",
       "1                                                NaN                 f   \n",
       "2  Il quartiere dispone di tutti i servizi, compr...                 f   \n",
       "3                                                NaN                 f   \n",
       "4                                                NaN                 f   \n",
       "\n",
       "  host_identity_verified neighbourhood_cleansed                property_type  \\\n",
       "0                      t                NAVIGLI                 Entire condo   \n",
       "1                      t                  DUOMO           Entire rental unit   \n",
       "2                      f         QUARTO OGGIARO           Entire rental unit   \n",
       "3                      t              GUASTALLA                  Entire loft   \n",
       "4                      t                  GRECO  Private room in rental unit   \n",
       "\n",
       "         room_type  accommodates  ...  beds  \\\n",
       "0  Entire home/apt             4  ...   1.0   \n",
       "1  Entire home/apt             4  ...   2.0   \n",
       "2  Entire home/apt             2  ...   1.0   \n",
       "3  Entire home/apt             4  ...   3.0   \n",
       "4     Private room             2  ...   1.0   \n",
       "\n",
       "                                           amenities review_scores_rating  \\\n",
       "0  [\"Wifi\", \"Hot water\", \"Washer\", \"Iron\", \"TV wi...                 4.50   \n",
       "1  [\"TV\", \"Wifi\", \"Hot water\", \"Washer\", \"Iron\", ...                 4.38   \n",
       "2  [\"TV with standard cable\", \"Washer\", \"Essentia...                  NaN   \n",
       "3  [\"Washer\", \"Essentials\", \"Elevator\", \"Kitchen\"...                  NaN   \n",
       "4  [\"TV\", \"Washer\", \"Iron\", \"Hair dryer\", \"Essent...                  NaN   \n",
       "\n",
       "   review_scores_accuracy  review_scores_cleanliness  review_scores_checkin  \\\n",
       "0                    4.50                       5.00                   4.50   \n",
       "1                    4.57                       4.32                   4.69   \n",
       "2                     NaN                        NaN                    NaN   \n",
       "3                     NaN                        NaN                    NaN   \n",
       "4                     NaN                        NaN                    NaN   \n",
       "\n",
       "   review_scores_communication  review_scores_location  review_scores_value  \\\n",
       "0                         4.50                    4.50                 4.00   \n",
       "1                         4.59                    4.87                 4.39   \n",
       "2                          NaN                     NaN                  NaN   \n",
       "3                          NaN                     NaN                  NaN   \n",
       "4                          NaN                     NaN                  NaN   \n",
       "\n",
       "   instant_bookable  \n",
       "0                 f  \n",
       "1                 t  \n",
       "2                 t  \n",
       "3                 f  \n",
       "4                 f  \n",
       "\n",
       "[5 rows x 21 columns]"
      ]
     },
     "execution_count": 329,
     "metadata": {},
     "output_type": "execute_result"
    }
   ],
   "source": [
    "listings.head()"
   ]
  },
  {
   "cell_type": "code",
   "execution_count": null,
   "metadata": {},
   "outputs": [],
   "source": [
    "not_reviewed.join(listings, lefton = )"
   ]
  },
  {
   "cell_type": "code",
   "execution_count": 320,
   "metadata": {
    "scrolled": true
   },
   "outputs": [
    {
     "data": {
      "text/html": [
       "<div>\n",
       "<style scoped>\n",
       "    .dataframe tbody tr th:only-of-type {\n",
       "        vertical-align: middle;\n",
       "    }\n",
       "\n",
       "    .dataframe tbody tr th {\n",
       "        vertical-align: top;\n",
       "    }\n",
       "\n",
       "    .dataframe thead th {\n",
       "        text-align: right;\n",
       "    }\n",
       "</style>\n",
       "<table border=\"1\" class=\"dataframe\">\n",
       "  <thead>\n",
       "    <tr style=\"text-align: right;\">\n",
       "      <th></th>\n",
       "      <th>id</th>\n",
       "      <th>name</th>\n",
       "      <th>description</th>\n",
       "      <th>neighborhood_overview</th>\n",
       "      <th>host_is_superhost</th>\n",
       "      <th>host_identity_verified</th>\n",
       "      <th>neighbourhood_cleansed</th>\n",
       "      <th>property_type</th>\n",
       "      <th>room_type</th>\n",
       "      <th>accommodates</th>\n",
       "      <th>...</th>\n",
       "      <th>beds</th>\n",
       "      <th>amenities</th>\n",
       "      <th>review_scores_rating</th>\n",
       "      <th>review_scores_accuracy</th>\n",
       "      <th>review_scores_cleanliness</th>\n",
       "      <th>review_scores_checkin</th>\n",
       "      <th>review_scores_communication</th>\n",
       "      <th>review_scores_location</th>\n",
       "      <th>review_scores_value</th>\n",
       "      <th>instant_bookable</th>\n",
       "    </tr>\n",
       "  </thead>\n",
       "  <tbody>\n",
       "    <tr>\n",
       "      <th>0</th>\n",
       "      <td>5678774</td>\n",
       "      <td>Central Appartment</td>\n",
       "      <td>A very nice flat in the city center, really go...</td>\n",
       "      <td>NaN</td>\n",
       "      <td>f</td>\n",
       "      <td>t</td>\n",
       "      <td>NAVIGLI</td>\n",
       "      <td>Entire condo</td>\n",
       "      <td>Entire home/apt</td>\n",
       "      <td>4</td>\n",
       "      <td>...</td>\n",
       "      <td>1.0</td>\n",
       "      <td>[\"Wifi\", \"Hot water\", \"Washer\", \"Iron\", \"TV wi...</td>\n",
       "      <td>4.50</td>\n",
       "      <td>4.50</td>\n",
       "      <td>5.00</td>\n",
       "      <td>4.50</td>\n",
       "      <td>4.50</td>\n",
       "      <td>4.50</td>\n",
       "      <td>4.00</td>\n",
       "      <td>f</td>\n",
       "    </tr>\n",
       "    <tr>\n",
       "      <th>1</th>\n",
       "      <td>5625937</td>\n",
       "      <td>Fancy apt in historical building in Duomo Area...</td>\n",
       "      <td>T</td>\n",
       "      <td>NaN</td>\n",
       "      <td>f</td>\n",
       "      <td>t</td>\n",
       "      <td>DUOMO</td>\n",
       "      <td>Entire rental unit</td>\n",
       "      <td>Entire home/apt</td>\n",
       "      <td>4</td>\n",
       "      <td>...</td>\n",
       "      <td>2.0</td>\n",
       "      <td>[\"TV\", \"Wifi\", \"Hot water\", \"Washer\", \"Iron\", ...</td>\n",
       "      <td>4.38</td>\n",
       "      <td>4.57</td>\n",
       "      <td>4.32</td>\n",
       "      <td>4.69</td>\n",
       "      <td>4.59</td>\n",
       "      <td>4.87</td>\n",
       "      <td>4.39</td>\n",
       "      <td>t</td>\n",
       "    </tr>\n",
       "    <tr>\n",
       "      <th>2</th>\n",
       "      <td>6139798</td>\n",
       "      <td>Affitto casa per Expo</td>\n",
       "      <td>Affittasi casa periodo estivo. Vicinissima a E...</td>\n",
       "      <td>Il quartiere dispone di tutti i servizi, compr...</td>\n",
       "      <td>f</td>\n",
       "      <td>f</td>\n",
       "      <td>QUARTO OGGIARO</td>\n",
       "      <td>Entire rental unit</td>\n",
       "      <td>Entire home/apt</td>\n",
       "      <td>2</td>\n",
       "      <td>...</td>\n",
       "      <td>1.0</td>\n",
       "      <td>[\"TV with standard cable\", \"Washer\", \"Essentia...</td>\n",
       "      <td>NaN</td>\n",
       "      <td>NaN</td>\n",
       "      <td>NaN</td>\n",
       "      <td>NaN</td>\n",
       "      <td>NaN</td>\n",
       "      <td>NaN</td>\n",
       "      <td>NaN</td>\n",
       "      <td>t</td>\n",
       "    </tr>\n",
       "    <tr>\n",
       "      <th>3</th>\n",
       "      <td>7479570</td>\n",
       "      <td>Central Air-Conditioned Apartment</td>\n",
       "      <td>Fully equipped house in the historical center ...</td>\n",
       "      <td>NaN</td>\n",
       "      <td>f</td>\n",
       "      <td>t</td>\n",
       "      <td>GUASTALLA</td>\n",
       "      <td>Entire loft</td>\n",
       "      <td>Entire home/apt</td>\n",
       "      <td>4</td>\n",
       "      <td>...</td>\n",
       "      <td>3.0</td>\n",
       "      <td>[\"Washer\", \"Essentials\", \"Elevator\", \"Kitchen\"...</td>\n",
       "      <td>NaN</td>\n",
       "      <td>NaN</td>\n",
       "      <td>NaN</td>\n",
       "      <td>NaN</td>\n",
       "      <td>NaN</td>\n",
       "      <td>NaN</td>\n",
       "      <td>NaN</td>\n",
       "      <td>f</td>\n",
       "    </tr>\n",
       "    <tr>\n",
       "      <th>4</th>\n",
       "      <td>8438872</td>\n",
       "      <td>Bedroom for the weekend</td>\n",
       "      <td>Very close to the Central Train Station and me...</td>\n",
       "      <td>NaN</td>\n",
       "      <td>f</td>\n",
       "      <td>t</td>\n",
       "      <td>GRECO</td>\n",
       "      <td>Private room in rental unit</td>\n",
       "      <td>Private room</td>\n",
       "      <td>2</td>\n",
       "      <td>...</td>\n",
       "      <td>1.0</td>\n",
       "      <td>[\"TV\", \"Washer\", \"Iron\", \"Hair dryer\", \"Essent...</td>\n",
       "      <td>NaN</td>\n",
       "      <td>NaN</td>\n",
       "      <td>NaN</td>\n",
       "      <td>NaN</td>\n",
       "      <td>NaN</td>\n",
       "      <td>NaN</td>\n",
       "      <td>NaN</td>\n",
       "      <td>f</td>\n",
       "    </tr>\n",
       "  </tbody>\n",
       "</table>\n",
       "<p>5 rows × 21 columns</p>\n",
       "</div>"
      ],
      "text/plain": [
       "        id                                               name  \\\n",
       "0  5678774                                 Central Appartment   \n",
       "1  5625937  Fancy apt in historical building in Duomo Area...   \n",
       "2  6139798                              Affitto casa per Expo   \n",
       "3  7479570                  Central Air-Conditioned Apartment   \n",
       "4  8438872                            Bedroom for the weekend   \n",
       "\n",
       "                                         description  \\\n",
       "0  A very nice flat in the city center, really go...   \n",
       "1                                                  T   \n",
       "2  Affittasi casa periodo estivo. Vicinissima a E...   \n",
       "3  Fully equipped house in the historical center ...   \n",
       "4  Very close to the Central Train Station and me...   \n",
       "\n",
       "                               neighborhood_overview host_is_superhost  \\\n",
       "0                                                NaN                 f   \n",
       "1                                                NaN                 f   \n",
       "2  Il quartiere dispone di tutti i servizi, compr...                 f   \n",
       "3                                                NaN                 f   \n",
       "4                                                NaN                 f   \n",
       "\n",
       "  host_identity_verified neighbourhood_cleansed                property_type  \\\n",
       "0                      t                NAVIGLI                 Entire condo   \n",
       "1                      t                  DUOMO           Entire rental unit   \n",
       "2                      f         QUARTO OGGIARO           Entire rental unit   \n",
       "3                      t              GUASTALLA                  Entire loft   \n",
       "4                      t                  GRECO  Private room in rental unit   \n",
       "\n",
       "         room_type  accommodates  ...  beds  \\\n",
       "0  Entire home/apt             4  ...   1.0   \n",
       "1  Entire home/apt             4  ...   2.0   \n",
       "2  Entire home/apt             2  ...   1.0   \n",
       "3  Entire home/apt             4  ...   3.0   \n",
       "4     Private room             2  ...   1.0   \n",
       "\n",
       "                                           amenities review_scores_rating  \\\n",
       "0  [\"Wifi\", \"Hot water\", \"Washer\", \"Iron\", \"TV wi...                 4.50   \n",
       "1  [\"TV\", \"Wifi\", \"Hot water\", \"Washer\", \"Iron\", ...                 4.38   \n",
       "2  [\"TV with standard cable\", \"Washer\", \"Essentia...                  NaN   \n",
       "3  [\"Washer\", \"Essentials\", \"Elevator\", \"Kitchen\"...                  NaN   \n",
       "4  [\"TV\", \"Washer\", \"Iron\", \"Hair dryer\", \"Essent...                  NaN   \n",
       "\n",
       "   review_scores_accuracy  review_scores_cleanliness  review_scores_checkin  \\\n",
       "0                    4.50                       5.00                   4.50   \n",
       "1                    4.57                       4.32                   4.69   \n",
       "2                     NaN                        NaN                    NaN   \n",
       "3                     NaN                        NaN                    NaN   \n",
       "4                     NaN                        NaN                    NaN   \n",
       "\n",
       "   review_scores_communication  review_scores_location  review_scores_value  \\\n",
       "0                         4.50                    4.50                 4.00   \n",
       "1                         4.59                    4.87                 4.39   \n",
       "2                          NaN                     NaN                  NaN   \n",
       "3                          NaN                     NaN                  NaN   \n",
       "4                          NaN                     NaN                  NaN   \n",
       "\n",
       "   instant_bookable  \n",
       "0                 f  \n",
       "1                 t  \n",
       "2                 t  \n",
       "3                 f  \n",
       "4                 f  \n",
       "\n",
       "[5 rows x 21 columns]"
      ]
     },
     "execution_count": 320,
     "metadata": {},
     "output_type": "execute_result"
    }
   ],
   "source": [
    "listings.head()\n",
    "\n",
    "list(reviewer_df.loc['listing_id', 'listing_id'])"
   ]
  },
  {
   "cell_type": "code",
   "execution_count": 318,
   "metadata": {
    "scrolled": true
   },
   "outputs": [
    {
     "name": "stdout",
     "output_type": "stream",
     "text": [
      "reviewer_id: 157651921\n",
      "How many airbnb recommendations do you want? 3\n"
     ]
    },
    {
     "data": {
      "text/html": [
       "<div>\n",
       "<style scoped>\n",
       "    .dataframe tbody tr th:only-of-type {\n",
       "        vertical-align: middle;\n",
       "    }\n",
       "\n",
       "    .dataframe tbody tr th {\n",
       "        vertical-align: top;\n",
       "    }\n",
       "\n",
       "    .dataframe thead th {\n",
       "        text-align: right;\n",
       "    }\n",
       "</style>\n",
       "<table border=\"1\" class=\"dataframe\">\n",
       "  <thead>\n",
       "    <tr style=\"text-align: right;\">\n",
       "      <th></th>\n",
       "      <th>listing_id</th>\n",
       "      <th>date</th>\n",
       "      <th>reviewer_id</th>\n",
       "      <th>reviewer_name</th>\n",
       "      <th>comments</th>\n",
       "      <th>language</th>\n",
       "      <th>polarity</th>\n",
       "      <th>rec_scale</th>\n",
       "      <th>est_rating</th>\n",
       "    </tr>\n",
       "  </thead>\n",
       "  <tbody>\n",
       "    <tr>\n",
       "      <th>7399</th>\n",
       "      <td>552172641011665683</td>\n",
       "      <td>2022-03-07</td>\n",
       "      <td>36158582</td>\n",
       "      <td>Leïla</td>\n",
       "      <td>Great apartment, the location is optimal; the ...</td>\n",
       "      <td>en</td>\n",
       "      <td>0.493</td>\n",
       "      <td>5</td>\n",
       "      <td>5.922519</td>\n",
       "    </tr>\n",
       "    <tr>\n",
       "      <th>865</th>\n",
       "      <td>4828862</td>\n",
       "      <td>2015-08-20</td>\n",
       "      <td>20149003</td>\n",
       "      <td>Renato</td>\n",
       "      <td>Very Good</td>\n",
       "      <td>en</td>\n",
       "      <td>0.762</td>\n",
       "      <td>8</td>\n",
       "      <td>5.904171</td>\n",
       "    </tr>\n",
       "    <tr>\n",
       "      <th>2468</th>\n",
       "      <td>16747035</td>\n",
       "      <td>2018-11-29</td>\n",
       "      <td>26617627</td>\n",
       "      <td>Dan</td>\n",
       "      <td>Recommended for easy access to fashion distric...</td>\n",
       "      <td>en</td>\n",
       "      <td>0.603</td>\n",
       "      <td>7</td>\n",
       "      <td>5.855672</td>\n",
       "    </tr>\n",
       "  </tbody>\n",
       "</table>\n",
       "</div>"
      ],
      "text/plain": [
       "              listing_id        date  reviewer_id reviewer_name  \\\n",
       "7399  552172641011665683  2022-03-07     36158582         Leïla   \n",
       "865              4828862  2015-08-20     20149003        Renato   \n",
       "2468            16747035  2018-11-29     26617627           Dan   \n",
       "\n",
       "                                               comments language  polarity  \\\n",
       "7399  Great apartment, the location is optimal; the ...       en     0.493   \n",
       "865                                          Very Good        en     0.762   \n",
       "2468  Recommended for easy access to fashion distric...       en     0.603   \n",
       "\n",
       "     rec_scale  est_rating  \n",
       "7399         5    5.922519  \n",
       "865          8    5.904171  \n",
       "2468         7    5.855672  "
      ]
     },
     "execution_count": 318,
     "metadata": {},
     "output_type": "execute_result"
    }
   ],
   "source": [
    "#157651921 user\n",
    "rec_airbnbs()"
   ]
  },
  {
   "cell_type": "code",
   "execution_count": null,
   "metadata": {},
   "outputs": [],
   "source": []
  },
  {
   "cell_type": "markdown",
   "metadata": {},
   "source": []
  }
 ],
 "metadata": {
  "kernelspec": {
   "display_name": "Python (learn-env)",
   "language": "python",
   "name": "learn-env"
  },
  "language_info": {
   "codemirror_mode": {
    "name": "ipython",
    "version": 3
   },
   "file_extension": ".py",
   "mimetype": "text/x-python",
   "name": "python",
   "nbconvert_exporter": "python",
   "pygments_lexer": "ipython3",
   "version": "3.8.5"
  }
 },
 "nbformat": 4,
 "nbformat_minor": 4
}
